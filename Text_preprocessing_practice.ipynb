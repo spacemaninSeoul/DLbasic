{
  "nbformat": 4,
  "nbformat_minor": 0,
  "metadata": {
    "colab": {
      "name": "Text_preprocessing_practice.ipynb",
      "provenance": [],
      "authorship_tag": "ABX9TyPjvc0CoTZDX+TqCIwqjvlC",
      "include_colab_link": true
    },
    "kernelspec": {
      "name": "python3",
      "display_name": "Python 3"
    },
    "language_info": {
      "name": "python"
    }
  },
  "cells": [
    {
      "cell_type": "markdown",
      "metadata": {
        "id": "view-in-github",
        "colab_type": "text"
      },
      "source": [
        "<a href=\"https://colab.research.google.com/github/spacemaninSeoul/road_to_NLPmaster/blob/main/Text_preprocessing_practice.ipynb\" target=\"_parent\"><img src=\"https://colab.research.google.com/assets/colab-badge.svg\" alt=\"Open In Colab\"/></a>"
      ]
    },
    {
      "cell_type": "markdown",
      "source": [
        "텍스트 전처리는 풀고자 하는 문제의 용도에 맞게 텍스트를 사전에 처리하는 작업이다."
      ],
      "metadata": {
        "id": "iq33HTT5t6vq"
      }
    },
    {
      "cell_type": "markdown",
      "source": [
        "# 1. 토큰화(Tokenization)\n",
        "\n",
        "자연어 처리에서 크롤링 등으로 얻어낸 코퍼스 데이터가 필요에 맞게 전처리되지 않은 상태라면, 해당 데이터를 사용하고자하는 용도에 맞게 토큰화(tokenization) & 정제(cleaning) & 정규화(normalization) 하는 일을 하게 된다. 그 중에 토큰화에 대해 학습하도록 한다.\n",
        "\n",
        "토큰화(Tokenization)은 주어진 코퍼스(corpus)에서 토큰(token)이라 불리는 단위로 나누는 작업을 말한다. 토큰의 단위는 상황에 따라 다르긴 하나, 보통 의미있는 단위로 토큰을 정의한다."
      ],
      "metadata": {
        "id": "7SRoJnq8uAb0"
      }
    },
    {
      "cell_type": "markdown",
      "source": [
        "## 1) 단어 토큰화(Word Tokenization)\n",
        "\n",
        "토큰의 기준을 단어(word)로 하는 경우, 단어 토큰화(word tokenization)이라고 한다. 다만, 여기서 단어는 단어 단위 외에도 단어구, 의미를 갖는 문자열로도 간주되기도 한다.\n",
        "\n",
        "예시로 구두점(punctuation)과 같은 문자는 제외시키는 간단한 단어 토큰화 작업을 진행해보자. 구두점이란 마침표(.), 컴마(,), 물음표(?), 세미콜론(;), 느낌표(!) 등과 같은 기호를 말한다.\n",
        "\n",
        "입력: **Time is an illusion. Lunchtime double so!**\n",
        "\n",
        "이러한 입력으로부터 구두점을 제외시킨 토큰화 작업의 결과는 다음과 같다.\n",
        "\n",
        "출력 : \"Time\", \"is\", \"an\", \"illustion\", \"Lunchtime\", \"double\", \"so\"\n",
        "\n"
      ],
      "metadata": {
        "id": "YzW6Bc6Uursk"
      }
    },
    {
      "cell_type": "markdown",
      "source": [
        "## 2) 토큰화 중 생기는 선택의 순간\n",
        "\n",
        "토큰화를 하다보면, 예상치 못한 경우에 토큰화의 기준을 생각해봐야 하는 경우가 발생한다. 물론 이러한 선택은 해당 다이터를 가지고 어떤 용도로 사용할 것인지에 따라 그 용도에 영향이 없는 기준으로 정하면 된다.\n",
        "\n",
        "예를 들어 영어권 언어에서 아포스트로피를(')가 들어가있는 단어는 어떻게 토큰으로 분류해야 하는지에 대한 선택의 문제를 보여드리겠습니다.\n",
        "\n",
        "다음과 같은 문장이 있다고 해봅시다.\n",
        "\n",
        "**Don't be fooled by the dark sounding name, Mr. Jone's Orphanage is as cheery as cheery goes for a pastry shop.**\n",
        "\n",
        "아포스트로피가 들어간 상황에서 Don't와 Jone's는 어떻게 토큰화할 수 있을까? 다양한 선택지가 가능하다.\n",
        "\n",
        " - Don't\n",
        " - Don t\n",
        " - Dont\n",
        " - Do n't\n",
        " - Jone's\n",
        " - Jone s\n",
        " - Jone\n",
        " - Jones\n",
        "\n"
      ],
      "metadata": {
        "id": "3B_ReR_3vgM3"
      }
    },
    {
      "cell_type": "markdown",
      "source": [
        "이 중 사용자가 원하는 결과가 나오도록 토큰화 도구를 직접 설계할 수도 있겠지만, 기존에 공개된 도구들을 사용하였을 때의 결과가 사용자의 목적과 일치한다면 해당 도구를 사용할 수 있을 것이다. 그 중 NLTK는 영어 코퍼스를 토큰화하기 위한 도구들을 제공한다. 그 중 word_tokenize와 WordPunctTokenizer를 사용해서 아포스트로피를 어떻게 처리하는지 확인한다.\n",
        "\n"
      ],
      "metadata": {
        "id": "YnWArEc5wAHL"
      }
    },
    {
      "cell_type": "code",
      "source": [
        "import nltk\n",
        "nltk.download('punkt')\n"
      ],
      "metadata": {
        "colab": {
          "base_uri": "https://localhost:8080/"
        },
        "id": "fFiBjGptwiVx",
        "outputId": "8852205d-6a23-48dc-8d2b-be033c5b6036"
      },
      "execution_count": null,
      "outputs": [
        {
          "output_type": "stream",
          "name": "stdout",
          "text": [
            "[nltk_data] Downloading package punkt to /root/nltk_data...\n",
            "[nltk_data]   Package punkt is already up-to-date!\n"
          ]
        },
        {
          "output_type": "execute_result",
          "data": {
            "text/plain": [
              "True"
            ]
          },
          "metadata": {},
          "execution_count": 17
        }
      ]
    },
    {
      "cell_type": "code",
      "source": [
        "from nltk.tokenize import word_tokenize\n",
        "from nltk.tokenize import WordPunctTokenizer\n",
        "from tensorflow.keras.preprocessing.text import text_to_word_sequence"
      ],
      "metadata": {
        "id": "vTA5Hs4ct7FI"
      },
      "execution_count": null,
      "outputs": []
    },
    {
      "cell_type": "code",
      "execution_count": null,
      "metadata": {
        "colab": {
          "base_uri": "https://localhost:8080/"
        },
        "id": "IqHwHgZXt3eq",
        "outputId": "9f062013-3977-43c7-fc0e-273a8203e120"
      },
      "outputs": [
        {
          "output_type": "stream",
          "name": "stdout",
          "text": [
            "단어 토큰화1 :  ['Do', \"n't\", 'be', 'fooled', 'by', 'the', 'dark', 'sounding', 'name', ',', 'Mr.', 'Jone', \"'s\", 'Orphanage', 'is', 'as', 'cheery', 'as', 'cheery', 'goes', 'for', 'a', 'pastry', 'shop', '.']\n"
          ]
        }
      ],
      "source": [
        "print('단어 토큰화1 : ', word_tokenize(\"Don't be fooled by the dark sounding name, Mr. Jone's Orphanage is as cheery as cheery goes for a pastry shop.\"))"
      ]
    },
    {
      "cell_type": "markdown",
      "source": [
        "word_tokenie는 Don't를 Do와 n't로 분리하였으며, 반면 Jone's는 Jone과 's로 분리한 것을 확인할 수 있습니다. "
      ],
      "metadata": {
        "id": "gUg7F31iwyda"
      }
    },
    {
      "cell_type": "code",
      "source": [
        "print('단어 토큰화2 : ', WordPunctTokenizer().tokenize(\"Don't be fooled by the dark sounding name, Mr. Jone's Orphanage is as cheery as cheery goes for a pastry shop.\"))"
      ],
      "metadata": {
        "colab": {
          "base_uri": "https://localhost:8080/"
        },
        "id": "pc_AZ4Ryw2Dz",
        "outputId": "6f8b1003-93d5-4850-dffc-1a9779d867f5"
      },
      "execution_count": null,
      "outputs": [
        {
          "output_type": "stream",
          "name": "stdout",
          "text": [
            "단어 토큰화2 :  ['Don', \"'\", 't', 'be', 'fooled', 'by', 'the', 'dark', 'sounding', 'name', ',', 'Mr', '.', 'Jone', \"'\", 's', 'Orphanage', 'is', 'as', 'cheery', 'as', 'cheery', 'goes', 'for', 'a', 'pastry', 'shop', '.']\n"
          ]
        }
      ]
    },
    {
      "cell_type": "markdown",
      "source": [
        "WordPunctTokenizer는 구두점을 별도로 분류하는 특징을 갖고 있기때문에, 앞서 확인했던 word_tokenize와는 달리 Don't를 Don과 '와 t로 분리하였으며, 이와 마찬가지로 Jone's를 Jone과 '와 s로 분리한 것을 확인할 수 있습니다. 케라스 또한 토큰화 도구로서 text_to_word_sequence를 지원합니다.\n",
        "\n"
      ],
      "metadata": {
        "id": "l5e7GNTExFiz"
      }
    },
    {
      "cell_type": "code",
      "source": [
        "print('단어 토큰화3 : ', text_to_word_sequence(\"Don't be fooled by the dark sounding name, Mr. Jone's Orphanage is as cheery as cheery goes for a pastry shop.\"))"
      ],
      "metadata": {
        "colab": {
          "base_uri": "https://localhost:8080/"
        },
        "id": "5FvNyreOxGCE",
        "outputId": "d166fd84-4008-431c-dda0-521d7b1195ca"
      },
      "execution_count": null,
      "outputs": [
        {
          "output_type": "stream",
          "name": "stdout",
          "text": [
            "단어 토큰화3 :  [\"don't\", 'be', 'fooled', 'by', 'the', 'dark', 'sounding', 'name', 'mr', \"jone's\", 'orphanage', 'is', 'as', 'cheery', 'as', 'cheery', 'goes', 'for', 'a', 'pastry', 'shop']\n"
          ]
        }
      ]
    },
    {
      "cell_type": "markdown",
      "source": [
        "케라스의 text_to_word_sequence는 기본적으로 모든 알파벳을 소문자로 바꾸면서 마침표나 컴마, 느낌표 등의 구두점을 제거합니다. 하지만 don't나 jone's와 같은 경우 아포스트로피는 보존하는 것을 볼 수 있습니다.\n",
        "\n"
      ],
      "metadata": {
        "id": "moinQQjKxWLx"
      }
    },
    {
      "cell_type": "markdown",
      "source": [
        "## 3) 토큰화에서 고려해야 할 사항\n",
        "\n",
        "토큰화 작업을 단순하게 코퍼스에서 구두점을 제외하고 공백 기준으로 잘라내는 작업으로 치부할 수는 없습니다. 상당히 섬세한 알고리즘이 필요한데 그 이유를 정리해봅니다."
      ],
      "metadata": {
        "id": "6Q2wfoQTxXlX"
      }
    },
    {
      "cell_type": "markdown",
      "source": [
        "### (1) 구두점이나 특수 문자를 단순 제외해서는 안 된다.\n",
        "갖고있는 코퍼스에서 단어들을 걸러낼 때, 구두점이나 특수 문자를 단순히 제외하는 것은 옳지 않습니다. 코퍼스에 대한 정제 작업을 진행하다보면, 구두점조차도 하나의 토큰으로 분류하기도 합니다. 가장 기본적인 예를 들어보자면, 마침표(.)와 같은 경우는 문장의 경계를 알 수 있는데 도움이 되므로 단어를 뽑아낼 때, 마침표(.)를 제외하지 않을 수 있습니다.\n",
        "\n",
        "또 다른 예로 단어 자체에 구두점을 갖고 있는 경우도 있는데, m.p.h나 Ph.D나 AT&T 같은 경우가 있습니다. 또 특수 문자의 달러()나 슬래시(/)로 예를 들어보면, $45.55와 같은 가격을 의미 하기도 하고, 01/02/06은 날짜를 의미하기도 합니다. 보통 이런 경우 45.55를 하나로 취급하고 45와 55로 따로 분류하고 싶지는 않을 수 있습니다.\n",
        "\n",
        "숫자 사이에 컴마(,)가 들어가는 경우도 있습니다. 보통 수치를 표현할 때는 123,456,789와 같이 세 자리 단위로 컴마가 있습니다."
      ],
      "metadata": {
        "id": "VerIdc7IyG-v"
      }
    },
    {
      "cell_type": "markdown",
      "source": [
        "### (2) 줄임말과 단어 내에 띄어쓰기가 있는 경우.\n",
        "토큰화 작업에서 종종 영어권 언어의 아포스트로피(')는 압축된 단어를 다시 펼치는 역할을 하기도 합니다. 예를 들어 what're는 what are의 줄임말이며, we're는 we are의 줄임말입니다. 위의 예에서 re를 접어(clitic)이라고 합니다. 즉, 단어가 줄임말로 쓰일 때 생기는 형태를 말합니다. 가령 I am을 줄인 I'm이 있을 때, m을 접어라고 합니다.\n",
        "\n",
        "New York이라는 단어나 rock 'n' roll이라는 단어를 봅시다. 이 단어들은 하나의 단어이지만 중간에 띄어쓰기가 존재합니다. 사용 용도에 따라서, 하나의 단어 사이에 띄어쓰기가 있는 경우에도 하나의 토큰으로 봐야하는 경우도 있을 수 있으므로, 토큰화 작업은 저러한 단어를 하나로 인식할 수 있는 능력도 가져야합니다."
      ],
      "metadata": {
        "id": "j5CBSyWRyMyf"
      }
    },
    {
      "cell_type": "markdown",
      "source": [
        "### (3) 표준 토큰화 예제\n",
        "\n",
        "이해를 돕기 위해 표준으로 쓰이고 있는 토큰화 방법 중 하나인 Penn Treebank Tokenization의 규칙에 대해서 소개하고, 토큰화의 결과를 확인해보겠습니다.\n",
        "\n",
        " - 규칙 1. 하이픈으로 구성된 단어는 하나로 유지한다.\n",
        " - 규칙 2. doesn't와 같이 아포스트로피로 '접어'가 함께하는 단어는 분리해준다.\n",
        "\n",
        "해당 표준에 아래의 문장을 입력으로 넣어봅니다.\n",
        "\"Starting a home-based restaurant may be an ideal. it doesn't have a food chain or restaurant of their own.\"\n",
        "\n"
      ],
      "metadata": {
        "id": "CrTWgqhnxh6s"
      }
    },
    {
      "cell_type": "code",
      "source": [
        "from nltk import tokenize\n",
        "from nltk.tokenize import TreebankWordTokenizer\n",
        "\n",
        "tokenizer = TreebankWordTokenizer()\n",
        "\n",
        "text = \"Starting a home-based restaurant may be an ideal. it doesn't have a food chain or restaurant of their own.\"\n",
        "\n",
        "print('트리뱅크 워드토크나이저 : ', tokenizer.tokenize(text))"
      ],
      "metadata": {
        "colab": {
          "base_uri": "https://localhost:8080/"
        },
        "id": "s2cCi1jfytmC",
        "outputId": "51f41eb3-97cf-465a-d457-075f1ef357ad"
      },
      "execution_count": null,
      "outputs": [
        {
          "output_type": "stream",
          "name": "stdout",
          "text": [
            "트리뱅크 워드토크나이저 :  ['Starting', 'a', 'home-based', 'restaurant', 'may', 'be', 'an', 'ideal.', 'it', 'does', \"n't\", 'have', 'a', 'food', 'chain', 'or', 'restaurant', 'of', 'their', 'own', '.']\n"
          ]
        }
      ]
    },
    {
      "cell_type": "markdown",
      "source": [
        "결과를 보면, 각각 규칙1과 규칙2에 따라서 home-based는 하나의 토큰으로 취급하고 있으며, dosen't의 경우 does와 n't는 분리되었음을 볼 수 있습니다.\n",
        "\n"
      ],
      "metadata": {
        "id": "iWuTIFuVzKys"
      }
    },
    {
      "cell_type": "markdown",
      "source": [
        "## 4) 문장 토큰화(Sentence Tokenization)\n",
        "\n",
        "이번에는 토큰의 단위가 문장(sentence)일 경우를 논의해보겠습니다. 이 작업은 갖고있는 코퍼스 내에서 문장 단위로 구분하는 작업으로 때로는 문장 분류(sentence segmentation)라고도 부릅니다. 보통 갖고있는 코퍼스가 정제되지 않은 상태라면, 코퍼스는 문장 단위로 구분되어 있지 않아서 이를 사용하고자 하는 용도에 맞게 문장 토큰화가 필요할 수 있습니다.\n",
        "\n",
        "어떻게 주어진 코퍼스로부터 문장 단위로 분류할 수 있을까요? 직관적으로 생각해봤을 때는 ?나 마침표(.)나 ! 기준으로 문장을 잘라내면 되지 않을까라고 생각할 수 있지만, 꼭 그렇지만은 않습니다. !나 ?는 문장의 구분을 위한 꽤 명확한 구분자(boundary) 역할을 하지만 마침표는 그렇지 않기 때문입니다. 마침표는 문장의 끝이 아니더라도 등장할 수 있습니다.\n",
        "\n",
        "**EX1) IP 192.168.56.31 서버에 들어가서 로그 파일 저장해서 aaa@gmail.com로 결과 좀 보내줘. 그 후 점심 먹으러 가자.**\n",
        "\n",
        "**EX2) Since I'm actively looking for Ph.D. students, I get the same question a dozen times every year.**\n",
        "\n",
        "예를 들어 위의 예제에 마침표를 기준으로 문장 토큰화를 적용해본다면 어떨까요? 첫번째 예제에서는 보내줘.에서 그리고 두번째 예제에서는 year.에서 처음으로 문장이 끝난 것으로 인식하는 것이 제대로 문장의 끝을 예측했다고 볼 수 있습니다. 하지만 단순히 마침표(.)로 문장을 구분짓는다고 가정하면, 문장의 끝이 나오기 전에 이미 마침표가 여러번 등장하여 예상한 결과가 나오지 않게 됩니다.\n",
        "\n",
        "사용하는 코퍼스가 어떤 국적의 언어인지, 또는 해당 코퍼스 내에서 특수문자들이 어떻게 사용되고 있는지에 따라서 직접 규칙들을 정의해볼 수 있겠습니다. 100% 정확도를 얻는 일은 쉬운 일이 아닌데, 갖고있는 코퍼스 데이터에 오타나, 문장의 구성이 엉망이라면 정해놓은 규칙이 소용이 없을 수 있기 때문입니다.\n",
        "\n",
        "NLTK에서는 영어 문장의 토큰화를 수행하는 sent_tokenize를 지원하고 있습니다. NLTK를 통해 문장 토큰화를 실습해보겠습니다.\n",
        "\n"
      ],
      "metadata": {
        "id": "RurQJwZ2zMh8"
      }
    },
    {
      "cell_type": "code",
      "source": [
        "from nltk.tokenize import sent_tokenize\n",
        "\n",
        "text = \"His barber kept his word. But keeping such a huge secret to himself was driving him crazy. Finally, the barber went up a mountain and almost to the edge of a cliff. He dug a hole in the midst of some reeds. He looked about, to make sure no one was near.\"\n",
        "\n",
        "print('문장 토큰화1 : ', sent_tokenize(text))"
      ],
      "metadata": {
        "colab": {
          "base_uri": "https://localhost:8080/"
        },
        "id": "GAvKLTzbzvnv",
        "outputId": "b4a194ff-1962-468d-9ea7-08533972e420"
      },
      "execution_count": null,
      "outputs": [
        {
          "output_type": "stream",
          "name": "stdout",
          "text": [
            "문장 토큰화1 :  ['His barber kept his word.', 'But keeping such a huge secret to himself was driving him crazy.', 'Finally, the barber went up a mountain and almost to the edge of a cliff.', 'He dug a hole in the midst of some reeds.', 'He looked about, to make sure no one was near.']\n"
          ]
        }
      ]
    },
    {
      "cell_type": "markdown",
      "source": [
        "위 코드는 text에 저장된 여러 개의 문장들로부터 문장을 구분하는 코드입니다. 출력 결과를 보면 성공적으로 모든 문장을 구분해내었음을 볼 수 있습니다. 그렇다면 이번에는 문장 중간에 마침표가 다수 등장하는 경우에 대해서도 실습해보겠습니다.\n",
        "\n"
      ],
      "metadata": {
        "id": "nHCGFanDz_F4"
      }
    },
    {
      "cell_type": "code",
      "source": [
        "text = \"I am actively looking for Ph.D. students. and you are a Ph.D student.\"\n",
        "\n",
        "print('문장 토큰화2 : ', sent_tokenize(text))"
      ],
      "metadata": {
        "colab": {
          "base_uri": "https://localhost:8080/"
        },
        "id": "FnJwaqSr0ArI",
        "outputId": "bde4a859-7dd0-484b-e5c9-785ab001531d"
      },
      "execution_count": null,
      "outputs": [
        {
          "output_type": "stream",
          "name": "stdout",
          "text": [
            "문장 토큰화2 :  ['I am actively looking for Ph.D. students.', 'and you are a Ph.D student.']\n"
          ]
        }
      ]
    },
    {
      "cell_type": "markdown",
      "source": [
        "NLTK는 단순히 마침표를 구분자로 하여 문장을 구분하지 않았기 때문에, Ph.D.를 문장 내의 단어로 인식하여 성공적으로 인식하는 것을 볼 수 있습니다. 한국어에 대한 문장 토큰화 도구 또한 존재합니다. 한국어의 경우에는 박상길님이 개발한 KSS(Korean Sentence Splitter)를 추천합니다. 다음과 같이 KSS를 설치합니다.\n",
        "\n"
      ],
      "metadata": {
        "id": "UBZzExtt5Jj0"
      }
    },
    {
      "cell_type": "code",
      "source": [
        "pip install kss"
      ],
      "metadata": {
        "colab": {
          "base_uri": "https://localhost:8080/"
        },
        "id": "BM1eaW7Y5KZB",
        "outputId": "536c8116-7862-4368-a4af-dd05def5731d"
      },
      "execution_count": null,
      "outputs": [
        {
          "output_type": "stream",
          "name": "stdout",
          "text": [
            "Requirement already satisfied: kss in /usr/local/lib/python3.7/dist-packages (3.4.2)\n",
            "Requirement already satisfied: regex in /usr/local/lib/python3.7/dist-packages (from kss) (2019.12.20)\n",
            "Requirement already satisfied: more-itertools in /usr/local/lib/python3.7/dist-packages (from kss) (8.12.0)\n",
            "Requirement already satisfied: emoji in /usr/local/lib/python3.7/dist-packages (from kss) (1.7.0)\n"
          ]
        }
      ]
    },
    {
      "cell_type": "code",
      "source": [
        "import kss\n",
        "\n",
        "text = '딥 러닝 자연어 처리가 재미있기는 합니다. 그런데 문제는 영어보다 한국어로 할 때 너무 어렵습니다. 이제 해보면 알걸요?'\n",
        "\n",
        "print('한국어 문장 토큰화 : ', kss.split_sentences(text))"
      ],
      "metadata": {
        "colab": {
          "base_uri": "https://localhost:8080/"
        },
        "id": "LZJXeG_m5jMP",
        "outputId": "ea293d21-a0bc-4d49-b80f-1aca3c6c7e62"
      },
      "execution_count": null,
      "outputs": [
        {
          "output_type": "stream",
          "name": "stdout",
          "text": [
            "한국어 문장 토큰화 :  ['딥 러닝 자연어 처리가 재미있기는 합니다.', '그런데 문제는 영어보다 한국어로 할 때 너무 어렵습니다.', '이제 해보면 알걸요?']\n"
          ]
        }
      ]
    },
    {
      "cell_type": "markdown",
      "source": [
        "## 5) 한국어에서의 토큰화의 어려움\n",
        "\n",
        "영어는 New York과 같은 합성어나 he's 와 같이 줄임말에 대한 예외처리만 한다면, 띄어쓰기(whitespace)를 기준으로 하는 띄어쓰기 토큰화를 수행해도 단어 토큰화가 잘 작동합니다. 거의 대부분의 경우에서 단어 단위로 띄어쓰기가 이루어지기 때문에 띄어쓰기 토큰화와 단어 토큰화가 거의 같기 때문입니다.\n",
        "\n",
        "하지만 한국어는 영어와는 달리 띄어쓰기만으로는 토큰화를 하기에 부족합니다. 한국어의 경우에는 띄어쓰기 단위가 되는 단위를 '어절'이라고 하는데 어절 토큰화는 한국어 NLP에서 지양되고 있습니다. 어절 토큰화와 단어 토큰화는 같지 않기 때문입니다. 그 근본적인 이유는 한국어가 영어와는 다른 형태를 가지는 언어인 교착어라는 점에서 기인합니다. 교착어란 조사, 어미 등을 붙여서 말을 만드는 언어를 말합니다.\n",
        "\n"
      ],
      "metadata": {
        "id": "CRf9gcQ85yqQ"
      }
    },
    {
      "cell_type": "markdown",
      "source": [
        "### (1) 교착어의 특성\n",
        "\n",
        "교착어란 언어의 형태적 유형의 하나. 실질적인 의미를 가진 단어 또는 어간에 문법적인 기능을 가진 요소가 차례로 결합함으로써 문장 속에서의 문법적인 역할이나 관계의 차이를 나타내는 언어로, 한국어ㆍ터키어ㆍ일본어ㆍ핀란드어 따위가 여기에 속한다.\n"
      ],
      "metadata": {
        "id": "xnwZgGyO57Hm"
      }
    },
    {
      "cell_type": "markdown",
      "source": [
        "예를 들어봅시다. 영어와는 달리 한국어에는 조사라는 것이 존재합니다. 예를 들어 한국어에 그(he/him)라는 주어나 목적어가 들어간 문장이 있다고 합시다. 이 경우, 그라는 단어 하나에도 '그가', '그에게', '그를', '그와', '그는'과 같이 다양한 조사가 '그'라는 글자 뒤에 띄어쓰기 없이 바로 붙게됩니다. 자연어 처리를 하다보면 같은 단어임에도 서로 다른 조사가 붙어서 다른 단어로 인식이 되면 자연어 처리가 힘들고 번거로워지는 경우가 많습니다. 대부분의 한국어 NLP에서 조사는 분리해줄 필요가 있습니다.\n",
        "\n",
        "띄어쓰기 단위가 영어처럼 독립적인 단어라면 띄어쓰기 단위로 토큰화를 하면 되겠지만 한국어는 어절이 독립적인 단어로 구성되는 것이 아니라 조사 등의 무언가가 붙어있는 경우가 많아서 이를 전부 분리해줘야 한다는 의미입니다.\n",
        "\n",
        "한국어 토큰화에서는 **형태소(morpheme)** 란 개념을 반드시 이해해야 합니다. 형태소(morpheme)란 뜻을 가진 가장 작은 말의 단위를 말합니다. 이 형태소에는 두 가지 형태소가 있는데 자립 형태소와 의존 형태소입니다.\n",
        "\n",
        " - **자립 형태소** : 접사, 어미, 조사와 상관없이 자립하여 사용할 수 있는 형태소. 그 자체로 단어가 된다. 체언(명사, 대명사, 수사), 수식언(관형사, 부사), 감탄사 등이 있다.\n",
        " - **의존 형태소** : 다른 형태소와 결합하여 사용되는 형태소. 접사, 어미, 조사, 어간를 말한다.\n",
        "예를 들어 다음과 같은 문장이 있다고 합시다.\n",
        "\n",
        " - 문장 : 에디가 책을 읽었다\n",
        "이 문장을 띄어쓰기 단위 토큰화를 수행한다면 다음과 같은 결과를 얻습니다.\n",
        "\n",
        " - ['에디가', '책을', '읽었다']\n",
        "하지만 이를 형태소 단위로 분해하면 다음과 같습니다.\n",
        "\n",
        "자립 형태소 : 에디, 책\n",
        "의존 형태소 : -가, -을, 읽-, -었, -다\n",
        "\n",
        "'에디'라는 사람 이름과 '책'이라는 명사를 얻어낼 수 있습니다. 이를 통해 유추할 수 있는 것은 한국어에서 영어에서의 단어 토큰화와 유사한 형태를 얻으려면 어절 토큰화가 아니라 형태소 토큰화를 수행해야한다는 겁니다.\n",
        "\n"
      ],
      "metadata": {
        "id": "oBCpZb0d6d37"
      }
    },
    {
      "cell_type": "markdown",
      "source": [
        "### (2) 한국어는 띄어쓰기가 영어보다 잘 지켜지지 않는다.\n",
        "\n",
        "사용하는 한국어 코퍼스가 뉴스 기사와 같이 띄어쓰기를 철저하게 지키려고 노력하는 글이라면 좋겠지만, 많은 경우에 띄어쓰기가 틀렸거나 지켜지지 않는 코퍼스가 많습니다.\n",
        "\n",
        "한국어는 영어권 언어와 비교하여 띄어쓰기가 어렵고 잘 지켜지지 않는 경향이 있습니다. 그 이유는 여러 견해가 있으나, 가장 기본적인 견해는 한국어의 경우 띄어쓰기가 지켜지지 않아도 글을 쉽게 이해할 수 있는 언어라는 점입니다. 띄어쓰기가 없던 한국어에 띄어쓰기가 보편화된 것도 근대(1933년, 한글맞춤법통일안)의 일입니다. 띄어쓰기를 전혀 하지 않은 한국어와 영어 두 가지 경우를 봅시다.\n",
        "\n",
        "**EX1) 제가이렇게띄어쓰기를전혀하지않고글을썼다고하더라도글을이해할수있습니다.**\n",
        "\n",
        "**EX2) Tobeornottobethatisthequestion**\n",
        "\n",
        "영어의 경우에는 띄어쓰기를 하지 않으면 손쉽게 알아보기 어려운 문장들이 생깁니다. 이는 한국어(모아쓰기 방식)와 영어(풀어쓰기 방식)라는 언어적 특성의 차이에 기인합니다. 이 책에서는 모아쓰기와 풀어쓰기에 대한 설명은 하지 않겠습니다. 다만, 결론적으로 한국어는 수많은 코퍼스에서 띄어쓰기가 무시되는 경우가 많아 자연어 처리가 어려워졌다는 것입니다.\n",
        "\n",
        "\n"
      ],
      "metadata": {
        "id": "97yYvE_T7FoX"
      }
    },
    {
      "cell_type": "markdown",
      "source": [
        "## 6) 품사 태깅(Part-of-speech tagging)\n",
        "\n",
        "단어는 표기는 같지만 품사에 따라서 단어의 의미가 달라지기도 합니다. 예를 들어서 영어 단어 'fly'는 동사로는 '날다'라는 의미를 갖지만, 명사로는 '파리'라는 의미를 갖고있습니다. 한국어도 마찬가지입니다. '못'이라는 단어는 명사로서는 망치를 사용해서 목재 따위를 고정하는 물건을 의미합니다. 하지만 부사로서의 '못'은 '먹는다', '달린다'와 같은 동작 동사를 할 수 없다는 의미로 쓰입니다. 결국 단어의 의미를 제대로 파악하기 위해서는 해당 단어가 어떤 품사로 쓰였는지 보는 것이 주요 지표가 될 수도 있습니다. 그에 따라 단어 토큰화 과정에서 각 단어가 어떤 품사로 쓰였는지를 구분해놓기도 하는데, 이 작업을 품사 태깅(part-of-speech tagging)이라고 합니다. NLTK와 KoNLPy를 통해 품사 태깅 실습을 진행합니다.\n",
        "\n"
      ],
      "metadata": {
        "id": "TqJIZcPN7mU6"
      }
    },
    {
      "cell_type": "markdown",
      "source": [
        "## 7) NLTK와 KoNLPy를 이용한 영어, 한국어 토큰화 실습\n",
        "\n",
        "NLTK에서는 Penn Treebank POS Tags라는 기준을 사용하여 품사를 태깅합니다."
      ],
      "metadata": {
        "id": "R5CbBxtL7w_q"
      }
    },
    {
      "cell_type": "code",
      "source": [
        "nltk.download('averaged_perceptron_tagger')"
      ],
      "metadata": {
        "colab": {
          "base_uri": "https://localhost:8080/"
        },
        "id": "qgUPEBzV8gOK",
        "outputId": "73cf2f06-2e7e-4c48-adf1-4949bb85fd5c"
      },
      "execution_count": null,
      "outputs": [
        {
          "output_type": "stream",
          "name": "stdout",
          "text": [
            "[nltk_data] Downloading package averaged_perceptron_tagger to\n",
            "[nltk_data]     /root/nltk_data...\n",
            "[nltk_data]   Unzipping taggers/averaged_perceptron_tagger.zip.\n"
          ]
        },
        {
          "output_type": "execute_result",
          "data": {
            "text/plain": [
              "True"
            ]
          },
          "metadata": {},
          "execution_count": 28
        }
      ]
    },
    {
      "cell_type": "code",
      "source": [
        "from nltk.tokenize import word_tokenize\n",
        "from nltk.tag import pos_tag\n",
        "\n",
        "text = \"I am actively looking for Ph.D. students. and you are a Ph.D. student.\"\n",
        "tokenized_sentence = word_tokenize(text)\n",
        "  \n",
        "print('단어 토큰화 : ', tokenized_sentence)\n",
        "print('품사 태깅 : ', pos_tag(tokenized_sentence))"
      ],
      "metadata": {
        "colab": {
          "base_uri": "https://localhost:8080/"
        },
        "id": "UCQXC6Mg8DWP",
        "outputId": "b281871e-293e-4a2c-ded6-64b3e2a052ca"
      },
      "execution_count": null,
      "outputs": [
        {
          "output_type": "stream",
          "name": "stdout",
          "text": [
            "단어 토큰화 :  ['I', 'am', 'actively', 'looking', 'for', 'Ph.D.', 'students', '.', 'and', 'you', 'are', 'a', 'Ph.D.', 'student', '.']\n",
            "품사 태깅 :  [('I', 'PRP'), ('am', 'VBP'), ('actively', 'RB'), ('looking', 'VBG'), ('for', 'IN'), ('Ph.D.', 'NNP'), ('students', 'NNS'), ('.', '.'), ('and', 'CC'), ('you', 'PRP'), ('are', 'VBP'), ('a', 'DT'), ('Ph.D.', 'NNP'), ('student', 'NN'), ('.', '.')]\n"
          ]
        }
      ]
    },
    {
      "cell_type": "markdown",
      "source": [
        "영어 문장에 대해서 토큰화를 수행한 결과를 입력으로 품사 태깅을 수행하였습니다. Penn Treebank POG Tags에서 PRP는 인칭 대명사, VBP는 동사, RB는 부사, VBG는 현재부사, IN은 전치사, NNP는 고유 명사, NNS는 복수형 명사, CC는 접속사, DT는 관사를 의미합니다.\n",
        "\n"
      ],
      "metadata": {
        "id": "q5s--9wz8B3R"
      }
    },
    {
      "cell_type": "markdown",
      "source": [
        "한국어 자연어 처리를 위해서는 KoNLPy(코엔엘파이)라는 파이썬 패키지를 사용할 수 있습니다. 코엔엘파이를 통해서 사용할 수 있는 형태소 분석기로 Okt(Open Korea Text), 메캅(Mecab), 코모란(Komoran), 한나눔(Hannanum), 꼬꼬마(Kkma)가 있습니다.\n",
        "\n",
        "한국어 NLP에서 형태소 분석기를 사용하여 단어 토큰화. 더 정확히는 형태소 토큰화(morpheme tokenization)를 수행해보겠습니다. 여기서는 Okt와 꼬꼬마 두 개의 형태소 분석기를 사용하여 토큰화를 수행하겠습니다.\n",
        "\n"
      ],
      "metadata": {
        "id": "fy-5I5Ak8zFr"
      }
    },
    {
      "cell_type": "code",
      "source": [
        "pip insatall konlpy"
      ],
      "metadata": {
        "colab": {
          "base_uri": "https://localhost:8080/"
        },
        "id": "CvOYa-Gh9Sf9",
        "outputId": "3fa8cf86-a3e6-41aa-fb25-3c00dfd39f20"
      },
      "execution_count": null,
      "outputs": [
        {
          "output_type": "stream",
          "name": "stdout",
          "text": [
            "Collecting konlpy\n",
            "  Downloading konlpy-0.6.0-py2.py3-none-any.whl (19.4 MB)\n",
            "\u001b[K     |████████████████████████████████| 19.4 MB 3.2 MB/s \n",
            "\u001b[?25hRequirement already satisfied: numpy>=1.6 in /usr/local/lib/python3.7/dist-packages (from konlpy) (1.21.5)\n",
            "Requirement already satisfied: lxml>=4.1.0 in /usr/local/lib/python3.7/dist-packages (from konlpy) (4.2.6)\n",
            "Collecting JPype1>=0.7.0\n",
            "  Downloading JPype1-1.3.0-cp37-cp37m-manylinux_2_5_x86_64.manylinux1_x86_64.whl (448 kB)\n",
            "\u001b[K     |████████████████████████████████| 448 kB 49.3 MB/s \n",
            "\u001b[?25hRequirement already satisfied: typing-extensions in /usr/local/lib/python3.7/dist-packages (from JPype1>=0.7.0->konlpy) (3.10.0.2)\n",
            "Installing collected packages: JPype1, konlpy\n",
            "Successfully installed JPype1-1.3.0 konlpy-0.6.0\n"
          ]
        }
      ]
    },
    {
      "cell_type": "code",
      "source": [
        "from konlpy.tag import Okt\n",
        "from konlpy.tag import Kkma\n",
        "\n",
        "okt = Okt()\n",
        "kkma = Kkma()\n",
        "\n",
        "print('OKT 형태소 분석 : ', okt.morphs(\"열심히 코딩한 당신, 연휴에는 여행을 가봐요\"))\n",
        "print('OKT 품사 태깅 : ', okt.pos(\"열심히 코딩한 당신, 연휴에는 여행을 가봐요\"))\n",
        "print('OKT 명사 추출 : ', okt.nouns(\"열심히 코딩한 당신, 연휴에는 여행을 가봐요\"))"
      ],
      "metadata": {
        "colab": {
          "base_uri": "https://localhost:8080/"
        },
        "id": "ocqMG8ZU84O2",
        "outputId": "51e3eadc-e280-4e12-f315-ef146b54ffd6"
      },
      "execution_count": null,
      "outputs": [
        {
          "output_type": "stream",
          "name": "stdout",
          "text": [
            "OKT 형태소 분석 :  ['열심히', '코딩', '한', '당신', ',', '연휴', '에는', '여행', '을', '가봐요']\n",
            "OKT 품사 태깅 :  [('열심히', 'Adverb'), ('코딩', 'Noun'), ('한', 'Josa'), ('당신', 'Noun'), (',', 'Punctuation'), ('연휴', 'Noun'), ('에는', 'Josa'), ('여행', 'Noun'), ('을', 'Josa'), ('가봐요', 'Verb')]\n",
            "OKT 명사 추출 :  ['코딩', '당신', '연휴', '여행']\n"
          ]
        }
      ]
    },
    {
      "cell_type": "markdown",
      "source": [
        "위의 예제는 Okt 형태소 분석기로 토큰화를 시도해본 예제입니다. 각각의 메소드는 아래와 같은 기능을 갖고 있습니다.\n",
        "\n",
        "  1) morphs : 형태소 추출\n",
        "\n",
        "  2) pos : 품사 태깅(Part-of-speech tagging)\n",
        "  \n",
        "  3) nouns : 명사 추출\n",
        "\n",
        "앞서 언급한 코엔엘파이의 형태소 분석기들은 공통적으로 이 메소드들을 제공하고 있습니다. 위 예제에서 형태소 추출과 품사 태깅 메소드의 결과를 보면 조사를 기본적으로 분리하고 있음을 확인할 수 있습니다. 한국어 NLP에서 전처리에 형태소 분석기를 사용하는 것은 굉장히 유용합니다. 이번에는 꼬꼬마 형태소 분석기를 사용하여 같은 문장에 대해서 토큰화를 진행해봅시다.\n",
        "\n"
      ],
      "metadata": {
        "id": "sOHLxdCK97a1"
      }
    },
    {
      "cell_type": "code",
      "source": [
        "print('꼬꼬마 형태소 분석 : ', kkma.morphs(\"열심히 코딩한 당신, 연휴에는 여행을 가봐요\"))\n",
        "print('꼬꼬마 품사 태깅 : ', kkma.pos(\"열심히 코딩한 당신, 연휴에는 여행을 가봐요\"))\n",
        "print('꼬꼬마 명사 추출 : ', kkma.nouns(\"열심히 코딩한 당신, 연휴에는 여행을 가봐요\"))"
      ],
      "metadata": {
        "colab": {
          "base_uri": "https://localhost:8080/"
        },
        "id": "BudIRZeS-Cnm",
        "outputId": "941f4ddc-e4e8-4df9-9413-23fde826da32"
      },
      "execution_count": null,
      "outputs": [
        {
          "output_type": "stream",
          "name": "stdout",
          "text": [
            "꼬꼬마 형태소 분석 :  ['열심히', '코딩', '하', 'ㄴ', '당신', ',', '연휴', '에', '는', '여행', '을', '가보', '아요']\n",
            "꼬꼬마 품사 태깅 :  [('열심히', 'MAG'), ('코딩', 'NNG'), ('하', 'XSV'), ('ㄴ', 'ETD'), ('당신', 'NP'), (',', 'SP'), ('연휴', 'NNG'), ('에', 'JKM'), ('는', 'JX'), ('여행', 'NNG'), ('을', 'JKO'), ('가보', 'VV'), ('아요', 'EFN')]\n",
            "꼬꼬마 명사 추출 :  ['코딩', '당신', '연휴', '여행']\n"
          ]
        }
      ]
    },
    {
      "cell_type": "markdown",
      "source": [
        "앞서 사용한 Okt 형태소 분석기와 결과가 다른 것을 볼 수 있습니다. 각 형태소 분석기는 성능과 결과가 다르게 나오기 때문에, 형태소 분석기의 선택은 사용하고자 하는 필요 용도에 어떤 형태소 분석기가 가장 적절한지를 판단하고 사용하면 됩니다. 예를 들어서 속도를 중시한다면 메캅을 사용할 수 있습니다.\n",
        "\n"
      ],
      "metadata": {
        "id": "G6wjgRgX-e7q"
      }
    },
    {
      "cell_type": "markdown",
      "source": [
        "# 2. 정제(Cleaning) and 정규화(Normalization)\n",
        "\n",
        "코퍼스에서 용도에 맞게 토큰을 분류하는 작업을 **토큰화(tokenization)**라고 하며, 토큰화 작업 전, 후에는 텍스트 데이터를 용도에 맞게 정제(cleaning) 및 정규화(normalization)하는 일이 항상 함께합니다. 정제 및 정규화의 목적은 각각 다음과 같습니다.\n",
        "\n",
        "- **정제(cleaning)** : 갖고 있는 코퍼스로부터 노이즈 데이터를 제거한다.\n",
        "- **정규화(normalization)** : 표현 방법이 다른 단어들을 통합시켜서 같은 단어로 만들어준다.\n",
        "\n",
        "정제 작업은 토큰화 작업에 방해가 되는 부분들을 배제시키고 토큰화 작업을 수행하기 위해서 토큰화 작업보다 앞서 이루어지기도 하지만, 토큰화 작업 이후에도 여전히 남아있는 노이즈들을 제거하기위해 지속적으로 이루어지기도 합니다. 사실 완벽한 정제 작업은 어려운 편이라서, 대부분의 경우 이 정도면 됐다.라는 일종의 합의점을 찾기도 합니다.\n",
        "\n"
      ],
      "metadata": {
        "id": "V8xG5Y6b-juX"
      }
    },
    {
      "cell_type": "markdown",
      "source": [
        "## 1) 규칙에 기반한 표기가 다른 단어들의 통합\n",
        "\n",
        "필요에 따라 직접 코딩을 통해 정의할 수 있는 정규화 규칙의 예로서 같은 의미를 갖고있음에도, 표기가 다른 단어들을 하나의 단어로 정규화하는 방법을 사용할 수 있습니다.\n",
        "\n",
        "가령, USA와 US는 같은 의미를 가지므로 하나의 단어로 정규화해볼 수 있습니다. uh-huh와 uhhuh는 형태는 다르지만 여전히 같은 의미를 갖고 있습니다. 이러한 정규화를 거치게 되면, US를 찾아도 USA도 함께 찾을 수 있을 것입니다. 뒤에서 표기가 다른 단어들을 통합하는 방법인 어간 추출(stemming)과 표제어 추출(lemmatizaiton)에 대해서 더 자세히 알아봅니다.\n",
        "\n",
        "\n"
      ],
      "metadata": {
        "id": "oTO9Lttk_GSH"
      }
    },
    {
      "cell_type": "markdown",
      "source": [
        "## 2) 대, 소문자 통합\n",
        "\n",
        "영어권 언어에서 대, 소문자를 통합하는 것은 단어의 개수를 줄일 수 있는 또 다른 정규화 방법입니다. 영어권 언어에서 대문자는 문장의 맨 앞 등과 같은 특정 상황에서만 쓰이고, 대부분의 글은 소문자로 작성되기 때문에 대, 소문자 통합 작업은 대부분 대문자를 소문자로 변환하는 소문자 변환작업으로 이루어지게 됩니다.\n",
        "\n",
        "소문자 변환이 왜 유용한지 예를 들어보도록 하겠습니다. 가령, Automobile이라는 단어가 문장의 첫 단어였기때문에 A가 대문자였다고 생각해봅시다. 여기에 소문자 변환을 사용하면, automobile을 찾는 질의(query)의 결과로서 Automobile도 찾을 수 있게 됩니다. 검색 엔진에서 사용자가 페라리 차량에 관심이 있어서 페라리를 검색해본다고 합시다. 엄밀히 말해서 사실 사용자가 검색을 통해 찾고자하는 결과는 a Ferrari car라고 봐야합니다. 하지만 검색 엔진은 소문자 변환을 적용했을 것이기 때문에 ferrari만 쳐도 원하는 결과를 얻을 수 있을 것입니다.\n",
        "\n",
        "물론 대문자와 소문자를 무작정 통합해서는 안 됩니다. 대문자와 소문자가 구분되어야 하는 경우도 있습니다. 가령 미국을 뜻하는 단어 US와 우리를 뜻하는 us는 구분되어야 합니다. 또 회사 이름(General Motors)나, 사람 이름(Bush) 등은 대문자로 유지되는 것이 옳습니다.\n",
        "\n",
        "모든 토큰을 소문자로 만드는 것이 문제를 가져온다면, 또 다른 대안은 일부만 소문자로 변환시키는 방법도 있습니다. 가령, 이런 규칙은 어떨까요? 문장의 맨 앞에서 나오는 단어의 대문자만 소문자로 바꾸고, 다른 단어들은 전부 대문자인 상태로 놔두는 것입니다.\n",
        "\n",
        "이러한 작업은 더 많은 변수를 사용해서 소문자 변환을 언제 사용할지 결정하는 머신 러닝 시퀀스 모델로 더 정확하게 진행시킬 수 있습니다. 하지만 만약 올바른 대문자 단어를 얻고 싶은 상황에서 훈련에 사용하는 코퍼스가 사용자들이 단어의 대문자, 소문자의 올바른 사용 방법과 상관없이 소문자를 사용하는 사람들로부터 나온 데이터라면 이러한 방법 또한 그다지 도움이 되지 않을 수 있습니다. 결국에는 예외 사항을 크게 고려하지 않고, 모든 코퍼스를 소문자로 바꾸는 것이 종종 더 실용적인 해결책이 되기도 합니다."
      ],
      "metadata": {
        "id": "2bZ8VhqdASFf"
      }
    },
    {
      "cell_type": "markdown",
      "source": [
        "## 3) 불필요한 단어의 제거\n",
        "\n",
        "정제 작업에서 제거해야하는 **노이즈 데이터(noise data)**는 자연어가 아니면서 아무 의미도 갖지 않는 글자들(특수 문자 등)을 의미하기도 하지만, 분석하고자 하는 목적에 맞지 않는 불필요 단어들을 노이즈 데이터라고 하기도 합니다.\n",
        "\n",
        "불필요 단어들을 제거하는 방법으로는 불용어 제거와 등장 빈도가 적은 단어, 길이가 짧은 단어들을 제거하는 방법이 있습니다. 불용어 제거는 불용어 챕터에서 더욱 자세히 다루기로 하고, 여기서는 등장 빈도가 적은 단어와 길이가 짧은 단어를 제거하는 경우에 대해서 간략히 설명하겠습니다.\n",
        "\n"
      ],
      "metadata": {
        "id": "s4GJUhOcAvkb"
      }
    },
    {
      "cell_type": "markdown",
      "source": [
        "### (1) 등장 빈도가 적은 단어\n",
        "\n",
        "때로는 텍스트 데이터에서 너무 적게 등장해서 자연어 처리에 도움이 되지 않는 단어들이 존재합니다. 예를 들어 입력된 메일이 정상 메일인지 스팸 메일인지를 분류하는 스팸 메일 분류기를 설계한다고 가정해보겠습니다. 총 100,000개의 메일을 가지고 정상 메일에서는 어떤 단어들이 주로 등장하고, 스팸 메일에서는 어떤 단어들이 주로 등장하는지를 가지고 설계하고자 합니다. 그런데 이때 100,000개의 메일 데이터에서 총 합 5번 밖에 등장하지 않은 단어가 있다면 이 단어는 직관적으로 분류에 거의 도움이 되지 않을 것임을 알 수 있습니다.\n",
        "\n",
        "\n"
      ],
      "metadata": {
        "id": "z4cVU2grA6UA"
      }
    },
    {
      "cell_type": "markdown",
      "source": [
        "### (2) 등장 빈도가 적은 단어\n",
        "\n",
        "영어권 언어에서는 길이가 짧은 단어를 삭제하는 것만으로도 어느정도 자연어 처리에서 크게 의미가 없는 단어들을 제거하는 효과를 볼 수 있다고 알려져 있습니다. 즉, 영어권 언어에서 길이가 짧은 단어들은 대부분 불용어에 해당됩니다. 사실 길이가 짧은 단어를 제거하는 2차 이유는 길이를 조건으로 텍스트를 삭제하면서 단어가 아닌 구두점들까지도 한꺼번에 제거하기 위함도 있습니다. 하지만 한국어에서는 길이가 짧은 단어라고 삭제하는 이런 방법이 크게 유효하지 않을 수 있는데 그 이유에 대해서 정리해보도록 하겠습니다.\n",
        "\n",
        "단정적으로 말할 수는 없지만, 영어 단어의 평균 길이는 6~7 정도이며, 한국어 단어의 평균 길이는 2~3 정도로 추정되고 있습니다. 두 나라의 단어 평균 길이가 몇 인지에 대해서는 확실히 말하기 어렵지만 그럼에도 확실한 사실은 영어 단어의 길이가 한국어 단어의 길이보다는 평균적으로 길다는 점입니다.\n",
        "\n",
        "이는 영어 단어와 한국어 단어에서 각 한 글자가 가진 의미의 크기가 다르다는 점에서 기인합니다. 한국어 단어는 한자어가 많고, 한 글자만으로도 이미 의미를 가진 경우가 많습니다. 예를 들어 '학교'라는 한국어 단어를 생각해보면, 배울 학(學)과 학교 교(校)로 글자 하나, 하나가 이미 함축적인 의미를 갖고있어 두 글자만으로 학교라는 단어를 표현합니다. 하지만 영어의 경우에는 학교라는 글자를 표현하기 위해서는 s, c, h, o, o, l이라는 총 6개의 글자가 필요합니다. 다른 예로는 전설 속 동물인 용(龍)을 표현하기 위해서는 한국어로는 한 글자면 충분하지만, 영어에서는 d, r, a, g, o, n이라는 총 6개의 글자가 필요합니다.\n",
        "\n",
        "이러한 특성으로 인해 영어는 길이가 2~3 이하인 단어를 제거하는 것만으로도 크게 의미를 갖지 못하는 단어를 줄이는 효과를 갖고있습니다. 예를 들어 갖고 있는 텍스트 데이터에서 길이가 1인 단어를 제거하는 코드를 수행하면 대부분의 자연어 처리에서 의미를 갖지 못하는 단어인 관사 'a'와 주어로 쓰이는 'I'가 제거됩니다. 마찬가지로 길이가 2인 단어를 제거한다고 하면 it, at, to, on, in, by 등과 같은 대부분 불용어에 해당되는 단어들이 제거됩니다. 필요에 따라서는 길이가 3인 단어도 제거할 수 있지만, 이 경우 fox, dog, car 등 길이가 3인 명사들이 제거 되기시작하므로 사용하고자 하는 데이터에서 해당 방법을 사용해도 되는지에 대한 고민이 필요합니다.\n",
        "\n"
      ],
      "metadata": {
        "id": "70Jzpgq9BDfv"
      }
    },
    {
      "cell_type": "code",
      "source": [
        "import re\n",
        "text = \"I was wondering if anyone out there could enlighten me on this car.\"\n",
        "\n",
        "# 길이가 1~2 글자인 단어들을 정규 표현식을 이용하여 삭제\n",
        "shortword = re.compile(r'\\W*\\b\\w{1,2}\\b')\n",
        "print(shortword.sub('', text))"
      ],
      "metadata": {
        "colab": {
          "base_uri": "https://localhost:8080/"
        },
        "id": "LcVt7CDqBVtQ",
        "outputId": "dd77fa2c-94f8-482c-a155-f9c952364a43"
      },
      "execution_count": null,
      "outputs": [
        {
          "output_type": "stream",
          "name": "stdout",
          "text": [
            " was wondering anyone out there could enlighten this car.\n"
          ]
        }
      ]
    },
    {
      "cell_type": "markdown",
      "source": [
        "## 4) 정규 표현식(Regular Expression)\n",
        "\n",
        "얻어낸 코퍼스에서 노이즈 데이터의 특징을 잡아낼 수 있다면, 정규 표현식을 통해서 이를 제거할 수 있는 경우가 많습니다. 가령, HTML 문서로부터 가져온 코퍼스라면 문서 여기저기에 HTML 태그가 있습니다. 뉴스 기사를 크롤링 했다면, 기사마다 게재 시간이 적혀져 있을 수 있습니다. 정규 표현식은 이러한 코퍼스 내에 계속해서 등장하는 글자들을 규칙에 기반하여 한 번에 제거하는 방식으로서 매우 유용합니다.\n",
        "\n",
        "이 책에서도 전처리를 위해 정규 표현식을 앞으로 종종 사용하게 될 겁니다. 예를 들어 위에서 길이가 짧은 단어를 제거할 때도, 정규 표현식이 유용하게 사용되었습니다. 정규 표현식에 대한 자세한 내용은 뒤에서 좀 더 상세하게 다룹니다.\n",
        "\n"
      ],
      "metadata": {
        "id": "QH7gmdZOCX9n"
      }
    },
    {
      "cell_type": "markdown",
      "source": [
        "# 3. 어간 추출(Stemming) and 표제어 추출(Lemmatization)\n",
        "\n",
        "정규화 기법 중 코퍼스에 있는 단어의 개수를 줄일 수 있는 기법인 표제어 추출(lemmatization)과 어간 추출(stemming)의 개념에 대해서 알아봅니다. 또한 이 둘의 결과가 어떻게 다른지 이해합니다.\n",
        "\n",
        "이 두 작업이 갖고 있는 의미는 눈으로 봤을 때는 서로 다른 단어들이지만, 하나의 단어로 일반화시킬 수 있다면 하나의 단어로 일반화시켜서 문서 내의 단어 수를 줄이겠다는 것입니다. 이러한 방법들은 단어의 빈도수를 기반으로 문제를 풀고자 하는 뒤에서 학습하게 될 BoW(Bag of Words) 표현을 사용하는 자연어 처리 문제에서 주로 사용됩니다. **자연어 처리에서 전처리, 더 정확히는 정규화의 지향점은 언제나 갖고 있는 코퍼스로부터 복잡성을 줄이는 일입니다.**\n",
        "\n",
        "\n",
        "\n"
      ],
      "metadata": {
        "id": "TYbQr5jQDEaZ"
      }
    },
    {
      "cell_type": "markdown",
      "source": [
        "## 1) 표제어 추출(Lemmatization)\n",
        "\n",
        "**표제어(Lemma)**는 한글로는 '표제어' 또는 '기본 사전형 단어' 정도의 의미를 갖습니다. 표제어 추출은 단어들로부터 표제어를 찾아가는 과정입니다. 표제어 추출은 단어들이 다른 형태를 가지더라도, 그 뿌리 단어를 찾아가서 단어의 개수를 줄일 수 있는지 판단합니다. 예를 들어서 am, are, is는 서로 다른 스펠링이지만 그 뿌리 단어는 be라고 볼 수 있습니다. 이때, 이 단어들의 표제어는 be라고 합니다.\n",
        "\n",
        "표제어 추출을 하는 가장 섬세한 방법은 단어의 형태학적 파싱을 먼저 진행하는 것입니다. **형태소**란 '의미를 가진 가장 작은 단위'를 뜻합니다. 그리고 **형태학(morphology)**이란 형태소로부터 단어들을 만들어가는 학문을 뜻합니다. 형태소의 종류로 어간(stem)과 접사(affix)가 존재합니다.\n",
        "\n",
        "1. 어간(stem)\n",
        ": 단어의 의미를 담고 있는 단어의 핵심 부분.\n",
        "\n",
        "2. 접사(affix)\n",
        ": 단어에 추가적인 의미를 주는 부분.\n",
        "\n",
        "**형태학적 파싱**은 이 두 가지 구성 요소를 분리하는 작업을 말합니다. 가령, cats라는 단어에 대해 형태학적 파싱을 수행한다면, 형태학적 파싱은 결과로 cat(어간)와 -s(접사)를 분리합니다. 꼭 두 가지로 분리되지 않는 경우도 있습니다. 단어 fox는 형태학적 파싱을 한다고 하더라도 더 이상 분리할 수 없습니다. fox는 독립적인 형태소이기 때문입니다. 이와 유사하게 cat 또한 더 이상 분리되지 않습니다.\n",
        "\n",
        "NLTK에서는 표제어 추출을 위한 도구인 WordNetLemmatizer를 지원합니다. 이를 통해 표제어 추출을 실습해보겠습니다.\n"
      ],
      "metadata": {
        "id": "luqKWPEIDhuJ"
      }
    },
    {
      "cell_type": "code",
      "source": [
        "nltk.download('wordnet')\n"
      ],
      "metadata": {
        "colab": {
          "base_uri": "https://localhost:8080/"
        },
        "id": "PouxRU4ZTM0q",
        "outputId": "3977fb0b-9e08-479d-900e-b27cda83945b"
      },
      "execution_count": null,
      "outputs": [
        {
          "output_type": "stream",
          "name": "stdout",
          "text": [
            "[nltk_data] Downloading package wordnet to /root/nltk_data...\n",
            "[nltk_data]   Unzipping corpora/wordnet.zip.\n"
          ]
        },
        {
          "output_type": "execute_result",
          "data": {
            "text/plain": [
              "True"
            ]
          },
          "metadata": {},
          "execution_count": 37
        }
      ]
    },
    {
      "cell_type": "code",
      "source": [
        "from nltk.stem import WordNetLemmatizer\n",
        "\n",
        "lemmatizer = WordNetLemmatizer()\n",
        "\n",
        "words = ['policy', 'doing', 'organization', 'have', 'going', 'love', 'lives', 'fly', 'dies', 'watched', 'has', 'starting']\n",
        "\n",
        "print('표제어 추출 전 : ', words)\n",
        "print('표제어 추출 후 : ', [lemmatizer.lemmatize(word) for word in words])"
      ],
      "metadata": {
        "colab": {
          "base_uri": "https://localhost:8080/"
        },
        "id": "C3d3W6tFEJZf",
        "outputId": "4428fedd-1f1e-4f15-ec08-ede4871656da"
      },
      "execution_count": null,
      "outputs": [
        {
          "output_type": "stream",
          "name": "stdout",
          "text": [
            "표제어 추출 전 :  ['policy', 'doing', 'organization', 'have', 'going', 'love', 'lives', 'fly', 'dies', 'watched', 'has', 'starting']\n",
            "표제어 추출 후 :  ['policy', 'doing', 'organization', 'have', 'going', 'love', 'life', 'fly', 'dy', 'watched', 'ha', 'starting']\n"
          ]
        }
      ]
    },
    {
      "cell_type": "markdown",
      "source": [
        "표제어 추출은 뒤에서 언급할 어간 추출과는 달리 단어의 형태가 적절히 보존되는 양상을 보이는 특징이 있습니다. 하지만 그럼에도 위의 결과에서는 dy나 ha와 같이 의미를 알 수 없는 적절하지 못한 단어를 출력하고 있습니다. 이는 표제어 추출기(lemmatizer)가 본래 단어의 품사 정보를 알아야만 정확한 결과를 얻을 수 있기 때문입니다.\n",
        "\n"
      ],
      "metadata": {
        "id": "BYkEVmvnTasb"
      }
    },
    {
      "cell_type": "markdown",
      "source": [
        "WordNetLemmatizer는 입력으로 단어가 동사 품사라는 사실을 알려줄 수 있습니다. 즉, dies와 watched, has가 문장에서 동사로 쓰였다는 것을 알려준다면 표제어 추출기는 품사의 정보를 보존하면서 정확한 Lemma를 출력하게 됩니다.\n",
        "\n"
      ],
      "metadata": {
        "id": "MYnlRJdoTbRb"
      }
    },
    {
      "cell_type": "code",
      "source": [
        "lemmatizer.lemmatize('dies', 'v')\n"
      ],
      "metadata": {
        "colab": {
          "base_uri": "https://localhost:8080/",
          "height": 35
        },
        "id": "PI9Oe4uMTdXg",
        "outputId": "c9042a71-e3ef-4093-f962-6124cb540fc0"
      },
      "execution_count": null,
      "outputs": [
        {
          "output_type": "execute_result",
          "data": {
            "text/plain": [
              "'die'"
            ],
            "application/vnd.google.colaboratory.intrinsic+json": {
              "type": "string"
            }
          },
          "metadata": {},
          "execution_count": 39
        }
      ]
    },
    {
      "cell_type": "code",
      "source": [
        "lemmatizer.lemmatize('watched', 'v')\n"
      ],
      "metadata": {
        "colab": {
          "base_uri": "https://localhost:8080/",
          "height": 35
        },
        "id": "Nr3s8tLPTeyt",
        "outputId": "8c01767a-7dff-4004-b0b6-9e83efc04cdf"
      },
      "execution_count": null,
      "outputs": [
        {
          "output_type": "execute_result",
          "data": {
            "text/plain": [
              "'watch'"
            ],
            "application/vnd.google.colaboratory.intrinsic+json": {
              "type": "string"
            }
          },
          "metadata": {},
          "execution_count": 40
        }
      ]
    },
    {
      "cell_type": "code",
      "source": [
        "lemmatizer.lemmatize('has', 'v')\n"
      ],
      "metadata": {
        "colab": {
          "base_uri": "https://localhost:8080/",
          "height": 35
        },
        "id": "U4kL5Uu5ThnZ",
        "outputId": "234549c3-ba95-4598-e593-fa1ebf5b4aca"
      },
      "execution_count": null,
      "outputs": [
        {
          "output_type": "execute_result",
          "data": {
            "text/plain": [
              "'have'"
            ],
            "application/vnd.google.colaboratory.intrinsic+json": {
              "type": "string"
            }
          },
          "metadata": {},
          "execution_count": 41
        }
      ]
    },
    {
      "cell_type": "markdown",
      "source": [
        "표제어 추출은 문맥을 고려하며 수행했을 때의 결과는 해당 단어의 품사 정보를 보존합니다. 하지만 어간 추출을 수행한 결과는 품사 정보가 보존되지 않습니다. 더 정확히는 어간 추출을 한 결과는 사전에 존재하지 않는 단어일 경우가 많습니다.\n",
        "\n"
      ],
      "metadata": {
        "id": "AzGh1BVwTi9x"
      }
    },
    {
      "cell_type": "markdown",
      "source": [
        "## 2) 어간 추출(Stemming)\n",
        "\n",
        "어간(Stem)을 추출하는 작업을 **어간 추출**(stemming)이라고 합니다. 어간 추출은 형태학적 분석을 단순화한 버전이라고 볼 수도 있고, 정해진 규칙만 보고 단어의 어미를 자르는 어림짐작의 작업이라고 볼 수도 있습니다. 이 작업은 섬세한 작업이 아니기 때문에 어간 추출 후에 나오는 결과 단어는 사전에 존재하지 않는 단어일 수도 있습니다. 예제를 보면 쉽게 이해할 수 있습니다. 어간 추출 알고리즘 중 하나인 포터 알고리즘(Porter Algorithm)에 아래의 문자열을 입력으로 넣는다고 해봅시다.\n",
        "\n",
        "This was not the map we found in Billy Bones's chest, but an accurate copy, complete in all things--names and heights and soundings--with the single exception of the red crosses and the written notes.\n",
        "\n"
      ],
      "metadata": {
        "id": "e74zgeOETp3x"
      }
    },
    {
      "cell_type": "code",
      "source": [
        "from nltk.stem import PorterStemmer\n",
        "from nltk.tokenize import word_tokenize\n",
        "\n",
        "stemmer = PorterStemmer()\n",
        "\n",
        "sentence = \"This was not the map we found in Billy Bones's chest, but an accurate copy, complete in all things--names and heights and soundings--with the single exception of the red crosses and the written notes.\"\n",
        "\n",
        "tokenized_sentence = word_tokenize(sentence)\n",
        "\n",
        "print('어간 추출 전 : ', tokenized_sentence)\n",
        "print('어간 추출 후 : ', [stemmer.stem(word) for word in tokenized_sentence])"
      ],
      "metadata": {
        "colab": {
          "base_uri": "https://localhost:8080/"
        },
        "id": "PDvUThaLUIa_",
        "outputId": "2d99a095-8de1-4fce-9a1c-06f8bdd97eb9"
      },
      "execution_count": null,
      "outputs": [
        {
          "output_type": "stream",
          "name": "stdout",
          "text": [
            "어간 추출 전 :  ['This', 'was', 'not', 'the', 'map', 'we', 'found', 'in', 'Billy', 'Bones', \"'s\", 'chest', ',', 'but', 'an', 'accurate', 'copy', ',', 'complete', 'in', 'all', 'things', '--', 'names', 'and', 'heights', 'and', 'soundings', '--', 'with', 'the', 'single', 'exception', 'of', 'the', 'red', 'crosses', 'and', 'the', 'written', 'notes', '.']\n",
            "어간 추출 후 :  ['thi', 'wa', 'not', 'the', 'map', 'we', 'found', 'in', 'billi', 'bone', \"'s\", 'chest', ',', 'but', 'an', 'accur', 'copi', ',', 'complet', 'in', 'all', 'thing', '--', 'name', 'and', 'height', 'and', 'sound', '--', 'with', 'the', 'singl', 'except', 'of', 'the', 'red', 'cross', 'and', 'the', 'written', 'note', '.']\n"
          ]
        }
      ]
    },
    {
      "cell_type": "markdown",
      "source": [
        "규칙 기반의 접근을 하고 있으므로 어간 추출 후의 결과에는 사전에 없는 단어들도 포함되어 있습니다. 가령, 포터 알고리즘의 어간 추출은 이러한 규칙들을 가집니다.\n",
        "\n",
        "ALIZE → AL\n",
        "\n",
        "ANCE → 제거\n",
        "\n",
        "ICAL → IC\n",
        "\n",
        "위의 규칙에 따르면 좌측의 단어는 우측의 단어와 같은 결과를 얻게됩니다.\n",
        "\n",
        "formalize → formal\n",
        "\n",
        "allowance → allow\n",
        "\n",
        "electricical → electric\n",
        "\n",
        "\n",
        "실제 코드를 통해 확인해봅시다.\n",
        "\n"
      ],
      "metadata": {
        "id": "ZZTYRATXU_Jx"
      }
    },
    {
      "cell_type": "code",
      "source": [
        "words = ['formalize', 'allowance', 'electricical']\n",
        "\n",
        "print('어간 추출 전 : ', words)\n",
        "print('어간 추출 후 : ', [stemmer.stem(word) for word in words])"
      ],
      "metadata": {
        "colab": {
          "base_uri": "https://localhost:8080/"
        },
        "id": "_OcH-ydDVD1C",
        "outputId": "682ce03d-dfd4-40c0-8624-b779270b3fe2"
      },
      "execution_count": null,
      "outputs": [
        {
          "output_type": "stream",
          "name": "stdout",
          "text": [
            "어간 추출 전 :  ['formalize', 'allowance', 'electricical']\n",
            "어간 추출 후 :  ['formal', 'allow', 'electric']\n"
          ]
        }
      ]
    },
    {
      "cell_type": "markdown",
      "source": [
        "※ Porter 알고리즘의 상세 규칙은 마틴 포터의 홈페이지에서 확인할 수 있다.\n",
        "\n",
        "어간 추출 속도는 표제어 추출보다 일반적으로 빠른데, 포터 어간 추출기는 정밀하게 설계되어 정확도가 높으므로 영어 자연어 처리에서 어간 추출을 하고자 한다면 가장 준수한 선택입니다. NLTK에서는 포터 알고리즘 외에도 랭커스터 스태머(Lancaster Stemmer) 알고리즘을 지원합니다. 이번에는 포터 알고리즘과 랭커스터 스태머 알고리즘으로 각각 어간 추출을 진행했을 때, 이 둘의 결과를 비교해보겠습니다.\n",
        "\n"
      ],
      "metadata": {
        "id": "SS_nME6tVeWX"
      }
    },
    {
      "cell_type": "code",
      "source": [
        "from nltk.stem import PorterStemmer\n",
        "from nltk.stem import LancasterStemmer\n",
        "\n",
        "porter_stemmer = PorterStemmer()\n",
        "lancaster_stemmer = LancasterStemmer()\n",
        "\n",
        "words = ['policy', 'doing', 'organization', 'have', 'going', 'love', 'lives', 'fly', 'dies', 'watched', 'has', 'starting']\n",
        "\n",
        "print('어간 추출 전 : ', words)\n",
        "print('포터 스테머의 어간 추출 후 :', [porter_stemmer.stem(w) for w in words])\n",
        "print('랭커스터 스테머의 어간 추출 후 : ', [lancaster_stemmer.stem(w) for w in words])"
      ],
      "metadata": {
        "colab": {
          "base_uri": "https://localhost:8080/"
        },
        "id": "6_kvYaWsVj5A",
        "outputId": "e9ba0ee9-8a49-45df-8c2d-69973895f65a"
      },
      "execution_count": null,
      "outputs": [
        {
          "output_type": "stream",
          "name": "stdout",
          "text": [
            "어간 추출 전 :  ['policy', 'doing', 'organization', 'have', 'going', 'love', 'lives', 'fly', 'dies', 'watched', 'has', 'starting']\n",
            "포터 스테머의 어간 추출 후 : ['polici', 'do', 'organ', 'have', 'go', 'love', 'live', 'fli', 'die', 'watch', 'ha', 'start']\n",
            "랭커스터 스테머의 어간 추출 후 :  ['policy', 'doing', 'org', 'hav', 'going', 'lov', 'liv', 'fly', 'die', 'watch', 'has', 'start']\n"
          ]
        }
      ]
    },
    {
      "cell_type": "markdown",
      "source": [
        "동일한 단어들의 나열에 대해서 두 스태머는 전혀 다른 결과를 보여줍니다. 두 스태머 알고리즘은 서로 다른 알고리즘을 사용하기 때문입니다. 그렇기 때문에 이미 알려진 알고리즘을 사용할 때는, 사용하고자 하는 코퍼스에 스태머를 적용해보고 어떤 스태머가 해당 코퍼스에 적합한지를 판단한 후에 사용하여야 합니다.\n",
        "\n",
        "이런 규칙에 기반한 알고리즘은 종종 제대로 된 일반화를 수행하지 못 할 수 있습니다. 어간 추출을 하고나서 일반화가 지나치게 되거나, 또는 덜 되거나 하는 경우입니다. 예를 들어 포터 알고리즘에서 organization을 어간 추출했을 때의 결과를 봅시다.\n",
        "\n",
        "organization → organ\n",
        "\n",
        "organization과 organ은 완전히 다른 단어 임에도 organization에 대해서 어간 추출을 했더니 organ이라는 단어가 나왔습니다. organ에 대해서 어간 추출을 한다고 하더라도 결과는 역시 organ이 되기 때문에, 두 단어에 대해서 어간 추출을 한다면 동일한 어간을 갖게 됩니다. 이는 의미가 동일한 경우에만 같은 단어를 얻기를 원하는 정규화의 목적에는 맞지 않습니다. 마지막으로 동일한 단어에 대해서 표제어 추출과 어간 추출을 각각 수행했을 때, 결과에서 어떤 차이가 있는지 간단한 예를 보겠습니다.\n",
        "\n",
        "**Stemming**\n",
        "\n",
        "am → am\n",
        "\n",
        "the going → the go\n",
        "\n",
        "having → hav\n",
        "\n",
        "\n",
        "----\n",
        "\n",
        "**Lemmatization**\n",
        "\n",
        "am → be\n",
        "\n",
        "the going → the going\n",
        "\n",
        "having → have\n",
        "\n"
      ],
      "metadata": {
        "id": "lGRc13ntWjyd"
      }
    },
    {
      "cell_type": "markdown",
      "source": [
        "## 3) 한국어에서의 어간 추출\n",
        "\n",
        "한국어의 어간에 대해서 간략히 설명합니다. 한국어는 아래의 표와 같이 5언 9품사의 구조를 가지고 있습니다.\n",
        "\n",
        "언\t   |품사\n",
        "\n",
        "\n",
        "---\n",
        "\n",
        "\n",
        "\n",
        "체언|\t명사, 대명사, 수사\n",
        "\n",
        "수식언|\t관형사, 부사\n",
        "\n",
        "관계언|\t조사\n",
        "\n",
        "독립언|\t감탄사\n",
        "\n",
        "**용언**|\t**동사, 형용사**\n",
        "\n",
        "이 중 용언에 해당되는 '동사'와 '형용사'는 어간(stem)과 어미(ending)의 결합으로 구성됩니다. 앞으로 **용언**이라고 언급하는 부분은 전부 동사와 형용사를 포함하여 언급하는 개념입니다.\n",
        "\n",
        "\n"
      ],
      "metadata": {
        "id": "2qcD74qfWs9h"
      }
    },
    {
      "cell_type": "markdown",
      "source": [
        "### (1) 활용(conjugation)\n",
        "\n",
        "활용(conjugation)은 한국어에서만 가지는 특징이 아니라, 인도유럽어(indo-european language)에서도 주로 볼 수 있는 언어적 특징 중 하나를 말하는 통칭적인 개념입니다. 다만, 여기서는 한국어에 한정하여 설명합니다.\n",
        "\n",
        "**활용**이란 용언의 어간(stem)이 어미(ending)를 가지는 일을 말합니다.\n",
        "\n",
        "**어간(stem)** : 용언(동사, 형용사)을 활용할 때, 원칙적으로 모양이 변하지 않는 부분. 활용에서 어미에 선행하는 부분. 때론 어간의 모양도 바뀔 수 있음(예: 긋다, 긋고, 그어서, 그어라).\n",
        "\n",
        "**어미(ending)**: 용언의 어간 뒤에 붙어서 활용하면서 변하는 부분이며, 여러 문법적 기능을 수행\n",
        "\n",
        "활용은 어간이 어미를 취할 때, 어간의 모습이 일정하다면 규칙 활용, 어간이나 어미의 모습이 변하는 불규칙 활용으로 나뉩니다.\n",
        "\n"
      ],
      "metadata": {
        "id": "HrVNaA04XLSm"
      }
    },
    {
      "cell_type": "markdown",
      "source": [
        "### (2) 규칙 활용\n",
        "\n",
        "**규칙 활용**은 어간이 어미를 취할 때, 어간의 모습이 일정합니다. 아래의 예제는 어간과 어미가 합쳐질 때, 어간의 형태가 바뀌지 않음을 보여줍니다.\n",
        "\n",
        "\n",
        "```\n",
        "잡/어간 + 다/어미\n",
        "\n",
        "```\n",
        "\n",
        "이 경우에는 어간이 어미가 붙기전의 모습과 어미가 붙은 후의 모습이 같으므로, 규칙 기반으로 어미를 단순히 분리해주면 어간 추출이 됩니다.\n",
        "\n"
      ],
      "metadata": {
        "id": "icvthAyzXbLJ"
      }
    },
    {
      "cell_type": "markdown",
      "source": [
        "### (3) 불규칙 활용\n",
        "\n",
        "**불규칙 활용**은 어간이 어미를 취할 때 어간의 모습이 바뀌거나 취하는 어미가 특수한 어미일 경우를 말합니다.\n",
        "\n",
        "예를 들어 ‘듣-, 돕-, 곱-, 잇-, 오르-, 노랗-’ 등이 ‘듣/들-, 돕/도우-, 곱/고우-, 잇/이-, 올/올-, 노랗/노라-’와 같이 어간의 형식이 달라지는 일이 있거나 ‘오르+ 아/어→올라, 하+아/어→하여, 이르+아/어→이르러, 푸르+아/어→푸르러’와 같이 일반적인 어미가 아닌 특수한 어미를 취하는 경우 불규칙활용을 하는 예에 속합니다.\n",
        "\n",
        "이 경우에는 어간이 어미가 붙는 과정에서 어간의 모습이 바뀌었으므로 단순한 분리만으로 어간 추출이 되지 않고 좀 더 복잡한 규칙을 필요로 합니다. 아래의 링크는 다양한 불규칙 활용의 예를 보여줍니다.\n",
        "\n",
        "링크 : https://namu.wiki/w/한국어/불규칙%20활용\n",
        "\n"
      ],
      "metadata": {
        "id": "aYEDbF3lYAkP"
      }
    },
    {
      "cell_type": "markdown",
      "source": [
        "# 4. 불용어(Stopword)\n",
        "\n",
        "갖고 있는 데이터에서 유의미한 단어 토큰만을 선별하기 위해서는 큰 의미가 없는 단어 토큰을 제거하는 작업이 필요합니다. 여기서 큰 의미가 없다라는 것은 자주 등장하지만 분석을 하는 것에 있어서는 큰 도움이 되지 않는 단어들을 말합니다. 예를 들면, I, my, me, over, 조사, 접미사 같은 단어들은 문장에서는 자주 등장하지만 실제 의미 분석을 하는데는 거의 기여하는 바가 없는 경우가 있습니다. 이러한 단어들을 **불용어(stopword)**라고 하며, NLTK에서는 위와 같은 100여개 이상의 영어 단어들을 불용어로 패키지 내에서 미리 정의하고 있습니다.\n",
        "\n",
        "물론 불용어는 개발자가 직접 정의할 수도 있습니다. 이번에는 영어 문장에서 NLTK가 정의한 영어 불용어를 제거하는 실습을 하고, 한국어 문장에서 직접 정의한 불용어를 제거해보겠습니다.\n",
        "\n",
        "NLTK 실습에서는 1챕터에서 언급했듯이 NLTK Data가 필요합니다. 만약, 데이터가 없다는 에러가 발생 시에는 nltk.download(필요한 데이터)라는 커맨드를 통해 다운로드 할 수 있습니다.\n",
        "\n",
        "\n"
      ],
      "metadata": {
        "id": "_GXblm-2GyPd"
      }
    },
    {
      "cell_type": "code",
      "source": [
        "pip install nltk"
      ],
      "metadata": {
        "colab": {
          "base_uri": "https://localhost:8080/"
        },
        "id": "z2LluSg2HHem",
        "outputId": "34400dae-b3fa-4f77-90a4-a8a295b33527"
      },
      "execution_count": null,
      "outputs": [
        {
          "output_type": "stream",
          "name": "stdout",
          "text": [
            "Requirement already satisfied: nltk in /usr/local/lib/python3.7/dist-packages (3.2.5)\n",
            "Requirement already satisfied: six in /usr/local/lib/python3.7/dist-packages (from nltk) (1.15.0)\n"
          ]
        }
      ]
    },
    {
      "cell_type": "code",
      "source": [
        "pip install konlpy"
      ],
      "metadata": {
        "colab": {
          "base_uri": "https://localhost:8080/"
        },
        "id": "Ragk_ozWHa_-",
        "outputId": "b2f4ec57-17eb-4f3f-abaa-a622bfab04f3"
      },
      "execution_count": null,
      "outputs": [
        {
          "output_type": "stream",
          "name": "stdout",
          "text": [
            "Collecting konlpy\n",
            "  Downloading konlpy-0.6.0-py2.py3-none-any.whl (19.4 MB)\n",
            "\u001b[K     |████████████████████████████████| 19.4 MB 6.2 MB/s \n",
            "\u001b[?25hCollecting JPype1>=0.7.0\n",
            "  Downloading JPype1-1.3.0-cp37-cp37m-manylinux_2_5_x86_64.manylinux1_x86_64.whl (448 kB)\n",
            "\u001b[K     |████████████████████████████████| 448 kB 55.2 MB/s \n",
            "\u001b[?25hRequirement already satisfied: lxml>=4.1.0 in /usr/local/lib/python3.7/dist-packages (from konlpy) (4.2.6)\n",
            "Requirement already satisfied: numpy>=1.6 in /usr/local/lib/python3.7/dist-packages (from konlpy) (1.21.5)\n",
            "Requirement already satisfied: typing-extensions in /usr/local/lib/python3.7/dist-packages (from JPype1>=0.7.0->konlpy) (3.10.0.2)\n",
            "Installing collected packages: JPype1, konlpy\n",
            "Successfully installed JPype1-1.3.0 konlpy-0.6.0\n"
          ]
        }
      ]
    },
    {
      "cell_type": "code",
      "source": [
        "import nltk\n",
        "nltk.download('stopwords')"
      ],
      "metadata": {
        "colab": {
          "base_uri": "https://localhost:8080/"
        },
        "id": "oybBtzt7JJU3",
        "outputId": "130233ab-05e7-4af2-b39a-ff0529ecc0f4"
      },
      "execution_count": null,
      "outputs": [
        {
          "output_type": "stream",
          "name": "stdout",
          "text": [
            "[nltk_data] Downloading package stopwords to /root/nltk_data...\n",
            "[nltk_data]   Unzipping corpora/stopwords.zip.\n"
          ]
        },
        {
          "output_type": "execute_result",
          "data": {
            "text/plain": [
              "True"
            ]
          },
          "metadata": {},
          "execution_count": 8
        }
      ]
    },
    {
      "cell_type": "code",
      "source": [
        "from nltk.corpus import stopwords\n",
        "from nltk.tokenize import word_tokenize\n",
        "from konlpy.tag import Okt"
      ],
      "metadata": {
        "id": "FU6sc45FHVJ5"
      },
      "execution_count": null,
      "outputs": []
    },
    {
      "cell_type": "markdown",
      "source": [
        "## 1) NLTK에서 불용어 확인하기"
      ],
      "metadata": {
        "id": "p4MkIcQqHhPc"
      }
    },
    {
      "cell_type": "code",
      "source": [
        "stop_words_list = stopwords.words('english')\n",
        "print('불용어 개수 : ', len(stop_words_list))\n",
        "print('불용어 10개 출력 : ', stop_words_list[:10])"
      ],
      "metadata": {
        "colab": {
          "base_uri": "https://localhost:8080/"
        },
        "id": "ot2CIzgGHo5E",
        "outputId": "f0480035-8714-4088-cf3e-5fb9c842138d"
      },
      "execution_count": null,
      "outputs": [
        {
          "output_type": "stream",
          "name": "stdout",
          "text": [
            "불용어 개수 :  179\n",
            "불용어 10개 출력 :  ['i', 'me', 'my', 'myself', 'we', 'our', 'ours', 'ourselves', 'you', \"you're\"]\n"
          ]
        }
      ]
    },
    {
      "cell_type": "markdown",
      "source": [
        "stopwords.words(\"english\")는 NLTK가 정의한 영어 불용어 리스트를 리턴합니다. 출력 결과가 100개 이상이기 때문에 여기서는 간단히 10개만 확인해보았습니다. 'i', 'me', 'my'와 같은 단어들을 NLTK에서 불용어로 정의하고 있음을 확인할 수 있습니다.\n",
        "\n"
      ],
      "metadata": {
        "id": "3DdsjGYyJPG5"
      }
    },
    {
      "cell_type": "markdown",
      "source": [
        "## 2) NLTK를 통해서 불용어 제거하기"
      ],
      "metadata": {
        "id": "fWrmQA8YJReU"
      }
    },
    {
      "cell_type": "code",
      "source": [
        "nltk.download('punkt')"
      ],
      "metadata": {
        "colab": {
          "base_uri": "https://localhost:8080/"
        },
        "id": "9qE7JLwGKOb2",
        "outputId": "4f541a46-dd94-4ea8-d611-0787e00b82ae"
      },
      "execution_count": null,
      "outputs": [
        {
          "output_type": "stream",
          "name": "stdout",
          "text": [
            "[nltk_data] Downloading package punkt to /root/nltk_data...\n",
            "[nltk_data]   Unzipping tokenizers/punkt.zip.\n"
          ]
        },
        {
          "output_type": "execute_result",
          "data": {
            "text/plain": [
              "True"
            ]
          },
          "metadata": {},
          "execution_count": 11
        }
      ]
    },
    {
      "cell_type": "code",
      "source": [
        "example = \"Family is not an important thing. It's everything.\"\n",
        "\n",
        "stop_words = set(stopwords.words('english'))\n",
        "\n",
        "word_tokens = word_tokenize(example)\n",
        "\n",
        "result = []\n",
        "for word in word_tokens:\n",
        "  if word not in stop_words:\n",
        "    result.append(word)\n",
        "\n",
        "print('불용어 제거 전 : ', word_tokens)\n",
        "print('불용어 제거 후 : ', result)"
      ],
      "metadata": {
        "colab": {
          "base_uri": "https://localhost:8080/"
        },
        "id": "nEUFGalPJk1_",
        "outputId": "2ddbd828-2935-4a6a-9964-54d177e72bdd"
      },
      "execution_count": null,
      "outputs": [
        {
          "output_type": "stream",
          "name": "stdout",
          "text": [
            "불용어 제거 전 :  ['Family', 'is', 'not', 'an', 'important', 'thing', '.', 'It', \"'s\", 'everything', '.']\n",
            "불용어 제거 후 :  ['Family', 'important', 'thing', '.', 'It', \"'s\", 'everything', '.']\n"
          ]
        }
      ]
    },
    {
      "cell_type": "markdown",
      "source": [
        "위 코드는 \"Family is not an important thing. It's everything.\"라는 임의의 문장을 정의하고, NLTK의 word_tokenize를 통해서 단어 토큰화를 수행합니다. 그리고 단어 토큰화 결과로부터 NLTK가 정의하고 있는 불용어를 제외한 결과를 출력하고 있습니다. 결과적으로 'is', 'not', 'an'과 같은 단어들이 문장에서 제거되었음을 볼 수 있습니다.\n",
        "\n"
      ],
      "metadata": {
        "id": "ekPzUAvQKY1_"
      }
    },
    {
      "cell_type": "markdown",
      "source": [
        "## 3) 한국어에서 불용어 제거하기\n",
        "\n",
        "한국어에서 불용어를 제거하는 방법으로는 간단하게는 토큰화 후에 조사, 접속사 등을 제거하는 방법이 있습니다. 하지만 불용어를 제거하려고 하다보면 조사나 접속사와 같은 단어들뿐만 아니라 명사, 형용사와 같은 단어들 중에서 불용어로서 제거하고 싶은 단어들이 생기기도 합니다. 결국에는 사용자가 직접 불용어 사전을 만들게 되는 경우가 많습니다. 이번에는 직접 불용어를 정의해보고, 주어진 문장으로부터 사용자가 정의한 불용어 사전으로부터 불용어를 제거해보겠습니다. 아래의 불용어는 임의 선정한 것으로 실제 의미있는 선정 기준이 아닙니다.\n",
        "\n"
      ],
      "metadata": {
        "id": "yzeOXZpwKou9"
      }
    },
    {
      "cell_type": "code",
      "source": [
        "okt = Okt()\n",
        "\n",
        "example = \"고기를 아무렇게나 구우려고 하면 안 돼. 고기라고 다 같은 게 아니거든. 예컨대 삼겹살을 구울 때는 중요한 게 있지.\"\n",
        "stop_words = \"를 아무렇게나 구 우려 고 안 돼 같은 게 구울 때 는\"\n",
        "\n",
        "stop_words = set(stop_words.split(' '))\n",
        "word_tokens = okt.morphs(example)\n",
        "\n",
        "result = [word for word in word_tokens if not word in stop_words]\n",
        "\n",
        "print('불용어 제거 전 : ', word_tokens)\n",
        "print('불용어 제거 후 : ', result)"
      ],
      "metadata": {
        "colab": {
          "base_uri": "https://localhost:8080/"
        },
        "id": "NNRnHIBYMMx8",
        "outputId": "e70de8c9-a680-4985-d349-a365d1689850"
      },
      "execution_count": null,
      "outputs": [
        {
          "output_type": "stream",
          "name": "stdout",
          "text": [
            "불용어 제거 전 :  ['고기', '를', '아무렇게나', '구', '우려', '고', '하면', '안', '돼', '.', '고기', '라고', '다', '같은', '게', '아니거든', '.', '예컨대', '삼겹살', '을', '구울', '때', '는', '중요한', '게', '있지', '.']\n",
            "불용어 제거 후 :  ['고기', '하면', '.', '고기', '라고', '다', '아니거든', '.', '예컨대', '삼겹살', '을', '중요한', '있지', '.']\n"
          ]
        }
      ]
    },
    {
      "cell_type": "markdown",
      "source": [
        "아래의 링크는 보편적으로 선택할 수 있는 한국어 불용어 리스트를 보여줍니다. 하지만 여전히 절대적인 기준은 아닙니다.\n",
        "\n",
        "링크 : https://www.ranks.nl/stopwords/korean\n",
        "\n",
        "불용어가 많은 경우에는 코드 내에서 직접 정의하지 않고 txt 파일이나 csv 파일로 정리해놓고 이를 불러와서 사용하기도 합니다.\n",
        "\n",
        "추가 참고 가능한 한국어 불용어 리스트 : https://bab2min.tistory.com/544\n",
        "\n"
      ],
      "metadata": {
        "id": "rkvSkgM7Mw26"
      }
    },
    {
      "cell_type": "markdown",
      "source": [
        "# 5. 정규 표현식(Regular Expression)\n",
        "\n",
        "텍스트 전처리에서 정규 표현식은 아주 유용한 도구입니다. 이번에는 파이썬에서 지원하고 있는 정규 표현식 모듈 re의 사용 방법과 NLTK를 통한 정규 표현식을 이용한 토큰화에 대해서 알아봅니다.\n",
        "\n"
      ],
      "metadata": {
        "id": "LVlji7F1M5Xq"
      }
    },
    {
      "cell_type": "markdown",
      "source": [
        "## 1) 정규 표현식 문법과 모듈 함수\n",
        "\n",
        "파이썬에서는 정규 표현식 모듈 re을 지원하므로, 이를 이용하면 특정 규칙이 있는 텍스트 데이터를 빠르게 정제할 수 있습니다. 정규 표현식을 위해 사용되는 특수 문자와 모듈 함수에 대해서 표를 통해 정리해보겠습니다. 표만으로는 이해하기 어렵습니다. 표 아래의 실습과 표를 병행하여 이해하시는 것이 좋습니다.\n",
        "\n"
      ],
      "metadata": {
        "id": "e9On6YmPNBLl"
      }
    },
    {
      "cell_type": "markdown",
      "source": [
        "### (1) 정규 표현식 문법"
      ],
      "metadata": {
        "id": "sQK72qCRNu4A"
      }
    },
    {
      "cell_type": "markdown",
      "source": [
        "![image.png](data:image/png;base64,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)"
      ],
      "metadata": {
        "id": "528-DMH7NVCf"
      }
    },
    {
      "cell_type": "markdown",
      "source": [
        "정규 표현식 문법에는 역 슬래쉬(\\)를 이용하여 자주 쓰이는 문자 규칙들이 있습니다.\n",
        "\n"
      ],
      "metadata": {
        "id": "BlwZbpdSNjJH"
      }
    },
    {
      "cell_type": "markdown",
      "source": [
        "![image.png](data:image/png;base64,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)"
      ],
      "metadata": {
        "id": "COwV9RI9Nj8a"
      }
    },
    {
      "cell_type": "markdown",
      "source": [
        "### (2) 정규표현식 모듈 함수"
      ],
      "metadata": {
        "id": "iA8oMsLANpE_"
      }
    },
    {
      "cell_type": "markdown",
      "source": [
        "![image.png](data:image/png;base64,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)"
      ],
      "metadata": {
        "id": "by3XmnlhN8BK"
      }
    },
    {
      "cell_type": "markdown",
      "source": [
        "앞으로 진행될 실습에서는 re.compile()에 정규 표현식을 컴파일하고, re.search()를 통해서 해당 정규 표현식이 입력 텍스트와 매치되는지를 확인하면서 각 정규 표현식에 대해서 이해해보겠습니다. re.search()는 매치된다면 Match Object를 리턴하고 매치되지 않으면 아무런 값도 출력되지 않습니다.\n",
        "\n"
      ],
      "metadata": {
        "id": "JUA358T7OrRD"
      }
    },
    {
      "cell_type": "markdown",
      "source": [
        "## 2) 정규 표현식 실습\n",
        "\n",
        "앞서 표로 봤던 정규 표현식을 예시를 통해 이해해보겠습니다."
      ],
      "metadata": {
        "id": "awoXJbNlOtyD"
      }
    },
    {
      "cell_type": "code",
      "source": [
        "import re"
      ],
      "metadata": {
        "id": "_FTfiwppOx5y"
      },
      "execution_count": null,
      "outputs": []
    },
    {
      "cell_type": "markdown",
      "source": [
        "### (1) . 기호\n",
        "\n",
        ".은 한 개의 임의의 문자를 나타냅니다. 예를 들어서 정규 표현식이 a.c라고 합시다. a와 c 사이에는 어떤 1개의 문자라도 올 수 있습니다. akc, azc, avc, a5c, a!c와 같은 형태는 모두 a.c의 정규 표현식과 매치됩니다."
      ],
      "metadata": {
        "id": "sIENRzmkOzBs"
      }
    },
    {
      "cell_type": "code",
      "source": [
        "r = re.compile('a.c')\n",
        "r.search('kkk') # 아무런 결과도 출력되지 않는다."
      ],
      "metadata": {
        "id": "RAzGag6zO-ud"
      },
      "execution_count": null,
      "outputs": []
    },
    {
      "cell_type": "code",
      "source": [
        "r.search('abc')"
      ],
      "metadata": {
        "colab": {
          "base_uri": "https://localhost:8080/"
        },
        "id": "wr7axxpcPEhN",
        "outputId": "0b239eb8-ae39-4569-a81a-5d59723d3051"
      },
      "execution_count": null,
      "outputs": [
        {
          "output_type": "execute_result",
          "data": {
            "text/plain": [
              "<re.Match object; span=(0, 3), match='abc'>"
            ]
          },
          "metadata": {},
          "execution_count": 16
        }
      ]
    },
    {
      "cell_type": "markdown",
      "source": [
        ".은 어떤 문자로도 인식될 수 있기 때문에 abc라는 문자열은 a.c라는 정규 표현식 패턴으로 매치됩니다.\n",
        "\n"
      ],
      "metadata": {
        "id": "_9RWpVlFPJj8"
      }
    },
    {
      "cell_type": "markdown",
      "source": [
        "### (2) ? 기호\n",
        "\n",
        "?는 ?앞의 문자가 존재할 수도 있고 존재하지 않을 수도 있는 경우를 나타냅니다. 예를 들어서 정규 표현식이 ab?c라고 합시다. 이 경우 이 정규 표현식에서의 b는 있다고 취급할 수도 있고, 없다고 취급할 수도 있습니다. 즉, abc와 ac 모두 매치할 수 있습니다."
      ],
      "metadata": {
        "id": "sJ9msUhRPeRc"
      }
    },
    {
      "cell_type": "code",
      "source": [
        "r = re.compile('ab?c')\n",
        "r.search('abbc') # 아무런 결과도 출력되지 않는다."
      ],
      "metadata": {
        "id": "g5UI9BP_PsN0"
      },
      "execution_count": null,
      "outputs": []
    },
    {
      "cell_type": "code",
      "source": [
        "r.search('abc')"
      ],
      "metadata": {
        "colab": {
          "base_uri": "https://localhost:8080/"
        },
        "id": "E4ORDBeHPylo",
        "outputId": "55839ba0-6cd4-42b4-b4c8-e2229948edef"
      },
      "execution_count": null,
      "outputs": [
        {
          "output_type": "execute_result",
          "data": {
            "text/plain": [
              "<re.Match object; span=(0, 3), match='abc'>"
            ]
          },
          "metadata": {},
          "execution_count": 18
        }
      ]
    },
    {
      "cell_type": "markdown",
      "source": [
        "b가 있는 것으로 판단하여 abc를 매치했습니다.\n",
        "\n"
      ],
      "metadata": {
        "id": "ogn8xjmKP1Mx"
      }
    },
    {
      "cell_type": "code",
      "source": [
        "r.search('ac')"
      ],
      "metadata": {
        "colab": {
          "base_uri": "https://localhost:8080/"
        },
        "id": "FsGECoiEP2gV",
        "outputId": "4032d295-9510-4d1c-9f8a-08e3e0e04a7f"
      },
      "execution_count": null,
      "outputs": [
        {
          "output_type": "execute_result",
          "data": {
            "text/plain": [
              "<re.Match object; span=(0, 2), match='ac'>"
            ]
          },
          "metadata": {},
          "execution_count": 19
        }
      ]
    },
    {
      "cell_type": "markdown",
      "source": [
        "b가 없는 것으로 판단하여 ac를 매치했습니다.\n",
        "\n"
      ],
      "metadata": {
        "id": "VdF8GfiAP4er"
      }
    },
    {
      "cell_type": "markdown",
      "source": [
        "### (3) * 기호\n",
        "\n",
        "   '* '은 바로 앞의 문자가 0개 이상일 경우를 나타냅니다. 앞의 문자는 존재하지 않을 수도 있으며, 또는 여러 개일 수도 있습니다. 정규 표현식이 ab*c라면 ac, abc, abbc, abbbc 등과 매치할 수 있으며 b의 개수는 무수히 많을 수 있습니다.\n",
        "\n"
      ],
      "metadata": {
        "id": "RCWyF98VP6HH"
      }
    },
    {
      "cell_type": "code",
      "source": [
        "r = re.compile('ab*c')\n",
        "r.search('a') # 아무런 결과도 출력되지 않는다."
      ],
      "metadata": {
        "id": "Vnb81aTCQG7y"
      },
      "execution_count": null,
      "outputs": []
    },
    {
      "cell_type": "code",
      "source": [
        "r.search('ac')"
      ],
      "metadata": {
        "colab": {
          "base_uri": "https://localhost:8080/"
        },
        "id": "zRXVmZuVQLc-",
        "outputId": "c7b8c055-9e7d-4f0a-d06d-34cde924e343"
      },
      "execution_count": null,
      "outputs": [
        {
          "output_type": "execute_result",
          "data": {
            "text/plain": [
              "<re.Match object; span=(0, 2), match='ac'>"
            ]
          },
          "metadata": {},
          "execution_count": 21
        }
      ]
    },
    {
      "cell_type": "code",
      "source": [
        "r.search('abc')"
      ],
      "metadata": {
        "colab": {
          "base_uri": "https://localhost:8080/"
        },
        "id": "pmWp5j1HQMvT",
        "outputId": "568a2e78-a82e-4941-8a81-92e2b1957c56"
      },
      "execution_count": null,
      "outputs": [
        {
          "output_type": "execute_result",
          "data": {
            "text/plain": [
              "<re.Match object; span=(0, 3), match='abc'>"
            ]
          },
          "metadata": {},
          "execution_count": 22
        }
      ]
    },
    {
      "cell_type": "code",
      "source": [
        "r.search('abbbbbbbbc')"
      ],
      "metadata": {
        "colab": {
          "base_uri": "https://localhost:8080/"
        },
        "id": "qgWGYGIMQO7e",
        "outputId": "2f7c7de3-041f-47be-ea89-8fa6dba8fad5"
      },
      "execution_count": null,
      "outputs": [
        {
          "output_type": "execute_result",
          "data": {
            "text/plain": [
              "<re.Match object; span=(0, 10), match='abbbbbbbbc'>"
            ]
          },
          "metadata": {},
          "execution_count": 23
        }
      ]
    },
    {
      "cell_type": "markdown",
      "source": [
        "### (4) + 기호\n",
        "\n",
        "+는 *와 유사합니다. 다른 점은 앞의 문자가 최소 1개 이상이어야 합니다. 정규 표현식이 ab+c라고 한다면 ac는 매치되지 않습니다. 하지만 abc, abbc, abbbc 등과 매치할 수 있으며 b의 개수는 무수히 많을 수 있습니다.\n",
        "\n"
      ],
      "metadata": {
        "id": "ok5hn4J0SDiB"
      }
    },
    {
      "cell_type": "code",
      "source": [
        "r = re.compile('ab+c')\n",
        "r.search('ac') # 아무런 결과도 출력되지 않는다."
      ],
      "metadata": {
        "id": "VFnNXIW0SMF9"
      },
      "execution_count": null,
      "outputs": []
    },
    {
      "cell_type": "code",
      "source": [
        "r.search('abc')"
      ],
      "metadata": {
        "colab": {
          "base_uri": "https://localhost:8080/"
        },
        "id": "SKzJW10SSQuF",
        "outputId": "eca98a4a-fc63-4113-d187-05eadf858ffc"
      },
      "execution_count": null,
      "outputs": [
        {
          "output_type": "execute_result",
          "data": {
            "text/plain": [
              "<re.Match object; span=(0, 3), match='abc'>"
            ]
          },
          "metadata": {},
          "execution_count": 25
        }
      ]
    },
    {
      "cell_type": "code",
      "source": [
        "r.search('abbbbbc')"
      ],
      "metadata": {
        "colab": {
          "base_uri": "https://localhost:8080/"
        },
        "id": "bXJpvypyScbq",
        "outputId": "f0827a8d-c6a1-4a29-db03-4b7827e01e71"
      },
      "execution_count": null,
      "outputs": [
        {
          "output_type": "execute_result",
          "data": {
            "text/plain": [
              "<re.Match object; span=(0, 7), match='abbbbbc'>"
            ]
          },
          "metadata": {},
          "execution_count": 26
        }
      ]
    },
    {
      "cell_type": "markdown",
      "source": [
        "### (5) ^ 기호\n",
        "\n",
        "^는 시작되는 문자열을 지정합니다. 정규표현식이 ^ab라면 문자열 ab로 시작되는 경우 매치합니다.\n",
        "\n"
      ],
      "metadata": {
        "id": "ZKUeHKQ2Sg4R"
      }
    },
    {
      "cell_type": "code",
      "source": [
        "r = re.compile('^ab')\n",
        "\n",
        "# 아무런 결과도 출력되지 않는다.\n",
        "r.search('bbc')\n",
        "r.search('zab')"
      ],
      "metadata": {
        "id": "JttNiazlSmB8"
      },
      "execution_count": null,
      "outputs": []
    },
    {
      "cell_type": "code",
      "source": [
        "r.search('abz')"
      ],
      "metadata": {
        "colab": {
          "base_uri": "https://localhost:8080/"
        },
        "id": "XUTCtVVDSrsA",
        "outputId": "33cce5fc-952f-4912-d258-3455b64f755e"
      },
      "execution_count": null,
      "outputs": [
        {
          "output_type": "execute_result",
          "data": {
            "text/plain": [
              "<re.Match object; span=(0, 2), match='ab'>"
            ]
          },
          "metadata": {},
          "execution_count": 28
        }
      ]
    },
    {
      "cell_type": "markdown",
      "source": [
        "### (6) {숫자} 기호\n",
        "\n",
        "문자에 해당 기호를 붙이면, 해당 문자를 숫자만큼 반복한 것을 나타냅니다. 예를 들어서 정규 표현식이 ab{2}c라면 a와 c 사이에 b가 존재하면서 b가 2개인 문자열에 대해서 매치합니다.\n",
        "\n"
      ],
      "metadata": {
        "id": "xRf2FH2LTN26"
      }
    },
    {
      "cell_type": "code",
      "source": [
        "r = re.compile('ab{2}c')\n",
        "\n",
        "# 아무런 결과도 출력되지 않는다.\n",
        "r.search('ac')\n",
        "r.search('abc')\n",
        "r.search('abbbbbbbc')"
      ],
      "metadata": {
        "id": "wiVIIJaBTU62"
      },
      "execution_count": null,
      "outputs": []
    },
    {
      "cell_type": "code",
      "source": [
        "r.search('abbc')"
      ],
      "metadata": {
        "colab": {
          "base_uri": "https://localhost:8080/"
        },
        "id": "7EsUY0qSTew3",
        "outputId": "9da4e92e-a2f1-49a2-f374-ec336ca088a4"
      },
      "execution_count": null,
      "outputs": [
        {
          "output_type": "execute_result",
          "data": {
            "text/plain": [
              "<re.Match object; span=(0, 4), match='abbc'>"
            ]
          },
          "metadata": {},
          "execution_count": 30
        }
      ]
    },
    {
      "cell_type": "markdown",
      "source": [
        "### (7) {숫자1, 숫자2} 기호\n",
        "\n",
        "문자에 해당 기호를 붙이면, 해당 문자를 숫자1 이상 숫자2 이하만큼 반복합니다. 예를 들어서 정규 표현식이 ab{2,8}c라면 a와 c 사이에 b가 존재하면서 b는 2개 이상 8개 이하인 문자열에 대해서 매치합니다.\n",
        "\n"
      ],
      "metadata": {
        "id": "lRkyj4yQYJGC"
      }
    },
    {
      "cell_type": "code",
      "source": [
        "r = re.compile('ab{2,8}c')\n",
        "\n",
        "# 아무런 결과도 출력되지 않는다.\n",
        "r.search('ac')\n",
        "r.search('abc')\n",
        "r.search('abbbbbbbbbc')"
      ],
      "metadata": {
        "id": "jW70bXwiYRZu"
      },
      "execution_count": null,
      "outputs": []
    },
    {
      "cell_type": "code",
      "source": [
        "r.search('abbc')"
      ],
      "metadata": {
        "colab": {
          "base_uri": "https://localhost:8080/"
        },
        "id": "eTYzSslKZKmF",
        "outputId": "8a465352-063e-4615-a326-442fcf7a7a4a"
      },
      "execution_count": null,
      "outputs": [
        {
          "output_type": "execute_result",
          "data": {
            "text/plain": [
              "<re.Match object; span=(0, 4), match='abbc'>"
            ]
          },
          "metadata": {},
          "execution_count": 34
        }
      ]
    },
    {
      "cell_type": "code",
      "source": [
        "r.search(\"abbbbbbbbc\")\n"
      ],
      "metadata": {
        "colab": {
          "base_uri": "https://localhost:8080/"
        },
        "id": "UyQfa5foZOvQ",
        "outputId": "11b53968-26c9-4943-cfda-366cf414213b"
      },
      "execution_count": null,
      "outputs": [
        {
          "output_type": "execute_result",
          "data": {
            "text/plain": [
              "<re.Match object; span=(0, 10), match='abbbbbbbbc'>"
            ]
          },
          "metadata": {},
          "execution_count": 35
        }
      ]
    },
    {
      "cell_type": "markdown",
      "source": [
        "### (8) {숫자,} 기호\n",
        "\n",
        "문자에 해당 기호를 붙이면 해당 문자를 숫자 이상 만큼 반복합니다. 예를 들어서 정규 표현식이 a{2,}bc라면 뒤에 bc가 붙으면서 a의 개수가 2개 이상인 경우인 문자열과 매치합니다. 또한 만약 {0,}을 쓴다면 *와 동일한 의미가 되며, {1,}을 쓴다면 +와 동일한 의미가 됩니다."
      ],
      "metadata": {
        "id": "BU9dh-8RZQ5V"
      }
    },
    {
      "cell_type": "code",
      "source": [
        "r = re.compile('a{2,}bc')\n",
        "\n",
        "# 아무런 결과도 출력되지 않는다.\n",
        "r.search('bc')\n",
        "r.search('aa')"
      ],
      "metadata": {
        "id": "dXvOvrOtZcxS"
      },
      "execution_count": null,
      "outputs": []
    },
    {
      "cell_type": "code",
      "source": [
        "r.search(\"aabc\")"
      ],
      "metadata": {
        "colab": {
          "base_uri": "https://localhost:8080/"
        },
        "id": "LDxze7vdZpx8",
        "outputId": "fc8f1a26-28f6-4587-cb21-2aa6ae16d0ca"
      },
      "execution_count": null,
      "outputs": [
        {
          "output_type": "execute_result",
          "data": {
            "text/plain": [
              "<re.Match object; span=(0, 4), match='aabc'>"
            ]
          },
          "metadata": {},
          "execution_count": 37
        }
      ]
    },
    {
      "cell_type": "code",
      "source": [
        "r.search('aaaaaaaabc')"
      ],
      "metadata": {
        "colab": {
          "base_uri": "https://localhost:8080/"
        },
        "id": "sakOv0OlaehI",
        "outputId": "6047a24d-f330-4424-c446-2e40a52c83a9"
      },
      "execution_count": null,
      "outputs": [
        {
          "output_type": "execute_result",
          "data": {
            "text/plain": [
              "<re.Match object; span=(0, 10), match='aaaaaaaabc'>"
            ]
          },
          "metadata": {},
          "execution_count": 38
        }
      ]
    },
    {
      "cell_type": "markdown",
      "source": [
        "### (9) [ ] 기호\n",
        "\n",
        "[ ]안에 문자들을 넣으면 그 문자들 중 한 개의 문자와 매치라는 의미를 가집니다. 예를 들어서 정규 표현식이 [abc]라면, a 또는 b또는 c가 들어가있는 문자열과 매치됩니다. 범위를 지정하는 것도 가능합니다. [a-zA-Z]는 알파벳 전부를 의미하며, [0-9]는 숫자 전부를 의미합니다."
      ],
      "metadata": {
        "id": "Ym9Z4S7baj4t"
      }
    },
    {
      "cell_type": "code",
      "source": [
        "r = re.compile('[abc]') # [abc]는 [a-c]와 같다\n",
        "r.search('zzz') # 아무런 결과도 출력되지 않는다.\n",
        "r.search('a')"
      ],
      "metadata": {
        "colab": {
          "base_uri": "https://localhost:8080/"
        },
        "id": "WyyKLceeaqgv",
        "outputId": "53727634-f4ba-4791-9834-2336f0188a3d"
      },
      "execution_count": null,
      "outputs": [
        {
          "output_type": "execute_result",
          "data": {
            "text/plain": [
              "<re.Match object; span=(0, 1), match='a'>"
            ]
          },
          "metadata": {},
          "execution_count": 39
        }
      ]
    },
    {
      "cell_type": "code",
      "source": [
        "r.search('aaaaaaaa')"
      ],
      "metadata": {
        "colab": {
          "base_uri": "https://localhost:8080/"
        },
        "id": "lt4JU41cay9q",
        "outputId": "4d9bc377-9155-49f1-bc4c-8469bb0db59f"
      },
      "execution_count": null,
      "outputs": [
        {
          "output_type": "execute_result",
          "data": {
            "text/plain": [
              "<re.Match object; span=(0, 1), match='a'>"
            ]
          },
          "metadata": {},
          "execution_count": 40
        }
      ]
    },
    {
      "cell_type": "code",
      "source": [
        "r.search('baaaac')"
      ],
      "metadata": {
        "colab": {
          "base_uri": "https://localhost:8080/"
        },
        "id": "r-yj3A0ja1Fb",
        "outputId": "9d101d4c-1bd6-4d54-f4f1-591bdd78daf1"
      },
      "execution_count": null,
      "outputs": [
        {
          "output_type": "execute_result",
          "data": {
            "text/plain": [
              "<re.Match object; span=(0, 1), match='b'>"
            ]
          },
          "metadata": {},
          "execution_count": 41
        }
      ]
    },
    {
      "cell_type": "markdown",
      "source": [
        "이번에는 알파벳 소문자에 대해서 범위 지정하여 정규 표현식을 만들어보고 문자열과 매치해보겠습니다.\n",
        "\n"
      ],
      "metadata": {
        "id": "CD5dINWMa8-A"
      }
    },
    {
      "cell_type": "code",
      "source": [
        "r = re.compile('[a-z]')\n",
        "\n",
        "# 아무런 결과도 출력되지 않는다.\n",
        "r.search('AAA')\n",
        "r.search('111')"
      ],
      "metadata": {
        "id": "UcH8BjPea9WM"
      },
      "execution_count": null,
      "outputs": []
    },
    {
      "cell_type": "code",
      "source": [
        "r.search('aBC')"
      ],
      "metadata": {
        "colab": {
          "base_uri": "https://localhost:8080/"
        },
        "id": "-yXq_5CRbDf8",
        "outputId": "9718d1a6-88f2-4516-882c-46c9cdea0aac"
      },
      "execution_count": null,
      "outputs": [
        {
          "output_type": "execute_result",
          "data": {
            "text/plain": [
              "<re.Match object; span=(0, 1), match='a'>"
            ]
          },
          "metadata": {},
          "execution_count": 43
        }
      ]
    },
    {
      "cell_type": "markdown",
      "source": [
        "### (10) [^문자] 기호\n",
        "\n",
        "[^문자]는 ^기호 뒤에 붙은 문자들을 제외한 모든 문자를 매치하는 역할을 합니다. 예를 들어서 [^abc]라는 정규 표현식이 있다면, a 또는 b 또는 c가 들어간 문자열을 제외한 모든 문자열을 매치합니다.\n",
        "\n"
      ],
      "metadata": {
        "id": "Txne79_ibG2E"
      }
    },
    {
      "cell_type": "code",
      "source": [
        "r = re.compile('[^abc]')\n",
        "\n",
        "# 아무런 결과도 출력되지 않는다.\n",
        "r.search('a')\n",
        "r.search('ab')\n",
        "r.search('b')"
      ],
      "metadata": {
        "id": "pLY5wQYabKQV"
      },
      "execution_count": null,
      "outputs": []
    },
    {
      "cell_type": "code",
      "source": [
        "r.search('d')"
      ],
      "metadata": {
        "colab": {
          "base_uri": "https://localhost:8080/"
        },
        "id": "bF6xsabEbS06",
        "outputId": "6ef20f62-a6a7-4328-a6f5-ca7e4e90fda6"
      },
      "execution_count": null,
      "outputs": [
        {
          "output_type": "execute_result",
          "data": {
            "text/plain": [
              "<re.Match object; span=(0, 1), match='d'>"
            ]
          },
          "metadata": {},
          "execution_count": 45
        }
      ]
    },
    {
      "cell_type": "code",
      "source": [
        "r.search('1')"
      ],
      "metadata": {
        "colab": {
          "base_uri": "https://localhost:8080/"
        },
        "id": "dabe2DpwbT1k",
        "outputId": "d1ea87c8-c225-4621-f7b9-2e63df5a0d9c"
      },
      "execution_count": null,
      "outputs": [
        {
          "output_type": "execute_result",
          "data": {
            "text/plain": [
              "<re.Match object; span=(0, 1), match='1'>"
            ]
          },
          "metadata": {},
          "execution_count": 46
        }
      ]
    },
    {
      "cell_type": "markdown",
      "source": [
        "## 3) 정규 표현식 모듈 함수 예제\n",
        "\n",
        "앞서 re.compile()과 re.search()를 사용해보았습니다. 다른 정규 표현식 모듈 함수에 대해서 실습을 진행해보겠습니다.\n",
        "\n"
      ],
      "metadata": {
        "id": "GCW08oeZbVdY"
      }
    },
    {
      "cell_type": "markdown",
      "source": [
        "### (1) re.match()와 re.search()의 차이\n",
        "\n",
        "search()가 정규 표현식 전체에 대해서 문자열이 매치하는지를 본다면, match()는 문자열의 첫 부분부터 정규 표현식과 매치하는지를 확인합니다. 문자열 중간에 찾을 패턴이 있더라도 match 함수는 문자열의 시작에서 패턴이 일치하지 않으면 찾지 않습니다."
      ],
      "metadata": {
        "id": "GNOdYYvzbYqS"
      }
    },
    {
      "cell_type": "code",
      "source": [
        "r = re.compile('ab.')\n",
        "r.match('kkkabc') # 아무런 결과도 출력되지 않는다.\n"
      ],
      "metadata": {
        "id": "KP-r11NTbqg9"
      },
      "execution_count": null,
      "outputs": []
    },
    {
      "cell_type": "code",
      "source": [
        "r.search('kkkabc')"
      ],
      "metadata": {
        "colab": {
          "base_uri": "https://localhost:8080/"
        },
        "id": "Ovq30PB_bvnM",
        "outputId": "f332c8c5-6ab0-4985-befc-ddc96f17c5b9"
      },
      "execution_count": null,
      "outputs": [
        {
          "output_type": "execute_result",
          "data": {
            "text/plain": [
              "<re.Match object; span=(3, 6), match='abc'>"
            ]
          },
          "metadata": {},
          "execution_count": 49
        }
      ]
    },
    {
      "cell_type": "code",
      "source": [
        "r.match('abckkk')"
      ],
      "metadata": {
        "colab": {
          "base_uri": "https://localhost:8080/"
        },
        "id": "8MF_8bnnbwla",
        "outputId": "44be20c5-82be-40ce-8dcb-b4db31a3ee7e"
      },
      "execution_count": null,
      "outputs": [
        {
          "output_type": "execute_result",
          "data": {
            "text/plain": [
              "<re.Match object; span=(0, 3), match='abc'>"
            ]
          },
          "metadata": {},
          "execution_count": 50
        }
      ]
    },
    {
      "cell_type": "markdown",
      "source": [
        "위 경우 정규 표현식이 ab. 이기때문에, ab 다음에는 어떤 한 글자가 존재할 수 있다는 패턴을 의미합니다. search 모듈 함수에 kkkabc라는 문자열을 넣어 매치되는지 확인한다면 abc라는 문자열에서 매치되어 Match object를 리턴합니다. 하지만 match 모듈 함수의 경우 앞 부분이 ab.와 매치되지 않기때문에, 아무런 결과도 출력되지 않습니다. 하지만 반대로 abckkk로 매치를 시도해보면, 시작 부분에서 패턴과 매치되었기 때문에 정상적으로 Match object를 리턴합니다.\n",
        "\n"
      ],
      "metadata": {
        "id": "ZqXqXck3b08Q"
      }
    },
    {
      "cell_type": "markdown",
      "source": [
        "### (2) re.split( )\n",
        "\n",
        "split( ) 함수는 입력된 정규 표현식을 기준으로 문자열들을 분리하여 리스트로 리턴합니다. 토큰화에 유용하게 쓰일 수 있습니다. 공백을 기준으로 문자열 분리를 수행하고 결과로서 리스트를 리턴해봅시다.\n",
        "\n"
      ],
      "metadata": {
        "id": "l2rGRM8Vb84y"
      }
    },
    {
      "cell_type": "code",
      "source": [
        "# 공백 기준 분리\n",
        "\n",
        "text = '사과 딸기 수박 메론 바나나'\n",
        "re.split(' ', text)"
      ],
      "metadata": {
        "colab": {
          "base_uri": "https://localhost:8080/"
        },
        "id": "j00O5XkEcBqB",
        "outputId": "43548d2c-2efc-4247-f17b-008974231fce"
      },
      "execution_count": null,
      "outputs": [
        {
          "output_type": "execute_result",
          "data": {
            "text/plain": [
              "['사과', '딸기', '수박', '메론', '바나나']"
            ]
          },
          "metadata": {},
          "execution_count": 52
        }
      ]
    },
    {
      "cell_type": "markdown",
      "source": [
        "이와 유사하게 줄바꿈이나 다른 정규 표현식을 기준으로 텍스트를 분리할 수도 있습니다.\n",
        "\n"
      ],
      "metadata": {
        "id": "aLgSUyVXcIA2"
      }
    },
    {
      "cell_type": "code",
      "source": [
        "# 줄바꿈 기준 분리\n",
        "text = \"\"\"사과\n",
        "딸기\n",
        "수박\n",
        "메론\n",
        "바나나\"\"\"\n",
        "\n",
        "\n",
        "re.split('\\n', text)"
      ],
      "metadata": {
        "colab": {
          "base_uri": "https://localhost:8080/"
        },
        "id": "QSWsUgivcMg_",
        "outputId": "715212f5-8970-4237-ae84-2677632fabce"
      },
      "execution_count": null,
      "outputs": [
        {
          "output_type": "execute_result",
          "data": {
            "text/plain": [
              "['사과', '딸기', '수박', '메론', '바나나']"
            ]
          },
          "metadata": {},
          "execution_count": 53
        }
      ]
    },
    {
      "cell_type": "code",
      "source": [
        "# '+'를 기준으로 분리\n",
        "text = \"사과+딸기+수박+메론+바나나\"\n",
        "\n",
        "re.split(\"\\+\", text)"
      ],
      "metadata": {
        "colab": {
          "base_uri": "https://localhost:8080/"
        },
        "id": "GkXLABsFchpI",
        "outputId": "bb5c5d18-61de-4d92-f691-4985ceda663d"
      },
      "execution_count": null,
      "outputs": [
        {
          "output_type": "execute_result",
          "data": {
            "text/plain": [
              "['사과', '딸기', '수박', '메론', '바나나']"
            ]
          },
          "metadata": {},
          "execution_count": 55
        }
      ]
    },
    {
      "cell_type": "markdown",
      "source": [
        "### (3) re.findall()\n",
        "\n",
        "findall() 함수는 정규 표현식과 매치되는 모든 문자열들을 리스트로 리턴합니다. 단, 매치되는 문자열이 없다면 빈 리스트를 리턴합니다. 임의의 텍스트에 정규 표현식으로 숫자를 의미하는 규칙으로 findall()을 수행하면 전체 텍스트로부터 숫자만 찾아내서 리스트로 리턴합니다."
      ],
      "metadata": {
        "id": "GbHEJ8QxcsAb"
      }
    },
    {
      "cell_type": "code",
      "source": [
        "text = \"\"\"이름 : 김철수\n",
        "전화번호 : 010 - 1234 - 1234\n",
        "나이 : 30\n",
        "성별 : 남\"\"\"\n",
        "\n",
        "re.findall('\\d+', text)"
      ],
      "metadata": {
        "colab": {
          "base_uri": "https://localhost:8080/"
        },
        "id": "rEL2g3yCczmg",
        "outputId": "4ed10ae2-fc18-4060-ed93-185ecff5ca1e"
      },
      "execution_count": null,
      "outputs": [
        {
          "output_type": "execute_result",
          "data": {
            "text/plain": [
              "['010', '1234', '1234', '30']"
            ]
          },
          "metadata": {},
          "execution_count": 56
        }
      ]
    },
    {
      "cell_type": "markdown",
      "source": [
        "하지만 만약 입력 텍스트에 숫자가 없다면 빈 리스트를 리턴하게 됩니다.\n",
        "\n"
      ],
      "metadata": {
        "id": "hlboZsW9c4RF"
      }
    },
    {
      "cell_type": "code",
      "source": [
        "re.findall(\"\\d+\", \"문자열입니다.\")\n"
      ],
      "metadata": {
        "colab": {
          "base_uri": "https://localhost:8080/"
        },
        "id": "BZBOUazUc561",
        "outputId": "c25920f9-b085-4ac5-8262-8f0885bb9acf"
      },
      "execution_count": null,
      "outputs": [
        {
          "output_type": "execute_result",
          "data": {
            "text/plain": [
              "[]"
            ]
          },
          "metadata": {},
          "execution_count": 57
        }
      ]
    },
    {
      "cell_type": "markdown",
      "source": [
        "### (4) re.sub()\n",
        "\n",
        "sub() 함수는 정규 표현식 패턴과 일치하는 문자열을 찾아 다른 문자열로 대체할 수 있습니다. 아래와 같은 정제 작업에 많이 사용되는데, 영어 문장에 각주 등과 같은 이유로 특수 문자가 섞여있는 경우에 특수 문자를 제거하고 싶다면 알파벳 외의 문자는 공백으로 처리하는 등의 용도로 쓸 수 있습니다.\n",
        "\n"
      ],
      "metadata": {
        "id": "NPclmBzCc7JL"
      }
    },
    {
      "cell_type": "code",
      "source": [
        "text = \"Regular expression : A regular expression, regex or regexp[1] (sometimes called a rational expression)[2][3] is, in theoretical computer science and formal language theory, a sequence of characters that define a search pattern.\"\n",
        "\n",
        "preprocessed_text = re.sub('[^a-zA-Z]', ' ', text)\n",
        "print(preprocessed_text)"
      ],
      "metadata": {
        "colab": {
          "base_uri": "https://localhost:8080/"
        },
        "id": "uL5sGkugdEcE",
        "outputId": "b3433307-d2fc-4f07-eb0e-31160208d64f"
      },
      "execution_count": null,
      "outputs": [
        {
          "output_type": "stream",
          "name": "stdout",
          "text": [
            "Regular expression   A regular expression  regex or regexp     sometimes called a rational expression        is  in theoretical computer science and formal language theory  a sequence of characters that define a search pattern \n"
          ]
        }
      ]
    },
    {
      "cell_type": "markdown",
      "source": [
        "## 4) 정규 표현식 텍스트 전처리 예제\n",
        "\n",
        "다음과 같은 임의의 텍스트가 있다고 해봅시다. 테이블 형식의 데이터를 텍스트에 저장하였습니다."
      ],
      "metadata": {
        "id": "yfk16TW1dRMx"
      }
    },
    {
      "cell_type": "code",
      "source": [
        "text = \"\"\"100 John    PROF\n",
        "101 James   STUD\n",
        "102 Mac   STUD\"\"\""
      ],
      "metadata": {
        "id": "Vg8ZPMAEdYwk"
      },
      "execution_count": null,
      "outputs": []
    },
    {
      "cell_type": "markdown",
      "source": [
        "'\\s+'는 공백을 찾아내는 정규표현식입니다. 뒤에 붙는 +는 최소 1개 이상의 패턴을 찾아낸다는 의미입니다. s는 공백을 의미하기 때문에 최소 1개 이상의 공백인 패턴을 찾아냅니다. split은 주어진 정규표현식을 기준으로 분리하므로 결과는 아래와 같습니다.\n"
      ],
      "metadata": {
        "id": "D9FkPNVBdalQ"
      }
    },
    {
      "cell_type": "code",
      "source": [
        "re.split('\\s+', text)"
      ],
      "metadata": {
        "colab": {
          "base_uri": "https://localhost:8080/"
        },
        "id": "76WD5ALFdeeS",
        "outputId": "02342051-58b3-4e30-d731-043fce5cfa75"
      },
      "execution_count": null,
      "outputs": [
        {
          "output_type": "execute_result",
          "data": {
            "text/plain": [
              "['100', 'John', 'PROF', '101', 'James', 'STUD', '102', 'Mac', 'STUD']"
            ]
          },
          "metadata": {},
          "execution_count": 63
        }
      ]
    },
    {
      "cell_type": "markdown",
      "source": [
        "공백을 기준으로 값이 구분되었습니다. 해당 입력으로부터 숫자만을 뽑아온다고 해봅시다. 여기서 \\d는 숫자에 해당되는 정규표현식입니다. +를 붙이면 최소 1개 이상의 숫자에 해당하는 값을 의미합니다. findall()은 해당 표현식에 일치하는 값을 찾아냅니다.\n",
        "\n"
      ],
      "metadata": {
        "id": "13njRlJkdi6c"
      }
    },
    {
      "cell_type": "code",
      "source": [
        "re.findall('\\d+', text)"
      ],
      "metadata": {
        "colab": {
          "base_uri": "https://localhost:8080/"
        },
        "id": "JEiNkrmxdkuS",
        "outputId": "9808bf1f-cd31-421f-d85a-c6ef14ba3be1"
      },
      "execution_count": null,
      "outputs": [
        {
          "output_type": "execute_result",
          "data": {
            "text/plain": [
              "['100', '101', '102']"
            ]
          },
          "metadata": {},
          "execution_count": 64
        }
      ]
    },
    {
      "cell_type": "markdown",
      "source": [
        "이번에는 텍스트로부터 대문자인 행의 값만 가져와봅시다. 이 경우 정규 표현식에 대문자를 기준으로 매치시키면 됩니다. 하지만 정규 표현식에 대문자라는 기준만을 넣을 경우에는 문자열을 가져오는 것이 아니라 모든 대문자 각각을 갖고오게 됩니다.\n",
        "\n"
      ],
      "metadata": {
        "id": "Y7yFwAzSdoyO"
      }
    },
    {
      "cell_type": "code",
      "source": [
        "re.findall('[A-Z]', text)"
      ],
      "metadata": {
        "colab": {
          "base_uri": "https://localhost:8080/"
        },
        "id": "FTAYdywXdrbq",
        "outputId": "caf20a73-e5a2-4936-c790-603fb7b7b87c"
      },
      "execution_count": null,
      "outputs": [
        {
          "output_type": "execute_result",
          "data": {
            "text/plain": [
              "['J', 'P', 'R', 'O', 'F', 'J', 'S', 'T', 'U', 'D', 'M', 'S', 'T', 'U', 'D']"
            ]
          },
          "metadata": {},
          "execution_count": 65
        }
      ]
    },
    {
      "cell_type": "code",
      "source": [
        "re.findall('[A-Z]{4}', text)"
      ],
      "metadata": {
        "colab": {
          "base_uri": "https://localhost:8080/"
        },
        "id": "pRD5EC05du4n",
        "outputId": "3284e1e0-120f-432c-a904-8be99090b799"
      },
      "execution_count": null,
      "outputs": [
        {
          "output_type": "execute_result",
          "data": {
            "text/plain": [
              "['PROF', 'STUD', 'STUD']"
            ]
          },
          "metadata": {},
          "execution_count": 66
        }
      ]
    },
    {
      "cell_type": "markdown",
      "source": [
        "대문자로 구성된 문자열들을 가져옵니다. 이름의 경우에는 대문자와 소문자가 섞여있는 상황입니다. 이름에 대한 행의 값을 갖고오고 싶다면 처음에 대문자가 등장한 후에 소문자가 여러번 등장하는 경우에 매치하게 합니다.\n",
        "\n"
      ],
      "metadata": {
        "id": "DS1Hhkrqdzrm"
      }
    },
    {
      "cell_type": "code",
      "source": [
        "re.findall('[A-Z][a-z]+', text)"
      ],
      "metadata": {
        "colab": {
          "base_uri": "https://localhost:8080/"
        },
        "id": "ju-ffpMtdz_U",
        "outputId": "01a0d0d8-9565-4371-b5c5-1059ae281343"
      },
      "execution_count": null,
      "outputs": [
        {
          "output_type": "execute_result",
          "data": {
            "text/plain": [
              "['John', 'James', 'Mac']"
            ]
          },
          "metadata": {},
          "execution_count": 67
        }
      ]
    },
    {
      "cell_type": "markdown",
      "source": [
        "## 5) 정규 표현식을 이용한 토큰화\n",
        "\n",
        "NLTK에서는 정규 표현식을 사용해서 단어 토큰화를 수행하는 RegexpTokenizer를 지원합니다. RegexpTokenizer()에서 괄호 안에 하나의 토큰으로 규정하기를 원하는 정규 표현식을 넣어서 토큰화를 수행합니다. \n",
        "\n",
        "tokenizer1에 사용한 \\w+는 문자 또는 숫자가 1개 이상인 경우를 의미합니다.\n",
        "\n"
      ],
      "metadata": {
        "id": "WPT2kE8xd5k6"
      }
    },
    {
      "cell_type": "code",
      "source": [
        "from nltk.tokenize import RegexpTokenizer\n",
        "\n",
        "text = \"Don't be fooled by the dark sounding name, Mr. Jone's Orphanage is as cheery as cheery goes for a pastry shop\"\n",
        "\n",
        "tokenizer1 = RegexpTokenizer('[\\w]+')\n",
        "print(tokenizer1.tokenize(text))"
      ],
      "metadata": {
        "colab": {
          "base_uri": "https://localhost:8080/"
        },
        "id": "_q0gWeeYeFjY",
        "outputId": "972dbf39-928e-4d05-d40f-e268fa633d67"
      },
      "execution_count": null,
      "outputs": [
        {
          "output_type": "stream",
          "name": "stdout",
          "text": [
            "['Don', 't', 'be', 'fooled', 'by', 'the', 'dark', 'sounding', 'name', 'Mr', 'Jone', 's', 'Orphanage', 'is', 'as', 'cheery', 'as', 'cheery', 'goes', 'for', 'a', 'pastry', 'shop']\n"
          ]
        }
      ]
    },
    {
      "cell_type": "markdown",
      "source": [
        "tokenizer2에서는 공백을 기준으로 토큰화하도록 했습니다. gaps=true는 해당 정규 표현식을 토큰으로 나누기 위한 기준으로 사용한다는 의미입니다. 만약 gaps=True라는 부분을 기재하지 않는다면, 토큰화의 결과는 공백들만 나오게 됩니다. tokenizer2의 결과는 위의 tokenizer1의 결과와는 달리 아포스트로피나 온점을 제외하지 않고 토큰화가 수행된 것을 확인할 수 있습니다.\n",
        "\n"
      ],
      "metadata": {
        "id": "eL-qsN5ceeYg"
      }
    },
    {
      "cell_type": "code",
      "source": [
        "tokenizer2 = RegexpTokenizer('\\s+', gaps = True)\n",
        "print(tokenizer2.tokenize(text))"
      ],
      "metadata": {
        "colab": {
          "base_uri": "https://localhost:8080/"
        },
        "id": "ZSjZp4cseT4J",
        "outputId": "0ea9f1da-8f6f-412c-9947-ba8ee812a194"
      },
      "execution_count": null,
      "outputs": [
        {
          "output_type": "stream",
          "name": "stdout",
          "text": [
            "[\"Don't\", 'be', 'fooled', 'by', 'the', 'dark', 'sounding', 'name,', 'Mr.', \"Jone's\", 'Orphanage', 'is', 'as', 'cheery', 'as', 'cheery', 'goes', 'for', 'a', 'pastry', 'shop']\n"
          ]
        }
      ]
    },
    {
      "cell_type": "markdown",
      "source": [
        "# 6. 정수 인코딩(Integer Encoding)\n",
        "\n",
        "컴퓨터는 텍스트보다는 숫자를 더 잘 처리 할 수 있습니다. 이를 위해 자연어 처리에서는 텍스트를 숫자로 바꾸는 여러가지 기법들이 있습니다. 그리고 그러한 기법들을 본격적으로 적용시키기 위한 첫 단계로 각 단어를 고유한 정수에 맵핑(mapping)시키는 전처리 작업이 필요할 때가 있습니다.\n",
        "\n",
        "예를 들어 갖고 있는 텍스트에 단어가 5,000개가 있다면, 5,000개의 단어들 각각에 1번부터 5,000번까지 단어와 맵핑되는 고유한 정수. 다른 표현으로는 인덱스를 부여합니다. 가령, book은 150번, dog는 171번, love는 192번, books는 212번과 같이 숫자가 부여됩니다. 인덱스를 부여하는 방법은 여러 가지가 있을 수 있는데 랜덤으로 부여하기도 하지만, 보통은 단어 등장 빈도수를 기준으로 정렬한 뒤에 부여합니다.\n",
        "\n"
      ],
      "metadata": {
        "id": "c4YYCq7Nw4mQ"
      }
    },
    {
      "cell_type": "markdown",
      "source": [
        "## 1) 정수 인코딩(Integer Encoding)\n",
        "\n",
        "왜 이러한 작업이 필요한 지에 대해서는 뒤에서 원-핫 인코딩 실습이나, 워드 임베딩 챕터 등에서 알아보기로 하고 여기서는 어떤 과정으로 단어에 정수 인덱스를 부여하는지에 대해서만 정리하겠습니다.\n",
        "\n",
        "단어에 정수를 부여하는 방법 중 하나로 단어를 빈도수 순으로 정렬한 단어 집합(vocabulary)을 만들고, 빈도수가 높은 순서대로 차례로 낮은 숫자부터 정수를 부여하는 방법이 있습니다. 이해를 돕기위해 단어의 빈도수가 적당하게 분포되도록 의도적으로 만든 텍스트 데이터를 가지고 실습해보겠습니다.\n",
        "\n"
      ],
      "metadata": {
        "id": "95C2SnMXxA6s"
      }
    },
    {
      "cell_type": "markdown",
      "source": [
        "### (1) dictionary 사용하기"
      ],
      "metadata": {
        "id": "nZsVC1dvxJCn"
      }
    },
    {
      "cell_type": "code",
      "source": [
        "from nltk.tokenize import sent_tokenize\n",
        "from nltk.tokenize import word_tokenize\n",
        "from nltk.corpus import stopwords"
      ],
      "metadata": {
        "id": "9_ofgyvCxL-s"
      },
      "execution_count": null,
      "outputs": []
    },
    {
      "cell_type": "code",
      "source": [
        "raw_text = \"A barber is a person. a barber is good person. a barber is huge person. he Knew A Secret! The Secret He Kept is huge secret. Huge secret. His barber kept his word. a barber kept his word. His barber kept his secret. But keeping and keeping such a huge secret to himself was driving the barber crazy. the barber went up a huge mountain.\""
      ],
      "metadata": {
        "id": "4wtfjl1nxTYL"
      },
      "execution_count": null,
      "outputs": []
    },
    {
      "cell_type": "markdown",
      "source": [
        "우선 여러 문장이 함께 있는 텍스트 데이터로부터 문장 토큰화를 수행해보겠습니다.\n",
        "\n"
      ],
      "metadata": {
        "id": "WwPmsBIsxYf9"
      }
    },
    {
      "cell_type": "code",
      "source": [
        "# 문장 토큰화\n",
        "sentences = sent_tokenize(raw_text)\n",
        "print(sentences)"
      ],
      "metadata": {
        "colab": {
          "base_uri": "https://localhost:8080/"
        },
        "id": "Uq9RE1ClxaKq",
        "outputId": "c7fadfd2-5add-4dc0-847e-2cee887f1f24"
      },
      "execution_count": null,
      "outputs": [
        {
          "output_type": "stream",
          "name": "stdout",
          "text": [
            "['A barber is a person.', 'a barber is good person.', 'a barber is huge person.', 'he Knew A Secret!', 'The Secret He Kept is huge secret.', 'Huge secret.', 'His barber kept his word.', 'a barber kept his word.', 'His barber kept his secret.', 'But keeping and keeping such a huge secret to himself was driving the barber crazy.', 'the barber went up a huge mountain.']\n"
          ]
        }
      ]
    },
    {
      "cell_type": "markdown",
      "source": [
        "기존의 텍스트 데이터가 문장 단위로 토큰화 된 것을 확인할 수 있습니다. 이제 정제 작업과 정규화 작업을 병행하며, 단어 토큰화를 수행합니다. 여기서는 단어들을 소문자화하여 단어의 개수를 통일시키고, 불용어와 단어 길이가 2이하인 경우에 대해서 단어를 일부 제외시켜주었습니다. 텍스트를 수치화하는 단계라는 것은 본격적으로 자연어 처리 작업에 들어간다는 의미이므로, 단어가 텍스트일 때만 할 수 있는 최대한의 전처리를 끝내놓아야 합니다.\n",
        "\n"
      ],
      "metadata": {
        "id": "ax8w-Qh-yKJy"
      }
    },
    {
      "cell_type": "code",
      "source": [
        "vocab = {}\n",
        "preprocessed_sentences = []\n",
        "stop_words = set(stopwords.words('english'))\n",
        "\n",
        "for sentence in sentences:\n",
        "  # 단어 토큰화\n",
        "  tokenized_sentence = word_tokenize(sentence)\n",
        "  result = []\n",
        "\n",
        "  for word in tokenized_sentence:\n",
        "    word = word.lower() # 모든 단어를 소문자화하여 단어의 개수를 줄인다.\n",
        "\n",
        "    if word not in stop_words: # 단어가 토큰화 된 결과에 대해서 불용어를 제거한다.\n",
        "      if len(word) > 2: # 단어 길이가 2이하인 경우에 대하여 추가로 단어를 제거한다.\n",
        "        result.append(word)\n",
        "        \n",
        "        if word not in vocab:\n",
        "          vocab[word] = 0\n",
        "        vocab[word] += 1\n",
        "\n",
        "  preprocessed_sentences.append(result)\n",
        "\n",
        "print(preprocessed_sentences)"
      ],
      "metadata": {
        "colab": {
          "base_uri": "https://localhost:8080/"
        },
        "id": "CijbgbbxyKlH",
        "outputId": "690fa824-5a46-4bbb-e58f-1635043d57f3"
      },
      "execution_count": null,
      "outputs": [
        {
          "output_type": "stream",
          "name": "stdout",
          "text": [
            "[['barber', 'person'], ['barber', 'good', 'person'], ['barber', 'huge', 'person'], ['knew', 'secret'], ['secret', 'kept', 'huge', 'secret'], ['huge', 'secret'], ['barber', 'kept', 'word'], ['barber', 'kept', 'word'], ['barber', 'kept', 'secret'], ['keeping', 'keeping', 'huge', 'secret', 'driving', 'barber', 'crazy'], ['barber', 'went', 'huge', 'mountain']]\n"
          ]
        }
      ]
    },
    {
      "cell_type": "markdown",
      "source": [
        "현재 vocab에는 각 단어에 대한 빈도수가 기록되어져 있습니다. vocab을 출력해보겠습니다.\n",
        "\n"
      ],
      "metadata": {
        "id": "jlYwUNbDzM0c"
      }
    },
    {
      "cell_type": "code",
      "source": [
        "print('단어 집합 : ', vocab)"
      ],
      "metadata": {
        "colab": {
          "base_uri": "https://localhost:8080/"
        },
        "id": "9Gn6jd8tzNRA",
        "outputId": "a50897a9-7861-4c7e-b5d5-fb2d598d9cde"
      },
      "execution_count": null,
      "outputs": [
        {
          "output_type": "stream",
          "name": "stdout",
          "text": [
            "단어 집합 :  {'barber': 8, 'person': 3, 'good': 1, 'huge': 5, 'knew': 1, 'secret': 6, 'kept': 4, 'word': 2, 'keeping': 2, 'driving': 1, 'crazy': 1, 'went': 1, 'mountain': 1}\n"
          ]
        }
      ]
    },
    {
      "cell_type": "markdown",
      "source": [
        "파이썬의 딕셔너리 구조로 단어를 키(key)로, 단어에 대한 빈도수가 값(value)으로 저장되어져 있습니다. vocab에 단어를 입력하면 빈도수를 리턴합니다.\n",
        "\n"
      ],
      "metadata": {
        "id": "dpVyKwqozRpQ"
      }
    },
    {
      "cell_type": "code",
      "source": [
        "# 'barber'라는 단어의 빈도수 출력\n",
        "print(vocab['barber'])"
      ],
      "metadata": {
        "colab": {
          "base_uri": "https://localhost:8080/"
        },
        "id": "yA4AzBGQzR82",
        "outputId": "b1d3b350-fd15-463c-bcc7-818baab42c8f"
      },
      "execution_count": null,
      "outputs": [
        {
          "output_type": "stream",
          "name": "stdout",
          "text": [
            "8\n"
          ]
        }
      ]
    },
    {
      "cell_type": "markdown",
      "source": [
        "이제 빈도수가 높은 순서대로 정렬해보겠습니다.\n",
        "\n"
      ],
      "metadata": {
        "id": "V9P6nPo6zWpS"
      }
    },
    {
      "cell_type": "code",
      "source": [
        "vocab_sorted = sorted(vocab.items(), key = lambda x: x[1], reverse = True)\n",
        "print(vocab_sorted)"
      ],
      "metadata": {
        "colab": {
          "base_uri": "https://localhost:8080/"
        },
        "id": "zz3TkC2jzXz_",
        "outputId": "37eeb527-03aa-41c0-ece2-6e9d77ce3ddb"
      },
      "execution_count": null,
      "outputs": [
        {
          "output_type": "stream",
          "name": "stdout",
          "text": [
            "[('barber', 8), ('secret', 6), ('huge', 5), ('kept', 4), ('person', 3), ('word', 2), ('keeping', 2), ('good', 1), ('knew', 1), ('driving', 1), ('crazy', 1), ('went', 1), ('mountain', 1)]\n"
          ]
        }
      ]
    },
    {
      "cell_type": "markdown",
      "source": [
        "높은 빈도수를 가진 단어일수록 낮은 정수를 부여합니다. 정수는 1부터 부여합니다.\n",
        "\n"
      ],
      "metadata": {
        "id": "J4I32WnI0KIl"
      }
    },
    {
      "cell_type": "code",
      "source": [
        "word_to_index = {}\n",
        "i = 0\n",
        "for (word, frequency) in vocab_sorted:\n",
        "  if frequency > 1 : # 빈도수가 작은 단어는 제외.\n",
        "    i = i + 1\n",
        "    word_to_index[word] = i\n",
        "\n",
        "print(word_to_index)"
      ],
      "metadata": {
        "colab": {
          "base_uri": "https://localhost:8080/"
        },
        "id": "jMlSTfMI0K2P",
        "outputId": "65d58d9e-5dbb-4371-f6db-4899f1153fa8"
      },
      "execution_count": null,
      "outputs": [
        {
          "output_type": "stream",
          "name": "stdout",
          "text": [
            "{'barber': 1, 'secret': 2, 'huge': 3, 'kept': 4, 'person': 5, 'word': 6, 'keeping': 7}\n"
          ]
        }
      ]
    },
    {
      "cell_type": "markdown",
      "source": [
        "1의 인덱스를 가진 단어가 가장 빈도수가 높은 단어가 됩니다. 그리고 이러한 작업을 수행하는 동시에 각 단어의 빈도수를 알 경우에만 할 수 있는 전처리인 빈도수가 적은 단어를 제외시키는 작업을 수행했습니다. 등장 빈도가 낮은 단어는 자연어 처리에서 의미를 가지지 않을 가능성이 높기 때문입니다. 여기서는 빈도수가 1인 단어들은 전부 제외시켰습니다.\n",
        "\n",
        "자연어 처리를 하다보면, 텍스트 데이터에 있는 단어를 모두 사용하기 보다는 빈도수가 가장 높은 n개의 단어만 사용하고 싶은 경우가 많습니다. 위 단어들은 빈도수가 높은 순으로 낮은 정수가 부여되어져 있으므로 빈도수 상위 n개의 단어만 사용하고 싶다고하면 vocab에서 정수값이 1부터 n까지인 단어들만 사용하면 됩니다. 여기서는 상위 5개 단어만 사용한다고 가정하겠습니다.\n",
        "\n"
      ],
      "metadata": {
        "id": "iyxvxP4d0s4F"
      }
    },
    {
      "cell_type": "code",
      "source": [
        "vocab_size = 5\n",
        "\n",
        "# 인덱스가 5 초과인 단어 제거\n",
        "words_frequency = [word for word, index in word_to_index.items() if index >= vocab_size + 1]\n",
        "\n",
        "print(words_frequency)\n",
        "# 해당 단어에 대한 인덱스 정보를 삭제\n",
        "for w in words_frequency:\n",
        "  del word_to_index[w]\n",
        "print(word_to_index)"
      ],
      "metadata": {
        "colab": {
          "base_uri": "https://localhost:8080/"
        },
        "id": "VHhcr0vP0nTM",
        "outputId": "7d60b682-731f-4ae4-88d0-8a6e8fbda0a8"
      },
      "execution_count": null,
      "outputs": [
        {
          "output_type": "stream",
          "name": "stdout",
          "text": [
            "['word', 'keeping']\n",
            "{'barber': 1, 'secret': 2, 'huge': 3, 'kept': 4, 'person': 5}\n"
          ]
        }
      ]
    },
    {
      "cell_type": "markdown",
      "source": [
        "word_to_index에는 빈도수가 높은 상위 5개의 단어만 저장되었습니다. word_to_index를 사용하여 단어 토큰화가 된 상태로 저장된 sentences에 있는 각 단어를 정수로 바꾸는 작업을 하겠습니다.\n",
        "\n",
        "예를 들어 sentences에서 첫번째 문장은 ['barber', 'person']이었는데, 이 문장에 대해서는 [1, 5]로 인코딩합니다. 그런데 두번째 문장인 ['barber', 'good', 'person']에는 더 이상 word_to_index에는 존재하지 않는 단어인 'good'이라는 단어가 있습니다.\n",
        "\n",
        "이처럼 단어 집합에 존재하지 않는 단어들이 생기는 상황을 **Out-Of-Vocabulary(단어 집합에 없는 단어)** 문제라고 합니다. 약자로 'OOV 문제'라고도 합니다. word_to_index에 'OOV'란 단어를 새롭게 추가하고, 단어 집합에 없는 단어들은 'OOV'의 인덱스로 인코딩하겠습니다.\n",
        "\n"
      ],
      "metadata": {
        "id": "wV53Zc2K3RWb"
      }
    },
    {
      "cell_type": "code",
      "source": [
        "word_to_index['OOV'] = len(word_to_index) + 1\n",
        "print(word_to_index)"
      ],
      "metadata": {
        "colab": {
          "base_uri": "https://localhost:8080/"
        },
        "id": "gCf8Z-1_3WDQ",
        "outputId": "545b26b1-7d22-439c-9098-a6b7efbf11c5"
      },
      "execution_count": null,
      "outputs": [
        {
          "output_type": "stream",
          "name": "stdout",
          "text": [
            "{'barber': 1, 'secret': 2, 'huge': 3, 'kept': 4, 'person': 5, 'OOV': 6}\n"
          ]
        }
      ]
    },
    {
      "cell_type": "markdown",
      "source": [
        "이제 word_to_index를 사용하여 sentences의 모든 단어들을 맵핑되는 정수로 인코딩하겠습니다.\n",
        "\n"
      ],
      "metadata": {
        "id": "uRSOi4LG3f6W"
      }
    },
    {
      "cell_type": "code",
      "source": [
        "preprocessed_sentences"
      ],
      "metadata": {
        "colab": {
          "base_uri": "https://localhost:8080/"
        },
        "id": "Oz83rt_h46Ir",
        "outputId": "34c3480f-ae00-470e-f387-7ada0789d26d"
      },
      "execution_count": null,
      "outputs": [
        {
          "output_type": "execute_result",
          "data": {
            "text/plain": [
              "[['barber', 'person'],\n",
              " ['barber', 'good', 'person'],\n",
              " ['barber', 'huge', 'person'],\n",
              " ['knew', 'secret'],\n",
              " ['secret', 'kept', 'huge', 'secret'],\n",
              " ['huge', 'secret'],\n",
              " ['barber', 'kept', 'word'],\n",
              " ['barber', 'kept', 'word'],\n",
              " ['barber', 'kept', 'secret'],\n",
              " ['keeping', 'keeping', 'huge', 'secret', 'driving', 'barber', 'crazy'],\n",
              " ['barber', 'went', 'huge', 'mountain']]"
            ]
          },
          "metadata": {},
          "execution_count": 85
        }
      ]
    },
    {
      "cell_type": "code",
      "source": [
        "encoded_sentences = []\n",
        "for sentence in preprocessed_sentences:\n",
        "  encoded_sentence = []\n",
        "  for word in sentence:\n",
        "    try:\n",
        "      # 단어 집합에 있는 단어라면 해당 단어의 정수를 리턴.\n",
        "      encoded_sentence.append(word_to_index[word])\n",
        "    except KeyError:\n",
        "      # 만약 단어 집합에 없는 단어라면 'OOV'의 정수를 리턴.\n",
        "      encoded_sentence.append(word_to_index['OOV'])\n",
        "\n",
        "  encoded_sentences.append(encoded_sentence)\n",
        "\n",
        "print(encoded_sentences)"
      ],
      "metadata": {
        "colab": {
          "base_uri": "https://localhost:8080/"
        },
        "id": "I49N7W8h3ge7",
        "outputId": "958746e7-14e7-4dba-a09e-1f46d9288959"
      },
      "execution_count": null,
      "outputs": [
        {
          "output_type": "stream",
          "name": "stdout",
          "text": [
            "[[1, 5], [1, 6, 5], [1, 3, 5], [6, 2], [2, 4, 3, 2], [3, 2], [1, 4, 6], [1, 4, 6], [1, 4, 2], [6, 6, 3, 2, 6, 1, 6], [1, 6, 3, 6]]\n"
          ]
        }
      ]
    },
    {
      "cell_type": "markdown",
      "source": [
        "지금까지 파이썬의 dictionary 자료형으로 정수 인코딩을 진행해보았습니다. 그런데 이보다는 좀 더 쉽게 하기 위해서 Counter, FreqDist, enumerate를 사용하거나, 케라스 토크나이저를 사용하는 것을 권장합니다.\n",
        "\n",
        "\n",
        "\n",
        "---\n",
        "\n"
      ],
      "metadata": {
        "id": "8tl3zM2w5GDB"
      }
    },
    {
      "cell_type": "markdown",
      "source": [
        "### (2) Counter 사용하기\n"
      ],
      "metadata": {
        "id": "DfTs4hHv6z1i"
      }
    },
    {
      "cell_type": "code",
      "source": [
        "from collections import Counter"
      ],
      "metadata": {
        "id": "UFh0GgXZ646a"
      },
      "execution_count": null,
      "outputs": []
    },
    {
      "cell_type": "code",
      "source": [
        "print(preprocessed_sentences)"
      ],
      "metadata": {
        "colab": {
          "base_uri": "https://localhost:8080/"
        },
        "id": "dOjRDj6q7pim",
        "outputId": "b3d1b98d-7298-4d08-e66b-1c24f8295969"
      },
      "execution_count": null,
      "outputs": [
        {
          "output_type": "stream",
          "name": "stdout",
          "text": [
            "[['barber', 'person'], ['barber', 'good', 'person'], ['barber', 'huge', 'person'], ['knew', 'secret'], ['secret', 'kept', 'huge', 'secret'], ['huge', 'secret'], ['barber', 'kept', 'word'], ['barber', 'kept', 'word'], ['barber', 'kept', 'secret'], ['keeping', 'keeping', 'huge', 'secret', 'driving', 'barber', 'crazy'], ['barber', 'went', 'huge', 'mountain']]\n"
          ]
        }
      ]
    },
    {
      "cell_type": "markdown",
      "source": [
        "현재 sentences는 단어 토큰화가 된 결과가 저장되어져 있습니다. 단어 집합(vocabulary)을 만들기 위해서 sentences에서 문장의 경계인 [, ]를 제거하고 단어들을 하나의 리스트로 만들겠습니다.\n",
        "\n"
      ],
      "metadata": {
        "id": "CRrZH5Bh8DrW"
      }
    },
    {
      "cell_type": "code",
      "source": [
        "# words = np.hstack(preprocessed_sentences)으로도 수행 가능.\n",
        "all_words_list = sum(preprocessed_sentences, [])\n",
        "print(all_words_list)"
      ],
      "metadata": {
        "colab": {
          "base_uri": "https://localhost:8080/"
        },
        "id": "kS2McV_g8IIC",
        "outputId": "a34dcf43-2743-48d0-fda1-d02e1e9668a4"
      },
      "execution_count": null,
      "outputs": [
        {
          "output_type": "stream",
          "name": "stdout",
          "text": [
            "['barber', 'person', 'barber', 'good', 'person', 'barber', 'huge', 'person', 'knew', 'secret', 'secret', 'kept', 'huge', 'secret', 'huge', 'secret', 'barber', 'kept', 'word', 'barber', 'kept', 'word', 'barber', 'kept', 'secret', 'keeping', 'keeping', 'huge', 'secret', 'driving', 'barber', 'crazy', 'barber', 'went', 'huge', 'mountain']\n"
          ]
        }
      ]
    },
    {
      "cell_type": "markdown",
      "source": [
        "이를 파이썬의 Counter()의 입력으로 사용하면 중복을 제거하고 단어의 빈도수를 기록합니다.\n",
        "\n"
      ],
      "metadata": {
        "id": "TYExJSdq8UVp"
      }
    },
    {
      "cell_type": "code",
      "source": [
        "# 이를 파이썬의 Counter()의 입력으로 사용하면 중복을 제거하고 단어의 빈도수를 기록한다.\n",
        "vocab = Counter(all_words_list)\n",
        "print(vocab)"
      ],
      "metadata": {
        "colab": {
          "base_uri": "https://localhost:8080/"
        },
        "id": "epkkHg6D8WC5",
        "outputId": "dfed2398-eb2d-4b31-eb82-fc0844bea1fb"
      },
      "execution_count": null,
      "outputs": [
        {
          "output_type": "stream",
          "name": "stdout",
          "text": [
            "Counter({'barber': 8, 'secret': 6, 'huge': 5, 'kept': 4, 'person': 3, 'word': 2, 'keeping': 2, 'good': 1, 'knew': 1, 'driving': 1, 'crazy': 1, 'went': 1, 'mountain': 1})\n"
          ]
        }
      ]
    },
    {
      "cell_type": "markdown",
      "source": [
        "단어를 키(key)로, 단어에 대한 빈도수가 값(value)으로 저장되어져 있습니다. vocab에 단어를 입력하면 빈도수를 리턴합니다.\n",
        "\n"
      ],
      "metadata": {
        "id": "a1a3qpNy8ues"
      }
    },
    {
      "cell_type": "code",
      "source": [
        "print(vocab['barber']) # 'barber'라는 단어의 빈도수 출력"
      ],
      "metadata": {
        "colab": {
          "base_uri": "https://localhost:8080/"
        },
        "id": "doKV1Eko87BC",
        "outputId": "cae066d9-44be-43c4-e1c0-d8d1c7f47aaf"
      },
      "execution_count": null,
      "outputs": [
        {
          "output_type": "stream",
          "name": "stdout",
          "text": [
            "8\n"
          ]
        }
      ]
    },
    {
      "cell_type": "markdown",
      "source": [
        "barber란 단어가 총 8번 등장하였습니다. most_common()는 상위 빈도수를 가진 주어진 수의 단어만을 리턴합니다. 이를 사용하여 등장 빈도수가 높은 단어들을 원하는 개수만큼만 얻을 수 있습니다. 등장 빈도수 상위 5개의 단어만 단어 집합으로 저장해봅시다.\n",
        "\n"
      ],
      "metadata": {
        "id": "Ch1y7doN9bCP"
      }
    },
    {
      "cell_type": "code",
      "source": [
        "vocab_size = 5\n",
        "vocab = vocab.most_common(vocab_size)# 등장 빈도수가 높은 상위 5개 단어만 저장\n",
        "vocab"
      ],
      "metadata": {
        "colab": {
          "base_uri": "https://localhost:8080/"
        },
        "id": "MLIRJOfP9bu5",
        "outputId": "f899c7db-8ed8-4bab-fe78-674913ad78c0"
      },
      "execution_count": null,
      "outputs": [
        {
          "output_type": "execute_result",
          "data": {
            "text/plain": [
              "[('barber', 8), ('secret', 6), ('huge', 5), ('kept', 4), ('person', 3)]"
            ]
          },
          "metadata": {},
          "execution_count": 93
        }
      ]
    },
    {
      "cell_type": "markdown",
      "source": [
        "이제 높은 빈도수를 가진 단어일수록 낮은 정수 인덱스를 부여합니다.\n",
        "\n"
      ],
      "metadata": {
        "id": "0mh7X_Uh-TyG"
      }
    },
    {
      "cell_type": "code",
      "source": [
        "word_to_index = {}\n",
        "i = 0\n",
        "for (word, frequency) in vocab:\n",
        "  i = i+1\n",
        "  word_to_index[word] = i\n",
        "\n",
        "print(word_to_index)"
      ],
      "metadata": {
        "colab": {
          "base_uri": "https://localhost:8080/"
        },
        "id": "5R7snqBg-cji",
        "outputId": "a668bfca-567b-4169-a334-9e3362da6cf8"
      },
      "execution_count": null,
      "outputs": [
        {
          "output_type": "stream",
          "name": "stdout",
          "text": [
            "{'barber': 1, 'secret': 2, 'huge': 3, 'kept': 4, 'person': 5}\n"
          ]
        }
      ]
    },
    {
      "cell_type": "markdown",
      "source": [
        "### (3) NLTK의 FreqDist 사용하기\n",
        "\n",
        "NLTK에서는 빈도수 계산 도구인 FreqDist()를 지원합니다. 위에서 사용한 Counter()랑 같은 방법으로 사용할 수 있습니다.\n",
        "\n"
      ],
      "metadata": {
        "id": "Wa7ZCWLn-lic"
      }
    },
    {
      "cell_type": "code",
      "source": [
        "from nltk import FreqDist\n",
        "import numpy as np"
      ],
      "metadata": {
        "id": "yGewrTiT-qL8"
      },
      "execution_count": null,
      "outputs": []
    },
    {
      "cell_type": "code",
      "source": [
        "preprocessed_sentences"
      ],
      "metadata": {
        "colab": {
          "base_uri": "https://localhost:8080/"
        },
        "id": "h4ORr2eF-7w8",
        "outputId": "6f1298c4-5fa1-45a6-b79a-ce789b2824b4"
      },
      "execution_count": null,
      "outputs": [
        {
          "output_type": "execute_result",
          "data": {
            "text/plain": [
              "[['barber', 'person'],\n",
              " ['barber', 'good', 'person'],\n",
              " ['barber', 'huge', 'person'],\n",
              " ['knew', 'secret'],\n",
              " ['secret', 'kept', 'huge', 'secret'],\n",
              " ['huge', 'secret'],\n",
              " ['barber', 'kept', 'word'],\n",
              " ['barber', 'kept', 'word'],\n",
              " ['barber', 'kept', 'secret'],\n",
              " ['keeping', 'keeping', 'huge', 'secret', 'driving', 'barber', 'crazy'],\n",
              " ['barber', 'went', 'huge', 'mountain']]"
            ]
          },
          "metadata": {},
          "execution_count": 96
        }
      ]
    },
    {
      "cell_type": "code",
      "source": [
        "np.hstack(preprocessed_sentences)"
      ],
      "metadata": {
        "colab": {
          "base_uri": "https://localhost:8080/"
        },
        "id": "Gh4y08K5-95v",
        "outputId": "a3ebd591-bbed-445d-9bed-a5305d2e062b"
      },
      "execution_count": null,
      "outputs": [
        {
          "output_type": "execute_result",
          "data": {
            "text/plain": [
              "array(['barber', 'person', 'barber', 'good', 'person', 'barber', 'huge',\n",
              "       'person', 'knew', 'secret', 'secret', 'kept', 'huge', 'secret',\n",
              "       'huge', 'secret', 'barber', 'kept', 'word', 'barber', 'kept',\n",
              "       'word', 'barber', 'kept', 'secret', 'keeping', 'keeping', 'huge',\n",
              "       'secret', 'driving', 'barber', 'crazy', 'barber', 'went', 'huge',\n",
              "       'mountain'], dtype='<U8')"
            ]
          },
          "metadata": {},
          "execution_count": 98
        }
      ]
    },
    {
      "cell_type": "code",
      "source": [
        "# np.hstack으로 문장 구분을 제거\n",
        "vocab = FreqDist(np.hstack(preprocessed_sentences))"
      ],
      "metadata": {
        "id": "B3IssCeK-0JL"
      },
      "execution_count": null,
      "outputs": []
    },
    {
      "cell_type": "markdown",
      "source": [
        "단어를 키(key)로, 단어에 대한 빈도수가 값(value)으로 저장되어져 있습니다. vocab에 단어를 입력하면 빈도수를 리턴합니다.\n",
        "\n"
      ],
      "metadata": {
        "id": "k3zpsdt3_DNO"
      }
    },
    {
      "cell_type": "code",
      "source": [
        "vocab"
      ],
      "metadata": {
        "colab": {
          "base_uri": "https://localhost:8080/"
        },
        "id": "_CV1nl8y_BLs",
        "outputId": "a5fb0f1b-e89f-4aa0-b0ca-216bd982eb45"
      },
      "execution_count": null,
      "outputs": [
        {
          "output_type": "execute_result",
          "data": {
            "text/plain": [
              "FreqDist({'barber': 8,\n",
              "          'crazy': 1,\n",
              "          'driving': 1,\n",
              "          'good': 1,\n",
              "          'huge': 5,\n",
              "          'keeping': 2,\n",
              "          'kept': 4,\n",
              "          'knew': 1,\n",
              "          'mountain': 1,\n",
              "          'person': 3,\n",
              "          'secret': 6,\n",
              "          'went': 1,\n",
              "          'word': 2})"
            ]
          },
          "metadata": {},
          "execution_count": 100
        }
      ]
    },
    {
      "cell_type": "code",
      "source": [
        "print(vocab[\"barber\"]) # 'barber'라는 단어의 빈도수 출력\n"
      ],
      "metadata": {
        "colab": {
          "base_uri": "https://localhost:8080/"
        },
        "id": "eaSmry87_E2y",
        "outputId": "88aa2f5c-225a-4515-996b-d77f611530e1"
      },
      "execution_count": null,
      "outputs": [
        {
          "output_type": "stream",
          "name": "stdout",
          "text": [
            "8\n"
          ]
        }
      ]
    },
    {
      "cell_type": "markdown",
      "source": [
        "barber란 단어가 총 8번 등장하였습니다. most_common()는 상위 빈도수를 가진 주어진 수의 단어만을 리턴합니다. 이를 사용하여 등장 빈도수가 높은 단어들을 원하는 개수만큼만 얻을 수 있습니다. 등장 빈도수 상위 5개의 단어만 단어 집합으로 저장해봅시다.\n",
        "\n"
      ],
      "metadata": {
        "id": "EY5-a9U1_GbO"
      }
    },
    {
      "cell_type": "code",
      "source": [
        "vocab_size = 5\n",
        "vocab = vocab.most_common(vocab_size) # 등장 빈도수가 높은 상위 5개의 단어만 저장\n",
        "print(vocab)"
      ],
      "metadata": {
        "colab": {
          "base_uri": "https://localhost:8080/"
        },
        "id": "_lqknm98_GMk",
        "outputId": "33f086d7-57f7-4ad0-b2f3-fbe2b4879b25"
      },
      "execution_count": null,
      "outputs": [
        {
          "output_type": "stream",
          "name": "stdout",
          "text": [
            "[('barber', 8), ('secret', 6), ('huge', 5), ('kept', 4), ('person', 3)]\n"
          ]
        }
      ]
    },
    {
      "cell_type": "markdown",
      "source": [
        "앞서 Counter()를 사용했을 때와 결과가 같습니다. 이전 실습들과 마찬가지로 높은 빈도수를 가진 단어일수록 낮은 정수 인덱스를 부여합니다. 그런데 이번에는 enumerate()를 사용하여 좀 더 짧은 코드로 인덱스를 부여하겠습니다.\n",
        "\n"
      ],
      "metadata": {
        "id": "jniE7QtH_Pey"
      }
    },
    {
      "cell_type": "code",
      "source": [
        "word_to_index = {word[0] : index + 1 for index, word in enumerate(vocab)}\n",
        "print(word_to_index)"
      ],
      "metadata": {
        "colab": {
          "base_uri": "https://localhost:8080/"
        },
        "id": "ZWr86OZB_QnZ",
        "outputId": "9870efaf-0bca-48e4-ddb7-94a1b8447275"
      },
      "execution_count": null,
      "outputs": [
        {
          "output_type": "stream",
          "name": "stdout",
          "text": [
            "{'barber': 1, 'secret': 2, 'huge': 3, 'kept': 4, 'person': 5}\n"
          ]
        }
      ]
    },
    {
      "cell_type": "markdown",
      "source": [
        "위와 같이 인덱스를 부여할 때는 enumerate()를 사용하는 것이 편리합니다. enumerate()에 대해서 간단히 소개해보겠습니다.\n",
        "\n"
      ],
      "metadata": {
        "id": "dp8golY4_sFp"
      }
    },
    {
      "cell_type": "markdown",
      "source": [
        "### (4) enumerate 이해하기\n",
        "\n",
        "enumerate()는 순서가 있는 자료형(list, set, tuple, dictionary, string)을 입력으로 받아 인덱스를 순차적으로 함께 리턴한다는 특징이 있습니다. 간단한 예제를 통해 enumerate()를 이해해봅시다."
      ],
      "metadata": {
        "id": "gMewocuO_uFh"
      }
    },
    {
      "cell_type": "code",
      "source": [
        "test_input = ['a', 'b', 'c', 'd', 'e']\n",
        "for index, value in enumerate(test_input): # 입력 순서대로 0부터 인덱스를 부여함\n",
        "  print('value : {}, index : {}'.format(value, index))"
      ],
      "metadata": {
        "colab": {
          "base_uri": "https://localhost:8080/"
        },
        "id": "POWUxPrT_tbD",
        "outputId": "a54db43c-0cc3-44f1-af1c-8e4862cb79ac"
      },
      "execution_count": null,
      "outputs": [
        {
          "output_type": "stream",
          "name": "stdout",
          "text": [
            "value : a, index : 0\n",
            "value : b, index : 1\n",
            "value : c, index : 2\n",
            "value : d, index : 3\n",
            "value : e, index : 4\n"
          ]
        }
      ]
    },
    {
      "cell_type": "markdown",
      "source": [
        "위의 출력 결과는 리스트의 모든 토큰에 대해서 인덱스가 순차적으로 증가되며 부여된 것을 보여줍니다.\n",
        "\n"
      ],
      "metadata": {
        "id": "J-93CNEIAIXB"
      }
    },
    {
      "cell_type": "markdown",
      "source": [
        "## 2) 케라스(Keras)의 텍스트 전처리\n",
        "\n",
        "케라스(Keras)는 기본적인 전처리를 위한 도구들을 제공합니다. 때로는 정수 인코딩을 위해서 케라스의 전처리 도구인 토크나이저를 사용하기도 하는데, 사용 방법과 그 특징에 대해서 이해해보겠습니다.\n",
        "\n"
      ],
      "metadata": {
        "id": "PlemNMZlAkfn"
      }
    },
    {
      "cell_type": "code",
      "source": [
        "from tensorflow.keras.preprocessing.text import Tokenizer"
      ],
      "metadata": {
        "id": "MVa58q0pArDh"
      },
      "execution_count": null,
      "outputs": []
    },
    {
      "cell_type": "code",
      "source": [
        "preprocessed_sentences = [['barber', 'person'], ['barber', 'good', 'person'], ['barber', 'huge', 'person'], ['knew', 'secret'], ['secret', 'kept', 'huge', 'secret'], ['huge', 'secret'], ['barber', 'kept', 'word'], ['barber', 'kept', 'word'], ['barber', 'kept', 'secret'], ['keeping', 'keeping', 'huge', 'secret', 'driving', 'barber', 'crazy'], ['barber', 'went', 'huge', 'mountain']]\n"
      ],
      "metadata": {
        "id": "kfrD4XiBAzpO"
      },
      "execution_count": null,
      "outputs": []
    },
    {
      "cell_type": "markdown",
      "source": [
        "단어 토큰화까지 수행된 앞서 사용한 텍스트 데이터와 동일한 데이터를 사용합니다.\n",
        "\n"
      ],
      "metadata": {
        "id": "KN5M0vffA1HJ"
      }
    },
    {
      "cell_type": "code",
      "source": [
        "tokenizer = Tokenizer()\n",
        "\n",
        "# fit_on_texts() 안에 코퍼스를 입력으로 하면 빈도수를 기준으로 단어 집합을 생성한다.\n",
        "\n",
        "tokenizer.fit_on_texts(preprocessed_sentences)"
      ],
      "metadata": {
        "id": "_NIPDnW5A-d2"
      },
      "execution_count": null,
      "outputs": []
    },
    {
      "cell_type": "markdown",
      "source": [
        "fit_on_texts는 입력한 텍스트로부터 단어 빈도수가 높은 순으로 낮은 정수 인덱스를 부여하는데, 정확히 앞서 설명한 정수 인코딩 작업이 이루어진다고 보면됩니다. 각 단어에 인덱스가 어떻게 부여되었는지를 보려면, word_index를 사용합니다.\n",
        "\n"
      ],
      "metadata": {
        "id": "7CkMgvngBN3E"
      }
    },
    {
      "cell_type": "code",
      "source": [
        "print(tokenizer.word_index)"
      ],
      "metadata": {
        "colab": {
          "base_uri": "https://localhost:8080/"
        },
        "id": "LRJXVHNtBPOj",
        "outputId": "b92a0c38-ee00-4c27-879a-3cff35472978"
      },
      "execution_count": null,
      "outputs": [
        {
          "output_type": "stream",
          "name": "stdout",
          "text": [
            "{'barber': 1, 'secret': 2, 'huge': 3, 'kept': 4, 'person': 5, 'word': 6, 'keeping': 7, 'good': 8, 'knew': 9, 'driving': 10, 'crazy': 11, 'went': 12, 'mountain': 13}\n"
          ]
        }
      ]
    },
    {
      "cell_type": "markdown",
      "source": [
        "각 단어의 빈도수가 높은 순서대로 인덱스가 부여된 것을 확인할 수 있습니다. 각 단어가 카운트를 수행하였을 때 몇 개였는지를 보고자 한다면 word_counts를 사용합니다.\n",
        "\n"
      ],
      "metadata": {
        "id": "NX-60vKrBUdF"
      }
    },
    {
      "cell_type": "code",
      "source": [
        "print(tokenizer.word_counts)"
      ],
      "metadata": {
        "colab": {
          "base_uri": "https://localhost:8080/"
        },
        "id": "koAVpXYNBhuB",
        "outputId": "2540acb4-3dea-41d5-b7c4-3926841cc9d4"
      },
      "execution_count": null,
      "outputs": [
        {
          "output_type": "stream",
          "name": "stdout",
          "text": [
            "OrderedDict([('barber', 8), ('person', 3), ('good', 1), ('huge', 5), ('knew', 1), ('secret', 6), ('kept', 4), ('word', 2), ('keeping', 2), ('driving', 1), ('crazy', 1), ('went', 1), ('mountain', 1)])\n"
          ]
        }
      ]
    },
    {
      "cell_type": "markdown",
      "source": [
        "texts_to_sequences()는 입력으로 들어온 코퍼스에 대해서 각 단어를 이미 정해진 인덱스로 변환합니다.\n",
        "\n"
      ],
      "metadata": {
        "id": "sLB15gLVBmyU"
      }
    },
    {
      "cell_type": "code",
      "source": [
        "print(tokenizer.texts_to_sequences(preprocessed_sentences))"
      ],
      "metadata": {
        "colab": {
          "base_uri": "https://localhost:8080/"
        },
        "id": "0NMW_PiqBoDT",
        "outputId": "41c546f5-598f-4aea-f15a-c5871592e880"
      },
      "execution_count": null,
      "outputs": [
        {
          "output_type": "stream",
          "name": "stdout",
          "text": [
            "[[1, 5], [1, 8, 5], [1, 3, 5], [9, 2], [2, 4, 3, 2], [3, 2], [1, 4, 6], [1, 4, 6], [1, 4, 2], [7, 7, 3, 2, 10, 1, 11], [1, 12, 3, 13]]\n"
          ]
        }
      ]
    },
    {
      "cell_type": "markdown",
      "source": [
        "앞서 빈도수가 가장 높은 단어 n개만을 사용하기 위해서 most_common()을 사용했었습니다. 케라스 토크나이저에서는 tokenizer = Tokenizer(num_words=숫자)와 같은 방법으로 빈도수가 높은 상위 몇 개의 단어만 사용하겠다고 지정할 수 있습니다. 여기서는 1번 단어부터 5번 단어까지만 사용하겠습니다. 상위 5개 단어를 사용한다고 토크나이저를 재정의 해보겠습니다.\n",
        "\n"
      ],
      "metadata": {
        "id": "2KEuRR7KB7Jg"
      }
    },
    {
      "cell_type": "code",
      "source": [
        "vocab_size = 5\n",
        "tokenizer = Tokenizer(num_words = vocab_size + 1) # 상위 5개 단어만 사용\n",
        "\n",
        "tokenizer.fit_on_texts(preprocessed_sentences)"
      ],
      "metadata": {
        "id": "8Y17aJbCB8ek"
      },
      "execution_count": null,
      "outputs": []
    },
    {
      "cell_type": "markdown",
      "source": [
        "num_words에서 +1을 더해서 값을 넣어주는 이유는 num_words는 숫자를 0부터 카운트합니다. 만약 5를 넣으면 0 ~ 4번 단어 보존을 의미하게 되므로 뒤의 실습에서 1번 단어부터 4번 단어만 남게됩니다. 그렇기 때문에 1 ~ 5번 단어까지 사용하고 싶다면 num_words에 숫자 5를 넣어주는 것이 아니라 5+1인 값을 넣어주어야 합니다.\n",
        "\n",
        "실질적으로 숫자 0에 지정된 단어가 존재하지 않는데도 케라스 토크나이저가 숫자 0까지 단어 집합의 크기로 산정하는 이유는 자연어 처리에서 패딩(padding)이라는 작업 때문입니다. 이에 대해서는 뒤에 다루게 되므로 여기서는 케라스 토크나이저를 사용할 때는 숫자 0도 단어 집합의 크기로 고려해야한다고만 이해합시다.\n",
        "\n",
        "다시 word_index를 확인해보겠습니다.\n",
        "\n"
      ],
      "metadata": {
        "id": "IbQZmNN1CTGu"
      }
    },
    {
      "cell_type": "code",
      "source": [
        "print(tokenizer.word_index)"
      ],
      "metadata": {
        "colab": {
          "base_uri": "https://localhost:8080/"
        },
        "id": "tXF4fnYGCT-j",
        "outputId": "31a74217-0c9f-4e7a-a41f-4ed9713b4ef8"
      },
      "execution_count": null,
      "outputs": [
        {
          "output_type": "stream",
          "name": "stdout",
          "text": [
            "{'barber': 1, 'secret': 2, 'huge': 3, 'kept': 4, 'person': 5, 'word': 6, 'keeping': 7, 'good': 8, 'knew': 9, 'driving': 10, 'crazy': 11, 'went': 12, 'mountain': 13}\n"
          ]
        }
      ]
    },
    {
      "cell_type": "markdown",
      "source": [
        "상위 5개의 단어만 사용하겠다고 선언하였는데 여전히 13개의 단어가 모두 출력됩니다. word_counts를 확인해보겠습니다.\n",
        "\n"
      ],
      "metadata": {
        "id": "Ty2sQpa-CXey"
      }
    },
    {
      "cell_type": "code",
      "source": [
        "print(tokenizer.word_counts)"
      ],
      "metadata": {
        "colab": {
          "base_uri": "https://localhost:8080/"
        },
        "id": "WLcUuyknCX5u",
        "outputId": "00489ad2-1c8d-4f13-eeb0-d2bfeff4603b"
      },
      "execution_count": null,
      "outputs": [
        {
          "output_type": "stream",
          "name": "stdout",
          "text": [
            "OrderedDict([('barber', 8), ('person', 3), ('good', 1), ('huge', 5), ('knew', 1), ('secret', 6), ('kept', 4), ('word', 2), ('keeping', 2), ('driving', 1), ('crazy', 1), ('went', 1), ('mountain', 1)])\n"
          ]
        }
      ]
    },
    {
      "cell_type": "markdown",
      "source": [
        "word_counts에서도 마찬가지로 13개의 단어가 모두 출력됩니다. 사실 실제 적용은 texts_to_sequences를 사용할 때 적용이 됩니다.\n",
        "\n"
      ],
      "metadata": {
        "id": "RrjAVDiQCbBL"
      }
    },
    {
      "cell_type": "code",
      "source": [
        "print(tokenizer.texts_to_sequences(preprocessed_sentences))"
      ],
      "metadata": {
        "colab": {
          "base_uri": "https://localhost:8080/"
        },
        "id": "f-nob_hCCbbe",
        "outputId": "01865b0e-6e17-4a1d-e317-e7503cfea6b2"
      },
      "execution_count": null,
      "outputs": [
        {
          "output_type": "stream",
          "name": "stdout",
          "text": [
            "[[1, 5], [1, 5], [1, 3, 5], [2], [2, 4, 3, 2], [3, 2], [1, 4], [1, 4], [1, 4, 2], [3, 2, 1], [1, 3]]\n"
          ]
        }
      ]
    },
    {
      "cell_type": "markdown",
      "source": [
        "코퍼스에 대해서 각 단어를 이미 정해진 인덱스로 변환하는데, 상위 5개의 단어만을 사용하겠다고 지정하였으므로 1번 단어부터 5번 단어까지만 보존되고 나머지 단어들은 제거된 것을 볼 수 있습니다. (5 이상의 숫자가 없다) 경험상 굳이 필요하다고 생각하지는 않지만, 만약 word_index와 word_counts에서도 지정된 num_words만큼의 단어만 남기고 싶다면 아래의 코드도 방법입니다.\n",
        "\n"
      ],
      "metadata": {
        "id": "R8d8I18wClZ-"
      }
    },
    {
      "cell_type": "code",
      "source": [
        "tokenizer = Tokenizer()\n",
        "tokenizer.fit_on_texts(preprocessed_sentences)"
      ],
      "metadata": {
        "id": "bpvbDPpBC0-8"
      },
      "execution_count": null,
      "outputs": []
    },
    {
      "cell_type": "code",
      "source": [
        "vocab_size = 5\n",
        "words_frequency = [word for word, index in tokenizer.word_index.items() if index >= vocab_size + 1]\n",
        "\n",
        "# 인덱스가 5 초과인 단어 제거\n",
        "for word in words_frequency:\n",
        "  del tokenizer.word_index[word] # 해당 단어에 대한 인덱스 정보를 삭제\n",
        "  del tokenizer.word_counts[word] # 해당 단어에 대한 카운트 정보를 삭제\n",
        "\n",
        "\n",
        "print(tokenizer.word_index)\n",
        "print(tokenizer.word_counts)\n",
        "print(tokenizer.texts_to_sequences(preprocessed_sentences))"
      ],
      "metadata": {
        "colab": {
          "base_uri": "https://localhost:8080/"
        },
        "id": "h1cfdh38C6Gd",
        "outputId": "cd832bae-02cd-453b-fcc4-3a903ccddb09"
      },
      "execution_count": null,
      "outputs": [
        {
          "output_type": "stream",
          "name": "stdout",
          "text": [
            "{'barber': 1, 'secret': 2, 'huge': 3, 'kept': 4, 'person': 5}\n",
            "OrderedDict([('barber', 8), ('person', 3), ('huge', 5), ('secret', 6), ('kept', 4)])\n",
            "[[1, 5], [1, 5], [1, 3, 5], [2], [2, 4, 3, 2], [3, 2], [1, 4], [1, 4], [1, 4, 2], [3, 2, 1], [1, 3]]\n"
          ]
        }
      ]
    },
    {
      "cell_type": "markdown",
      "source": [
        "케라스 토크나이저는 기본적으로 단어 집합에 없는 단어인 OOV에 대해서는 단어를 정수로 바꾸는 과정에서 아예 단어를 제거한다는 특징이 있습니다.\n",
        "\n",
        "단어 집합에 없는 단어들은 OOV로 간주하여 보존하고 싶다면 Tokenizer의 인자 oov_token을 사용합니다.\n",
        "\n"
      ],
      "metadata": {
        "id": "z7WbNJgXDeS9"
      }
    },
    {
      "cell_type": "code",
      "source": [
        "# 숫자 0과 OOV를 고려해서 단어 집합의 크기는 +2\n",
        "vocab_size = 5\n",
        "tokenizer = Tokenizer(num_words = vocab_size + 2, oov_token = 'OOV')\n",
        "tokenizer.fit_on_texts(preprocessed_sentences)"
      ],
      "metadata": {
        "id": "6UJWMaskDhdQ"
      },
      "execution_count": null,
      "outputs": []
    },
    {
      "cell_type": "markdown",
      "source": [
        "만약 oov_token을 사용하기로 했다면 케라스 토크나이저는 기본적으로 'OOV'의 인덱스를 1로 합니다.\n",
        "\n"
      ],
      "metadata": {
        "id": "jxcEGX6wDv55"
      }
    },
    {
      "cell_type": "code",
      "source": [
        "print('단어 OOV의 인덱스 : {}'.format(tokenizer.word_index['OOV']))"
      ],
      "metadata": {
        "colab": {
          "base_uri": "https://localhost:8080/"
        },
        "id": "DwnJem_uDwt4",
        "outputId": "1b416c84-6e10-464a-d6e2-f60760e23c9b"
      },
      "execution_count": null,
      "outputs": [
        {
          "output_type": "stream",
          "name": "stdout",
          "text": [
            "단어 OOV의 인덱스 : 1\n"
          ]
        }
      ]
    },
    {
      "cell_type": "markdown",
      "source": [
        "이제 코퍼스에 대해서 정수 인코딩을 진행합니다.\n",
        "\n"
      ],
      "metadata": {
        "id": "3i1Lhn9xD85J"
      }
    },
    {
      "cell_type": "code",
      "source": [
        "print(tokenizer.texts_to_sequences(preprocessed_sentences))"
      ],
      "metadata": {
        "colab": {
          "base_uri": "https://localhost:8080/"
        },
        "id": "onOxYYjtD_wp",
        "outputId": "2de529e6-dff2-4ce3-9780-0c8911aacee7"
      },
      "execution_count": null,
      "outputs": [
        {
          "output_type": "stream",
          "name": "stdout",
          "text": [
            "[[2, 6], [2, 1, 6], [2, 4, 6], [1, 3], [3, 5, 4, 3], [4, 3], [2, 5, 1], [2, 5, 1], [2, 5, 3], [1, 1, 4, 3, 1, 2, 1], [2, 1, 4, 1]]\n"
          ]
        }
      ]
    },
    {
      "cell_type": "markdown",
      "source": [
        "빈도수 상위 5개의 단어는 2 ~ 6까지의 인덱스를 가졌으며, 그 외 단어 집합에 없는 'good'과 같은 단어들은 전부 'OOV'의 인덱스인 1로 인코딩되었습니다.\n",
        "\n"
      ],
      "metadata": {
        "id": "LhVSUqvCEGol"
      }
    },
    {
      "cell_type": "markdown",
      "source": [
        "# 7. 패딩(Padding)\n",
        "\n",
        "자연어 처리를 하다보면 각 문장(또는 문서)은 서로 길이가 다를 수 있습니다. 그런데 기계는 길이가 전부 동일한 문서들에 대해서는 하나의 행렬로 보고, 한꺼번에 묶어서 처리할 수 있습니다. 다시 말해 병렬 연산을 위해서 여러 문장의 길이를 임의로 동일하게 맞춰주는 작업이 필요할 때가 있습니다. 실습을 통해 이해해봅시다.\n",
        "\n"
      ],
      "metadata": {
        "id": "hR_D1CI2HgaE"
      }
    },
    {
      "cell_type": "markdown",
      "source": [
        "## 1) Numpy로 패딩하기"
      ],
      "metadata": {
        "id": "Smh8giAaI2xS"
      }
    },
    {
      "cell_type": "code",
      "source": [
        "import numpy as np\n",
        "from tensorflow.keras.preprocessing.text import Tokenizer"
      ],
      "metadata": {
        "id": "kR9tFQfNJ632"
      },
      "execution_count": null,
      "outputs": []
    },
    {
      "cell_type": "markdown",
      "source": [
        "정수 인코딩 챕터에서 수행했던 실습을 그대로 반복해보겠습니다. 아래와 같이 텍스트 데이터가 있습니다.\n",
        "\n"
      ],
      "metadata": {
        "id": "F6dDhFi0e6NB"
      }
    },
    {
      "cell_type": "code",
      "source": [
        "preprocessed_sentences = [['barber', 'person'], ['barber', 'good', 'person'], ['barber', 'huge', 'person'], ['knew', 'secret'], ['secret', 'kept', 'huge', 'secret'], ['huge', 'secret'], ['barber', 'kept', 'word'], ['barber', 'kept', 'word'], ['barber', 'kept', 'secret'], ['keeping', 'keeping', 'huge', 'secret', 'driving', 'barber', 'crazy'], ['barber', 'went', 'huge', 'mountain']]\n"
      ],
      "metadata": {
        "id": "HRHYxrIee7un"
      },
      "execution_count": null,
      "outputs": []
    },
    {
      "cell_type": "markdown",
      "source": [
        "단어 집합을 만들고, 정수 인코딩을 수행합니다.\n",
        "\n"
      ],
      "metadata": {
        "id": "p4O0IMaZe9wG"
      }
    },
    {
      "cell_type": "code",
      "source": [
        "tokenizer = Tokenizer()\n",
        "tokenizer.fit_on_texts(preprocessed_sentences)\n",
        "encoded = tokenizer.texts_to_sequences(preprocessed_sentences)\n",
        "print(encoded)"
      ],
      "metadata": {
        "colab": {
          "base_uri": "https://localhost:8080/"
        },
        "id": "SKlA3XrXe-cm",
        "outputId": "97440cc9-d5c3-40e9-8246-0fd87239cafb"
      },
      "execution_count": null,
      "outputs": [
        {
          "output_type": "stream",
          "name": "stdout",
          "text": [
            "[[1, 5], [1, 8, 5], [1, 3, 5], [9, 2], [2, 4, 3, 2], [3, 2], [1, 4, 6], [1, 4, 6], [1, 4, 2], [7, 7, 3, 2, 10, 1, 11], [1, 12, 3, 13]]\n"
          ]
        }
      ]
    },
    {
      "cell_type": "markdown",
      "source": [
        "모두 동일한 길이로 맞춰주기 위해서 이 중에서 가장 길이가 긴 문장의 길이를 계산해보겠습니다.\n",
        "\n"
      ],
      "metadata": {
        "id": "_Yjj5-EsfejU"
      }
    },
    {
      "cell_type": "code",
      "source": [
        "max_len = max(len(item) for item in encoded)\n",
        "print('최대 길이 : ', max_len)"
      ],
      "metadata": {
        "colab": {
          "base_uri": "https://localhost:8080/"
        },
        "id": "4KeeKzYvffYy",
        "outputId": "49951096-9442-4aa7-a688-3048c2fda809"
      },
      "execution_count": null,
      "outputs": [
        {
          "output_type": "stream",
          "name": "stdout",
          "text": [
            "최대 길이 :  7\n"
          ]
        }
      ]
    },
    {
      "cell_type": "markdown",
      "source": [
        "가장 길이가 긴 문장의 길이는 7입니다. 모든 문장의 길이를 7로 맞춰주겠습니다. 이때 가상의 단어 'PAD'를 사용합니다. 'PAD'라는 단어가 있다고 가정하고, 이 단어는 0번 단어라고 정의합니다. 길이가 7보다 짧은 문장에는 숫자 0을 채워서 길이 7로 맞춰줍니다.\n",
        "\n"
      ],
      "metadata": {
        "id": "iYY5E4KBfn4q"
      }
    },
    {
      "cell_type": "code",
      "source": [
        "for sentence in encoded:\n",
        "  while len(sentence) < max_len:\n",
        "    sentence.append(0)\n",
        "\n",
        "padded_np = np.array(encoded)\n",
        "padded_np"
      ],
      "metadata": {
        "colab": {
          "base_uri": "https://localhost:8080/"
        },
        "id": "XqEE8Dt-fvyV",
        "outputId": "35ffd5d4-a055-43b1-d8ff-ff61197f7f02"
      },
      "execution_count": null,
      "outputs": [
        {
          "output_type": "execute_result",
          "data": {
            "text/plain": [
              "array([[ 1,  5,  0,  0,  0,  0,  0],\n",
              "       [ 1,  8,  5,  0,  0,  0,  0],\n",
              "       [ 1,  3,  5,  0,  0,  0,  0],\n",
              "       [ 9,  2,  0,  0,  0,  0,  0],\n",
              "       [ 2,  4,  3,  2,  0,  0,  0],\n",
              "       [ 3,  2,  0,  0,  0,  0,  0],\n",
              "       [ 1,  4,  6,  0,  0,  0,  0],\n",
              "       [ 1,  4,  6,  0,  0,  0,  0],\n",
              "       [ 1,  4,  2,  0,  0,  0,  0],\n",
              "       [ 7,  7,  3,  2, 10,  1, 11],\n",
              "       [ 1, 12,  3, 13,  0,  0,  0]])"
            ]
          },
          "metadata": {},
          "execution_count": 9
        }
      ]
    },
    {
      "cell_type": "markdown",
      "source": [
        "길이가 7보다 짧은 문장에는 전부 숫자 0이 뒤로 붙어서 모든 문장의 길이가 전부 7이된 것을 알 수 있습니다. 기계는 이들을 하나의 행렬로 보고, 병렬 처리를 할 수 있습니다. 또한, 0번 단어는 사실 아무런 의미도 없는 단어이기 때문에 자연어 처리하는 과정에서 기계는 0번 단어를 무시하게 될 것입니다. 이와 같이 데이터에 특정 값을 채워서 데이터의 크기(shape)를 조정하는 것을 **패딩(padding)**이라고 합니다. 숫자 0을 사용하고 있다면 **제로 패딩(zero padding)**이라고 합니다.\n",
        "\n"
      ],
      "metadata": {
        "id": "UfG0eF6lgCAO"
      }
    },
    {
      "cell_type": "markdown",
      "source": [
        "## 2) 케라스 전처리 도구로 패딩하기\n",
        "\n",
        "케라스에서는 위와 같은 패딩을 위해 pad_sequences()를 제공하고 있습니다.\n",
        "\n"
      ],
      "metadata": {
        "id": "Rnu3SLv6gNR6"
      }
    },
    {
      "cell_type": "code",
      "source": [
        "from tensorflow.keras.preprocessing.sequence import pad_sequences"
      ],
      "metadata": {
        "id": "dn__VJDZgbmm"
      },
      "execution_count": null,
      "outputs": []
    },
    {
      "cell_type": "markdown",
      "source": [
        "encoded 값이 위에서 이미 패딩 후의 결과로 저장되었기 때문에 패딩 이전의 값으로 다시 되돌리겠습니다."
      ],
      "metadata": {
        "id": "_Ky3TXVyghE-"
      }
    },
    {
      "cell_type": "code",
      "source": [
        "encoded = tokenizer.texts_to_sequences(preprocessed_sentences)\n",
        "print(encoded)"
      ],
      "metadata": {
        "colab": {
          "base_uri": "https://localhost:8080/"
        },
        "id": "BX7t03jrgqxI",
        "outputId": "bca387f0-6067-4077-fe58-1e4bb9cdc5f8"
      },
      "execution_count": null,
      "outputs": [
        {
          "output_type": "stream",
          "name": "stdout",
          "text": [
            "[[1, 5], [1, 8, 5], [1, 3, 5], [9, 2], [2, 4, 3, 2], [3, 2], [1, 4, 6], [1, 4, 6], [1, 4, 2], [7, 7, 3, 2, 10, 1, 11], [1, 12, 3, 13]]\n"
          ]
        }
      ]
    },
    {
      "cell_type": "markdown",
      "source": [
        "케라스의 pad_sequences를 사용하여 패딩을 해봅시다."
      ],
      "metadata": {
        "id": "Iw6ZQjkigsoj"
      }
    },
    {
      "cell_type": "code",
      "source": [
        "padded = pad_sequences(encoded)\n",
        "padded"
      ],
      "metadata": {
        "colab": {
          "base_uri": "https://localhost:8080/"
        },
        "id": "j3iwsG3TgtOw",
        "outputId": "d139af64-f160-4562-e9b3-0b633c44fc2f"
      },
      "execution_count": null,
      "outputs": [
        {
          "output_type": "execute_result",
          "data": {
            "text/plain": [
              "array([[ 0,  0,  0,  0,  0,  1,  5],\n",
              "       [ 0,  0,  0,  0,  1,  8,  5],\n",
              "       [ 0,  0,  0,  0,  1,  3,  5],\n",
              "       [ 0,  0,  0,  0,  0,  9,  2],\n",
              "       [ 0,  0,  0,  2,  4,  3,  2],\n",
              "       [ 0,  0,  0,  0,  0,  3,  2],\n",
              "       [ 0,  0,  0,  0,  1,  4,  6],\n",
              "       [ 0,  0,  0,  0,  1,  4,  6],\n",
              "       [ 0,  0,  0,  0,  1,  4,  2],\n",
              "       [ 7,  7,  3,  2, 10,  1, 11],\n",
              "       [ 0,  0,  0,  1, 12,  3, 13]], dtype=int32)"
            ]
          },
          "metadata": {},
          "execution_count": 12
        }
      ]
    },
    {
      "cell_type": "markdown",
      "source": [
        "Numpy로 패딩을 진행하였을 때와는 패딩 결과가 다른데 그 이유는 pad_sequences는 기본적으로 문서의 뒤에 0을 채우는 것이 아니라 앞에 0으로 채우기 때문입니다. 뒤에 0을 채우고 싶다면 인자로 padding='post'를 주면됩니다.\n",
        "\n"
      ],
      "metadata": {
        "id": "ILyu3Y1kgzNh"
      }
    },
    {
      "cell_type": "code",
      "source": [
        "padded = pad_sequences(encoded, padding='post')\n",
        "padded"
      ],
      "metadata": {
        "colab": {
          "base_uri": "https://localhost:8080/"
        },
        "id": "xAhl3ip3gz_T",
        "outputId": "e717339e-6eef-4053-fb8d-d4c7d8cae9c2"
      },
      "execution_count": null,
      "outputs": [
        {
          "output_type": "execute_result",
          "data": {
            "text/plain": [
              "array([[ 1,  5,  0,  0,  0,  0,  0],\n",
              "       [ 1,  8,  5,  0,  0,  0,  0],\n",
              "       [ 1,  3,  5,  0,  0,  0,  0],\n",
              "       [ 9,  2,  0,  0,  0,  0,  0],\n",
              "       [ 2,  4,  3,  2,  0,  0,  0],\n",
              "       [ 3,  2,  0,  0,  0,  0,  0],\n",
              "       [ 1,  4,  6,  0,  0,  0,  0],\n",
              "       [ 1,  4,  6,  0,  0,  0,  0],\n",
              "       [ 1,  4,  2,  0,  0,  0,  0],\n",
              "       [ 7,  7,  3,  2, 10,  1, 11],\n",
              "       [ 1, 12,  3, 13,  0,  0,  0]], dtype=int32)"
            ]
          },
          "metadata": {},
          "execution_count": 13
        }
      ]
    },
    {
      "cell_type": "markdown",
      "source": [
        "Numpy를 이용하여 패딩을 했을 때와 결과가 동일합니다. 실제로 결과가 동일한지 두 결과를 비교합니다.\n",
        "\n"
      ],
      "metadata": {
        "id": "zcSetuJLg-i4"
      }
    },
    {
      "cell_type": "code",
      "source": [
        "(padded == padded_np).all()"
      ],
      "metadata": {
        "colab": {
          "base_uri": "https://localhost:8080/"
        },
        "id": "mr9yb6W3hAAd",
        "outputId": "b4366787-74e1-4ad6-8544-b7b8b0f9fa84"
      },
      "execution_count": null,
      "outputs": [
        {
          "output_type": "execute_result",
          "data": {
            "text/plain": [
              "True"
            ]
          },
          "metadata": {},
          "execution_count": 14
        }
      ]
    },
    {
      "cell_type": "markdown",
      "source": [
        "True값이 리턴됩니다. 두 결과가 동일하다는 의미입니다. 지금까지는 가장 긴 길이를 가진 문서의 길이를 기준으로 패딩을 한다고 가정하였지만, 실제로는 꼭 가장 긴 문서의 길이를 기준으로 해야하는 것은 아닙니다. 가령, 모든 문서의 평균 길이가 20인데 문서 1개의 길이가 5,000이라고 해서 굳이 모든 문서의 길이를 5,000으로 패딩할 필요는 없을 수 있습니다. 이와 같은 경우에는 길이에 제한을 두고 패딩할 수 있습니다. maxlen의 인자로 정수를 주면, 해당 정수로 모든 문서의 길이를 동일하게 합니다.\n",
        "\n"
      ],
      "metadata": {
        "id": "1NjofHc8hHUb"
      }
    },
    {
      "cell_type": "code",
      "source": [
        "padded = pad_sequences(encoded, padding = 'post', maxlen=5)\n",
        "padded"
      ],
      "metadata": {
        "colab": {
          "base_uri": "https://localhost:8080/"
        },
        "id": "Lvr1sdFohPEe",
        "outputId": "530d1ef3-6cef-4c93-eff7-8b3ad8d9935a"
      },
      "execution_count": null,
      "outputs": [
        {
          "output_type": "execute_result",
          "data": {
            "text/plain": [
              "array([[ 1,  5,  0,  0,  0],\n",
              "       [ 1,  8,  5,  0,  0],\n",
              "       [ 1,  3,  5,  0,  0],\n",
              "       [ 9,  2,  0,  0,  0],\n",
              "       [ 2,  4,  3,  2,  0],\n",
              "       [ 3,  2,  0,  0,  0],\n",
              "       [ 1,  4,  6,  0,  0],\n",
              "       [ 1,  4,  6,  0,  0],\n",
              "       [ 1,  4,  2,  0,  0],\n",
              "       [ 3,  2, 10,  1, 11],\n",
              "       [ 1, 12,  3, 13,  0]], dtype=int32)"
            ]
          },
          "metadata": {},
          "execution_count": 15
        }
      ]
    },
    {
      "cell_type": "markdown",
      "source": [
        "길이가 5보다 짧은 문서들은 0으로 패딩되고, 기존에 5보다 길었다면 데이터가 손실됩니다. 가령, 뒤에서 두번째 문장은 본래 [ 7, 7, 3, 2, 10, 1, 11]였으나 현재는 [ 3, 2, 10, 1, 11]로 변경된 것을 볼 수 있습니다. 만약, 데이터가 손실될 경우에 앞의 단어가 아니라 뒤의 단어가 삭제되도록 하고싶다면 truncating이라는 인자를 사용합니다. truncating='post'를 사용할 경우 뒤의 단어가 삭제됩니다.\n",
        "\n"
      ],
      "metadata": {
        "id": "Nn35ePtXhYDG"
      }
    },
    {
      "cell_type": "code",
      "source": [
        "paddedd = pad_sequences(encoded, padding='post', truncating='post', maxlen =5)\n",
        "\n",
        "paddedd"
      ],
      "metadata": {
        "colab": {
          "base_uri": "https://localhost:8080/"
        },
        "id": "bYGlH4zXhgXi",
        "outputId": "35997667-3ac6-4f49-f1fe-f86235292289"
      },
      "execution_count": null,
      "outputs": [
        {
          "output_type": "execute_result",
          "data": {
            "text/plain": [
              "array([[ 1,  5,  0,  0,  0],\n",
              "       [ 1,  8,  5,  0,  0],\n",
              "       [ 1,  3,  5,  0,  0],\n",
              "       [ 9,  2,  0,  0,  0],\n",
              "       [ 2,  4,  3,  2,  0],\n",
              "       [ 3,  2,  0,  0,  0],\n",
              "       [ 1,  4,  6,  0,  0],\n",
              "       [ 1,  4,  6,  0,  0],\n",
              "       [ 1,  4,  2,  0,  0],\n",
              "       [ 7,  7,  3,  2, 10],\n",
              "       [ 1, 12,  3, 13,  0]], dtype=int32)"
            ]
          },
          "metadata": {},
          "execution_count": 16
        }
      ]
    },
    {
      "cell_type": "markdown",
      "source": [
        "숫자 0으로 패딩하는 것은 널리 퍼진 관례이긴 하지만, 반드시 지켜야하는 규칙은 아닙니다. 만약, 숫자 0이 아니라 다른 숫자를 패딩을 위한 숫자로 사용하고 싶다면 이 또한 가능합니다. 현재 사용된 정수들과 겹치지 않도록, 단어 집합의 크기에 +1을 한 숫자로 사용해봅시다.\n",
        "\n"
      ],
      "metadata": {
        "id": "mMVfzte9i4l1"
      }
    },
    {
      "cell_type": "code",
      "source": [
        "last_value = len(tokenizer.word_index) + 1 # 단어 집합의 크기보다 1 큰 숫자를 사용\n",
        "print(last_value)"
      ],
      "metadata": {
        "colab": {
          "base_uri": "https://localhost:8080/"
        },
        "id": "Fid6u_XPi7AS",
        "outputId": "9d8cacb3-c8b3-4074-b1ec-399b17c2007d"
      },
      "execution_count": null,
      "outputs": [
        {
          "output_type": "stream",
          "name": "stdout",
          "text": [
            "14\n"
          ]
        }
      ]
    },
    {
      "cell_type": "markdown",
      "source": [
        "현재 단어가 총 13개이고, 1번부터 13번까지 정수가 사용되었으므로 단어 집합의 크기에 +1을 하면 마지막 숫자인 13보다 1이 큰 14를 얻습니다. pad_sequences의 인자로 value를 사용하면 0이 아닌 다른 숫자로 패딩이 가능합니다.\n",
        "\n"
      ],
      "metadata": {
        "id": "aaop1Y2HjBmS"
      }
    },
    {
      "cell_type": "code",
      "source": [
        "padded = pad_sequences(encoded, padding='post', value =last_value)\n",
        "padded"
      ],
      "metadata": {
        "colab": {
          "base_uri": "https://localhost:8080/"
        },
        "id": "qC__l87wjGJU",
        "outputId": "126b6259-15a3-4164-cbc6-3b15d1b261c8"
      },
      "execution_count": null,
      "outputs": [
        {
          "output_type": "execute_result",
          "data": {
            "text/plain": [
              "array([[ 1,  5, 14, 14, 14, 14, 14],\n",
              "       [ 1,  8,  5, 14, 14, 14, 14],\n",
              "       [ 1,  3,  5, 14, 14, 14, 14],\n",
              "       [ 9,  2, 14, 14, 14, 14, 14],\n",
              "       [ 2,  4,  3,  2, 14, 14, 14],\n",
              "       [ 3,  2, 14, 14, 14, 14, 14],\n",
              "       [ 1,  4,  6, 14, 14, 14, 14],\n",
              "       [ 1,  4,  6, 14, 14, 14, 14],\n",
              "       [ 1,  4,  2, 14, 14, 14, 14],\n",
              "       [ 7,  7,  3,  2, 10,  1, 11],\n",
              "       [ 1, 12,  3, 13, 14, 14, 14]], dtype=int32)"
            ]
          },
          "metadata": {},
          "execution_count": 18
        }
      ]
    },
    {
      "cell_type": "markdown",
      "source": [
        "# 8. 원-핫 인코딩 (One-Hot Encoding)"
      ],
      "metadata": {
        "id": "aGpNAuvxjQYI"
      }
    },
    {
      "cell_type": "markdown",
      "source": [
        "컴퓨터 또는 기계는 문자보다는 숫자를 더 잘 처리 할 수 있습니다. 이를 위해 자연어 처리에서는 문자를 숫자로 바꾸는 여러가지 기법들이 있습니다. **원-핫 인코딩(One-Hot Encoding)**은 그 많은 기법 중에서 단어를 표현하는 가장 기본적인 표현 방법이며, 머신 러닝, 딥 러닝을 하기 위해서는 반드시 배워야 하는 표현 방법입니다.\n",
        "\n"
      ],
      "metadata": {
        "id": "xMPZ7eMCkb6E"
      }
    },
    {
      "cell_type": "markdown",
      "source": [
        "원-핫 인코딩에 대해서 배우기에 앞서 단어 집합(vocabulary) 에 대해서 정의해보겠습니다. 단어 집합은 앞으로 자연어 처리에서 계속 나오는 개념이기 때문에 여기서 이해하고 가야합니다. 단어 집합은 서로 다른 단어들의 집합입니다. 여기서 혼동이 없도록 서로 다른 단어라는 정의에 대해서 좀 더 주목할 필요가 있습니다. 단어 집합(vocabulary)에서는 기본적으로 book과 books와 같이 단어의 변형 형태도 다른 단어로 간주합니다. 이 책에서는 앞으로 단어 집합에 있는 단어들을 가지고, 문자를 숫자. 더 구체적으로는 벡터로 바꾸는 원-핫 인코딩을 포함한 여러 방법에 대해서 배우게 됩니다.\n",
        "\n"
      ],
      "metadata": {
        "id": "tFVDCZS_kfca"
      }
    },
    {
      "cell_type": "markdown",
      "source": [
        "원-핫 인코딩에 대해서 배우기에 앞서 단어 집합(vocabulary) 에 대해서 정의해보겠습니다. 단어 집합은 앞으로 자연어 처리에서 계속 나오는 개념이기 때문에 여기서 이해하고 가야합니다. **단어 집합**은 서로 다른 단어들의 집합입니다. 여기서 혼동이 없도록 서로 다른 단어라는 정의에 대해서 좀 더 주목할 필요가 있습니다. 단어 집합(vocabulary)에서는 기본적으로 book과 books와 같이 단어의 변형 형태도 다른 단어로 간주합니다. 이 책에서는 앞으로 단어 집합에 있는 단어들을 가지고, 문자를 숫자. 더 구체적으로는 벡터로 바꾸는 원-핫 인코딩을 포함한 여러 방법에 대해서 배우게 됩니다.\n",
        "\n"
      ],
      "metadata": {
        "id": "mwNZcrrrkvEV"
      }
    },
    {
      "cell_type": "markdown",
      "source": [
        "원-핫 인코딩을 위해서 먼저 해야할 일은 단어 집합을 만드는 일입니다. 텍스트의 모든 단어를 중복을 허용하지 않고 모아놓으면 이를 단어 집합이라고 합니다. 그리고 이 단어 집합에 고유한 정수를 부여하는 정수 인코딩을 진행합니다. 텍스트에 단어가 총 5,000개가 존재한다면, 단어 집합의 크기는 5,000입니다. 5,000개의 단어가 있는 이 단어 집합의 단어들마다 1번부터 5,000번까지 인덱스를 부여한다고 해보겠습니다. 가령, book은 150번, dog는 171번, love는 192번, books는 212번과 같이 부여할 수 있습니다.\n",
        "\n",
        "이제 각 단어에 고유한 정수 인덱스를 부여하였다고 합시다. 이 숫자로 바뀐 단어들을 벡터로 다루고 싶다면 어떻게 하면 될까요?\n",
        "\n"
      ],
      "metadata": {
        "id": "VmY22Z9LlB3f"
      }
    },
    {
      "cell_type": "markdown",
      "source": [
        "## 1) 원-핫 인코딩(One-Hot Encoding)이란?\n",
        "\n",
        "**원-핫 인코딩**은 단어 집합의 크기를 벡터의 차원으로 하고, 표현하고 싶은 단어의 인덱스에 1의 값을 부여하고, 다른 인덱스에는 0을 부여하는 단어의 벡터 표현 방식입니다. 이렇게 표현된 벡터를 **원-핫 벡터(One-Hot vector)**라고 합니다.\n",
        "\n",
        "원-핫 인코딩을 두 가지 과정으로 정리해보겠습니다.\n",
        "  1. 첫째, 정수 인코딩을 수행합니다. 다시 말해 각 단어에 고유한 정수를 부여합니다. \n",
        "  2.둘째, 표현하고 싶은 단어의 고유한 정수를 인덱스로 간주하고 해당 위치에 1을 부여하고, 다른 단어의 인덱스의 위치에는 0을 부여합니다.\n",
        "\n",
        "한국어 문장을 예제로 원-핫 벡터를 만들어보겠습니다.\n",
        "\n",
        "> 문장 : 나는 자연어 처리를 배운다\n",
        "\n",
        "\n",
        "Okt 형태소 분석기를 통해서 문장에 대해서 토큰화를 수행합니다.\n",
        "\n",
        "\n",
        "\n"
      ],
      "metadata": {
        "id": "kpP52Oillase"
      }
    },
    {
      "cell_type": "code",
      "source": [
        "pip install konlpy"
      ],
      "metadata": {
        "colab": {
          "base_uri": "https://localhost:8080/"
        },
        "id": "J9rmdeupl5vK",
        "outputId": "a653728c-b857-4b85-d06e-556fb0282f66"
      },
      "execution_count": null,
      "outputs": [
        {
          "output_type": "stream",
          "name": "stdout",
          "text": [
            "Collecting konlpy\n",
            "  Downloading konlpy-0.6.0-py2.py3-none-any.whl (19.4 MB)\n",
            "\u001b[K     |████████████████████████████████| 19.4 MB 1.2 MB/s \n",
            "\u001b[?25hCollecting JPype1>=0.7.0\n",
            "  Downloading JPype1-1.3.0-cp37-cp37m-manylinux_2_5_x86_64.manylinux1_x86_64.whl (448 kB)\n",
            "\u001b[K     |████████████████████████████████| 448 kB 62.6 MB/s \n",
            "\u001b[?25hRequirement already satisfied: numpy>=1.6 in /usr/local/lib/python3.7/dist-packages (from konlpy) (1.21.5)\n",
            "Requirement already satisfied: lxml>=4.1.0 in /usr/local/lib/python3.7/dist-packages (from konlpy) (4.2.6)\n",
            "Requirement already satisfied: typing-extensions in /usr/local/lib/python3.7/dist-packages (from JPype1>=0.7.0->konlpy) (3.10.0.2)\n",
            "Installing collected packages: JPype1, konlpy\n",
            "Successfully installed JPype1-1.3.0 konlpy-0.6.0\n"
          ]
        }
      ]
    },
    {
      "cell_type": "code",
      "source": [
        "from konlpy.tag import Okt"
      ],
      "metadata": {
        "id": "7DSxlQXul1Ds"
      },
      "execution_count": null,
      "outputs": []
    },
    {
      "cell_type": "code",
      "source": [
        "okt = Okt()\n",
        "tokens = okt.morphs(\"나는 자연어 처리를 배운다\")\n",
        "print(tokens)"
      ],
      "metadata": {
        "colab": {
          "base_uri": "https://localhost:8080/"
        },
        "id": "TlWwvbiNl3oX",
        "outputId": "b313c72d-5c0e-4f43-962c-c58e2ca31172"
      },
      "execution_count": null,
      "outputs": [
        {
          "output_type": "stream",
          "name": "stdout",
          "text": [
            "['나', '는', '자연어', '처리', '를', '배운다']\n"
          ]
        }
      ]
    },
    {
      "cell_type": "markdown",
      "source": [
        "각 토큰에 대해서 고유한 정수를 부여합니다. 지금은 문장이 짧기 때문에 각 단어의 빈도수를 고려하지 않지만, 빈도수 순으로 단어를 정렬하여 정수를 부여하는 경우가 많습니다.\n",
        "\n"
      ],
      "metadata": {
        "id": "r93v2BigmGQa"
      }
    },
    {
      "cell_type": "code",
      "source": [
        "word_to_index = {word : index for index, word in enumerate(tokens)}\n",
        "print('단어 집합 : ', word_to_index)"
      ],
      "metadata": {
        "colab": {
          "base_uri": "https://localhost:8080/"
        },
        "id": "qlViBHUUn7al",
        "outputId": "d94a2cea-2856-4c3c-c527-5a88fe890d4f"
      },
      "execution_count": 23,
      "outputs": [
        {
          "output_type": "stream",
          "name": "stdout",
          "text": [
            "단어 집합 :  {'나': 0, '는': 1, '자연어': 2, '처리': 3, '를': 4, '배운다': 5}\n"
          ]
        }
      ]
    },
    {
      "cell_type": "markdown",
      "source": [
        "토큰을 입력하면 해당 토큰에 대한 원-핫 벡터를 만들어내는 함수를 만들었습니다.\n",
        "\n"
      ],
      "metadata": {
        "id": "5dr6vGpLoHd4"
      }
    },
    {
      "cell_type": "code",
      "source": [
        "len(word_to_index) * [0]"
      ],
      "metadata": {
        "colab": {
          "base_uri": "https://localhost:8080/"
        },
        "id": "XTZE50okoZkz",
        "outputId": "1322b4eb-173d-4aba-b996-e2ee082cda3a"
      },
      "execution_count": 25,
      "outputs": [
        {
          "output_type": "execute_result",
          "data": {
            "text/plain": [
              "[0, 0, 0, 0, 0, 0]"
            ]
          },
          "metadata": {},
          "execution_count": 25
        }
      ]
    },
    {
      "cell_type": "code",
      "source": [
        "def one_hot_encoding(word, word_to_index):\n",
        "  one_hot_vector = [0] * (len(word_to_index))\n",
        "  index = word_to_index[word]\n",
        "  one_hot_vector[index] = 1\n",
        "  return one_hot_vector"
      ],
      "metadata": {
        "id": "63goNkT3oH0u"
      },
      "execution_count": 26,
      "outputs": []
    },
    {
      "cell_type": "markdown",
      "source": [
        "'자연어'라는 단어의 원-핫 벡터를 얻어봅시다.\n",
        "\n"
      ],
      "metadata": {
        "id": "6bSoExGwonQ1"
      }
    },
    {
      "cell_type": "code",
      "source": [
        "one_hot_encoding('자연어', word_to_index)"
      ],
      "metadata": {
        "colab": {
          "base_uri": "https://localhost:8080/"
        },
        "id": "5XAWaxLSolrs",
        "outputId": "7fea91a3-fdce-4808-8ae5-caba00d332f8"
      },
      "execution_count": 27,
      "outputs": [
        {
          "output_type": "execute_result",
          "data": {
            "text/plain": [
              "[0, 0, 1, 0, 0, 0]"
            ]
          },
          "metadata": {},
          "execution_count": 27
        }
      ]
    },
    {
      "cell_type": "markdown",
      "source": [
        "'자연어'는 정수 2이므로 원-핫 벡터는 인덱스 2의 값이 1이며, 나머지 값은 0인 벡터가 나옵니다.\n",
        "\n"
      ],
      "metadata": {
        "id": "V0kS09X9osXV"
      }
    }
  ]
}