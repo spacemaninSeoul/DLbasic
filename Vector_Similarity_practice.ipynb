{
  "nbformat": 4,
  "nbformat_minor": 0,
  "metadata": {
    "colab": {
      "name": "Vector Similarity_practice.ipynb",
      "provenance": [],
      "authorship_tag": "ABX9TyPYxOm8291RfHk+/ie5i/+0",
      "include_colab_link": true
    },
    "kernelspec": {
      "name": "python3",
      "display_name": "Python 3"
    },
    "language_info": {
      "name": "python"
    }
  },
  "cells": [
    {
      "cell_type": "markdown",
      "metadata": {
        "id": "view-in-github",
        "colab_type": "text"
      },
      "source": [
        "<a href=\"https://colab.research.google.com/github/spacemaninSeoul/road_to_NLPmaster/blob/main/Vector_Similarity_practice.ipynb\" target=\"_parent\"><img src=\"https://colab.research.google.com/assets/colab-badge.svg\" alt=\"Open In Colab\"/></a>"
      ]
    },
    {
      "cell_type": "markdown",
      "source": [
        "벡터의 유사도\n",
        "\n",
        "문장이나 문서의 유사도를 구하는 작업은 자연어 처리의 주요 주제 중 하나입니다. 사람들이 인식하는 문서의 유사도는 주로 문서들 간에 동일한 단어 또는 비슷한 단어가 얼마나 공통적으로 많이 사용되었는지에 의존합니다. 기계도 마찬가지입니다. **기계가 계산하는 문서의 유사도의 성능은 각 문서의 단어들을 어떤 방법으로 수치화하여 표현했는지(DTM, Word2Vec 등), 문서 간의 단어들의 차이를 어떤 방법(유클리드 거리, 코사인 유사도 등)으로 계산했는지에 달려있습니다.**\n",
        "\n",
        "https://www.kernix.com/blog/similarity-measure-of-textual-documents_p12\n",
        "\n",
        "\n"
      ],
      "metadata": {
        "id": "vBVlD0VPEa1O"
      }
    },
    {
      "cell_type": "markdown",
      "source": [
        "# 1. 코사인 유사도"
      ],
      "metadata": {
        "id": "CEekISZaEnzC"
      }
    },
    {
      "cell_type": "markdown",
      "source": [
        "BoW에 기반한 단어 표현 방법인 DTM, TF-IDF, 또는 뒤에서 배우게 될 Word2Vec 등과 같이 단어를 수치화할 수 있는 방법을 이해했다면 이러한 표현 방법에 대해서 코사인 유사도를 이용하여 문서의 유사도를 구하는 게 가능합니다.\n",
        "\n"
      ],
      "metadata": {
        "id": "XGGaetE5S_Ib"
      }
    },
    {
      "cell_type": "markdown",
      "source": [
        "## 1) 코사인 유사도(Cosine Similarity)\n",
        "\n",
        "코사인 유사도는 두 벡터 간의 코사인 각도를 이용하여 구할 수 있는 두 벡터의 유사도를 의미합니다. 두 벡터의 방향이 완전히 동일한 경우에는 1의 값을 가지며, 90°의 각을 이루면 0, 180°로 반대의 방향을 가지면 -1의 값을 갖게 됩니다. 즉, 결국 코사인 유사도는 -1 이상 1 이하의 값을 가지며 값이 1에 가까울수록 유사도가 높다고 판단할 수 있습니다. 이를 직관적으로 이해하면 두 벡터가 가리키는 방향이 얼마나 유사한가를 의미합니다.\n",
        "\n",
        "![image.png](data:image/png;base64,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)\n",
        "\n"
      ],
      "metadata": {
        "id": "L6ftjdtUTAmt"
      }
    },
    {
      "cell_type": "markdown",
      "source": [
        "두 벡터 A, B에 대해서 코사인 유사도는 식으로 표현하면 다음과 같습니다.\n",
        "\n",
        "![image.png](data:image/png;base64,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)\n"
      ],
      "metadata": {
        "id": "IUpjhXu6TNHl"
      }
    },
    {
      "cell_type": "markdown",
      "source": [
        "문서 단어 행렬이나 TF-IDF 행렬을 통해서 문서의 유사도를 구하는 경우에는 문서 단어 행렬이나 TF-IDF 행렬이 각각의 특징 벡터 A, B가 됩니다. 예시를 통해 문서 단어 행렬에 대해서 코사인 유사도를 구해봅시다.\n",
        "\n",
        "문서1 : 저는 사과 좋아요\n",
        "문서2 : 저는 바나나 좋아요\n",
        "문서3 : 저는 바나나 좋아요 저는 바나나 좋아요\n",
        "\n",
        "뛰어쓰기 기준 토큰화를 진행했다고 가정하고, 위의 세 문서에 대해서 문서 단어 행렬을 만들면 이와 같습니다.\n",
        "\n",
        "![image.png](data:image/png;base64,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)\n",
        "\n",
        "Numpy를 사용해서 코사인 유사도를 계산하는 함수를 구현하고 각 문서 벡터 간의 코사인 유사도를 계산해보겠습니다."
      ],
      "metadata": {
        "id": "hVLQG8qZTWL-"
      }
    },
    {
      "cell_type": "code",
      "execution_count": null,
      "metadata": {
        "colab": {
          "base_uri": "https://localhost:8080/"
        },
        "id": "TSBWIB6HERZS",
        "outputId": "1e72bd1f-5393-43e7-cf36-14fde2c3a671"
      },
      "outputs": [
        {
          "output_type": "stream",
          "name": "stdout",
          "text": [
            "문서 1과 문서 2의 유사도 : 0.6666666666666667\n",
            "문서 1과 문서 3의 유사도 : 0.6666666666666667\n",
            "문서 2와 문서 3의 유사도 : 1.0000000000000002\n"
          ]
        }
      ],
      "source": [
        "import numpy as np\n",
        "from numpy import dot\n",
        "from numpy.linalg import norm\n",
        "\n",
        "def cos_sim(A, B):\n",
        "  return dot(A, B) / (norm(A) * norm(B))\n",
        "\n",
        "doc1 = np.array([0, 1, 1, 1])\n",
        "doc2 = np.array([1, 0, 1, 1])\n",
        "doc3 = np.array([2, 0, 2, 2])\n",
        "\n",
        "print('문서 1과 문서 2의 유사도 :', cos_sim(doc1, doc2))\n",
        "print('문서 1과 문서 3의 유사도 :', cos_sim(doc1, doc3))\n",
        "print('문서 2와 문서 3의 유사도 :', cos_sim(doc2, doc3))"
      ]
    },
    {
      "cell_type": "markdown",
      "source": [
        "눈여겨볼만한 점은 문서1과 문서2의 코사인 유사도와 문서1과 문서3의 코사인 유사도가 같다는 점과 문서2와 문서3의 코사인 유사도가 1이 나온다는 것입니다. 앞서 1은 두 벡터의 방향이 완전히 동일한 경우에 1이 나오며, 코사인 유사도 관점에서는 유사도의 값이 최대임을 의미한다고 언급한 바 있습니다.\n",
        "\n",
        "문서3은 문서2에서 단지 모든 단어의 빈도수가 1씩 증가했을 뿐입니다. 다시 말해 한 문서 내의 모든 단어의 빈도수가 동일하게 증가하는 경우에는 기존의 문서와 코사인 유사도의 값이 1이라는 것입니다. 이것이 시사하는 점은 무엇일까요? 예를 들어보겠습니다. 문서 A와 B가 동일한 주제의 문서. 문서 C는 다른 주제의 문서라고 해봅시다. 그리고 문서 A와 문서 C의 문서의 길이는 거의 차이가 나지 않지만, 문서 B의 경우 문서 A의 길이보다 두 배의 길이를 가진다고 가정하겠습니다. 이런 경우 유클리드 거리로 유사도를 연산하면 문서 A가 문서 B보다 문서 C와 유사도가 더 높게 나오는 상황이 발생할 수 있습니다. 이는 유사도 연산에 문서의 길이가 영향을 받았기 때문인데, 이런 경우 코사인 유사도가 해결책이 될 수 있습니다. 코사인 유사도는 유사도를 구할 때 벡터의 방향(패턴)에 초점을 두므로 코사인 유사도는 문서의 길이가 다른 상황에서 비교적 공정한 비교를 할 수 있도록 도와줍니다.\n",
        "\n"
      ],
      "metadata": {
        "id": "J16XBKA4Uz4l"
      }
    },
    {
      "cell_type": "markdown",
      "source": [
        "## 2) 유사도를 이용한 추천 시스템 구현하기\n",
        "\n",
        "캐글에서 사용되었던 영화 데이터셋을 가지고 영화 추천 시스템을 만들어보겠습니다. TF-IDF와 코사인 유사도만으로 영화의 줄거리에 기반해서 영화를 추천하는 추천 시스템을 만들 수 있습니다.\n",
        "\n",
        "다운로드 링크 : https://www.kaggle.com/rounakbanik/the-movies-dataset\n",
        "\n",
        "원본 파일은 위 링크에서 movies_metadata.csv 파일을 다운로드 받으면 됩니다. 해당 데이터는 총 24개의 열을 가진 45,466개의 샘플로 구성된 영화 정보 데이터입니다.\n",
        "\n"
      ],
      "metadata": {
        "id": "VkHbBNg2WnBf"
      }
    },
    {
      "cell_type": "code",
      "source": [
        "import os"
      ],
      "metadata": {
        "id": "u6WajcOUf-8Q"
      },
      "execution_count": 1,
      "outputs": []
    },
    {
      "cell_type": "code",
      "source": [
        "# os.environ을 이용하여 Kaggle API Username, Key 세팅하기\n",
        "os.environ ['KAGGLE_USERNAME']=\"pseudoexaminee\"\n",
        "os.environ ['KAGGLE_KEY']= '88c6590eca43e150bc61849bec962363'"
      ],
      "metadata": {
        "id": "Rsgn_5QOgAbd"
      },
      "execution_count": 5,
      "outputs": []
    },
    {
      "cell_type": "code",
      "source": [
        "# Linux 명령어로 Kaggle API를 이용하여 데이터셋 다운로드하기 (!kaggle ~)\n",
        "# Linux 명령어로 압축 해제하기\n",
        "!kaggle datasets download -d rounakbanik/the-movies-dataset"
      ],
      "metadata": {
        "colab": {
          "base_uri": "https://localhost:8080/"
        },
        "id": "yfwKjeYngDht",
        "outputId": "fe0856e6-31ef-4bf0-9ed7-3268feb9fd15"
      },
      "execution_count": 6,
      "outputs": [
        {
          "output_type": "stream",
          "name": "stdout",
          "text": [
            "Downloading the-movies-dataset.zip to /content\n",
            " 97% 222M/228M [00:00<00:00, 256MB/s]\n",
            "100% 228M/228M [00:00<00:00, 257MB/s]\n"
          ]
        }
      ]
    },
    {
      "cell_type": "code",
      "source": [
        "!unzip '*.zip'"
      ],
      "metadata": {
        "colab": {
          "base_uri": "https://localhost:8080/"
        },
        "id": "Iuawe7iDgVsG",
        "outputId": "78bba14f-2bd7-46e2-e857-69bbac76dba4"
      },
      "execution_count": 7,
      "outputs": [
        {
          "output_type": "stream",
          "name": "stdout",
          "text": [
            "Archive:  the-movies-dataset.zip\n",
            "  inflating: credits.csv             \n",
            "  inflating: keywords.csv            \n",
            "  inflating: links.csv               \n",
            "  inflating: links_small.csv         \n",
            "  inflating: movies_metadata.csv     \n",
            "  inflating: ratings.csv             \n",
            "  inflating: ratings_small.csv       \n"
          ]
        }
      ]
    },
    {
      "cell_type": "markdown",
      "source": [
        "다운로드 받은 훈련 데이터에서 상위 5개의 샘플만 출력하여 데이터의 형식을 확인합니다.\n",
        "\n"
      ],
      "metadata": {
        "id": "ncsYcbXJhS1z"
      }
    },
    {
      "cell_type": "code",
      "source": [
        "import pandas as pd\n",
        "from sklearn.feature_extraction.text import TfidfVectorizer\n",
        "from sklearn.metrics.pairwise import cosine_similarity\n",
        "\n",
        "data = pd.read_csv('movies_metadata.csv', low_memory=False)\n",
        "data.head()"
      ],
      "metadata": {
        "colab": {
          "base_uri": "https://localhost:8080/",
          "height": 688
        },
        "id": "awyHiZnthCOa",
        "outputId": "dea1e61e-0854-4e4a-f77a-9a9d3568b0bd"
      },
      "execution_count": 8,
      "outputs": [
        {
          "output_type": "execute_result",
          "data": {
            "text/plain": [
              "   adult                              belongs_to_collection    budget  \\\n",
              "0  False  {'id': 10194, 'name': 'Toy Story Collection', ...  30000000   \n",
              "1  False                                                NaN  65000000   \n",
              "2  False  {'id': 119050, 'name': 'Grumpy Old Men Collect...         0   \n",
              "3  False                                                NaN  16000000   \n",
              "4  False  {'id': 96871, 'name': 'Father of the Bride Col...         0   \n",
              "\n",
              "                                              genres  \\\n",
              "0  [{'id': 16, 'name': 'Animation'}, {'id': 35, '...   \n",
              "1  [{'id': 12, 'name': 'Adventure'}, {'id': 14, '...   \n",
              "2  [{'id': 10749, 'name': 'Romance'}, {'id': 35, ...   \n",
              "3  [{'id': 35, 'name': 'Comedy'}, {'id': 18, 'nam...   \n",
              "4                     [{'id': 35, 'name': 'Comedy'}]   \n",
              "\n",
              "                               homepage     id    imdb_id original_language  \\\n",
              "0  http://toystory.disney.com/toy-story    862  tt0114709                en   \n",
              "1                                   NaN   8844  tt0113497                en   \n",
              "2                                   NaN  15602  tt0113228                en   \n",
              "3                                   NaN  31357  tt0114885                en   \n",
              "4                                   NaN  11862  tt0113041                en   \n",
              "\n",
              "                original_title  \\\n",
              "0                    Toy Story   \n",
              "1                      Jumanji   \n",
              "2             Grumpier Old Men   \n",
              "3            Waiting to Exhale   \n",
              "4  Father of the Bride Part II   \n",
              "\n",
              "                                            overview  ... release_date  \\\n",
              "0  Led by Woody, Andy's toys live happily in his ...  ...   1995-10-30   \n",
              "1  When siblings Judy and Peter discover an encha...  ...   1995-12-15   \n",
              "2  A family wedding reignites the ancient feud be...  ...   1995-12-22   \n",
              "3  Cheated on, mistreated and stepped on, the wom...  ...   1995-12-22   \n",
              "4  Just when George Banks has recovered from his ...  ...   1995-02-10   \n",
              "\n",
              "       revenue runtime                                   spoken_languages  \\\n",
              "0  373554033.0    81.0           [{'iso_639_1': 'en', 'name': 'English'}]   \n",
              "1  262797249.0   104.0  [{'iso_639_1': 'en', 'name': 'English'}, {'iso...   \n",
              "2          0.0   101.0           [{'iso_639_1': 'en', 'name': 'English'}]   \n",
              "3   81452156.0   127.0           [{'iso_639_1': 'en', 'name': 'English'}]   \n",
              "4   76578911.0   106.0           [{'iso_639_1': 'en', 'name': 'English'}]   \n",
              "\n",
              "     status                                            tagline  \\\n",
              "0  Released                                                NaN   \n",
              "1  Released          Roll the dice and unleash the excitement!   \n",
              "2  Released  Still Yelling. Still Fighting. Still Ready for...   \n",
              "3  Released  Friends are the people who let you be yourself...   \n",
              "4  Released  Just When His World Is Back To Normal... He's ...   \n",
              "\n",
              "                         title  video vote_average vote_count  \n",
              "0                    Toy Story  False          7.7     5415.0  \n",
              "1                      Jumanji  False          6.9     2413.0  \n",
              "2             Grumpier Old Men  False          6.5       92.0  \n",
              "3            Waiting to Exhale  False          6.1       34.0  \n",
              "4  Father of the Bride Part II  False          5.7      173.0  \n",
              "\n",
              "[5 rows x 24 columns]"
            ],
            "text/html": [
              "\n",
              "  <div id=\"df-be69604b-f623-41c1-928b-ee9e4a6f482c\">\n",
              "    <div class=\"colab-df-container\">\n",
              "      <div>\n",
              "<style scoped>\n",
              "    .dataframe tbody tr th:only-of-type {\n",
              "        vertical-align: middle;\n",
              "    }\n",
              "\n",
              "    .dataframe tbody tr th {\n",
              "        vertical-align: top;\n",
              "    }\n",
              "\n",
              "    .dataframe thead th {\n",
              "        text-align: right;\n",
              "    }\n",
              "</style>\n",
              "<table border=\"1\" class=\"dataframe\">\n",
              "  <thead>\n",
              "    <tr style=\"text-align: right;\">\n",
              "      <th></th>\n",
              "      <th>adult</th>\n",
              "      <th>belongs_to_collection</th>\n",
              "      <th>budget</th>\n",
              "      <th>genres</th>\n",
              "      <th>homepage</th>\n",
              "      <th>id</th>\n",
              "      <th>imdb_id</th>\n",
              "      <th>original_language</th>\n",
              "      <th>original_title</th>\n",
              "      <th>overview</th>\n",
              "      <th>...</th>\n",
              "      <th>release_date</th>\n",
              "      <th>revenue</th>\n",
              "      <th>runtime</th>\n",
              "      <th>spoken_languages</th>\n",
              "      <th>status</th>\n",
              "      <th>tagline</th>\n",
              "      <th>title</th>\n",
              "      <th>video</th>\n",
              "      <th>vote_average</th>\n",
              "      <th>vote_count</th>\n",
              "    </tr>\n",
              "  </thead>\n",
              "  <tbody>\n",
              "    <tr>\n",
              "      <th>0</th>\n",
              "      <td>False</td>\n",
              "      <td>{'id': 10194, 'name': 'Toy Story Collection', ...</td>\n",
              "      <td>30000000</td>\n",
              "      <td>[{'id': 16, 'name': 'Animation'}, {'id': 35, '...</td>\n",
              "      <td>http://toystory.disney.com/toy-story</td>\n",
              "      <td>862</td>\n",
              "      <td>tt0114709</td>\n",
              "      <td>en</td>\n",
              "      <td>Toy Story</td>\n",
              "      <td>Led by Woody, Andy's toys live happily in his ...</td>\n",
              "      <td>...</td>\n",
              "      <td>1995-10-30</td>\n",
              "      <td>373554033.0</td>\n",
              "      <td>81.0</td>\n",
              "      <td>[{'iso_639_1': 'en', 'name': 'English'}]</td>\n",
              "      <td>Released</td>\n",
              "      <td>NaN</td>\n",
              "      <td>Toy Story</td>\n",
              "      <td>False</td>\n",
              "      <td>7.7</td>\n",
              "      <td>5415.0</td>\n",
              "    </tr>\n",
              "    <tr>\n",
              "      <th>1</th>\n",
              "      <td>False</td>\n",
              "      <td>NaN</td>\n",
              "      <td>65000000</td>\n",
              "      <td>[{'id': 12, 'name': 'Adventure'}, {'id': 14, '...</td>\n",
              "      <td>NaN</td>\n",
              "      <td>8844</td>\n",
              "      <td>tt0113497</td>\n",
              "      <td>en</td>\n",
              "      <td>Jumanji</td>\n",
              "      <td>When siblings Judy and Peter discover an encha...</td>\n",
              "      <td>...</td>\n",
              "      <td>1995-12-15</td>\n",
              "      <td>262797249.0</td>\n",
              "      <td>104.0</td>\n",
              "      <td>[{'iso_639_1': 'en', 'name': 'English'}, {'iso...</td>\n",
              "      <td>Released</td>\n",
              "      <td>Roll the dice and unleash the excitement!</td>\n",
              "      <td>Jumanji</td>\n",
              "      <td>False</td>\n",
              "      <td>6.9</td>\n",
              "      <td>2413.0</td>\n",
              "    </tr>\n",
              "    <tr>\n",
              "      <th>2</th>\n",
              "      <td>False</td>\n",
              "      <td>{'id': 119050, 'name': 'Grumpy Old Men Collect...</td>\n",
              "      <td>0</td>\n",
              "      <td>[{'id': 10749, 'name': 'Romance'}, {'id': 35, ...</td>\n",
              "      <td>NaN</td>\n",
              "      <td>15602</td>\n",
              "      <td>tt0113228</td>\n",
              "      <td>en</td>\n",
              "      <td>Grumpier Old Men</td>\n",
              "      <td>A family wedding reignites the ancient feud be...</td>\n",
              "      <td>...</td>\n",
              "      <td>1995-12-22</td>\n",
              "      <td>0.0</td>\n",
              "      <td>101.0</td>\n",
              "      <td>[{'iso_639_1': 'en', 'name': 'English'}]</td>\n",
              "      <td>Released</td>\n",
              "      <td>Still Yelling. Still Fighting. Still Ready for...</td>\n",
              "      <td>Grumpier Old Men</td>\n",
              "      <td>False</td>\n",
              "      <td>6.5</td>\n",
              "      <td>92.0</td>\n",
              "    </tr>\n",
              "    <tr>\n",
              "      <th>3</th>\n",
              "      <td>False</td>\n",
              "      <td>NaN</td>\n",
              "      <td>16000000</td>\n",
              "      <td>[{'id': 35, 'name': 'Comedy'}, {'id': 18, 'nam...</td>\n",
              "      <td>NaN</td>\n",
              "      <td>31357</td>\n",
              "      <td>tt0114885</td>\n",
              "      <td>en</td>\n",
              "      <td>Waiting to Exhale</td>\n",
              "      <td>Cheated on, mistreated and stepped on, the wom...</td>\n",
              "      <td>...</td>\n",
              "      <td>1995-12-22</td>\n",
              "      <td>81452156.0</td>\n",
              "      <td>127.0</td>\n",
              "      <td>[{'iso_639_1': 'en', 'name': 'English'}]</td>\n",
              "      <td>Released</td>\n",
              "      <td>Friends are the people who let you be yourself...</td>\n",
              "      <td>Waiting to Exhale</td>\n",
              "      <td>False</td>\n",
              "      <td>6.1</td>\n",
              "      <td>34.0</td>\n",
              "    </tr>\n",
              "    <tr>\n",
              "      <th>4</th>\n",
              "      <td>False</td>\n",
              "      <td>{'id': 96871, 'name': 'Father of the Bride Col...</td>\n",
              "      <td>0</td>\n",
              "      <td>[{'id': 35, 'name': 'Comedy'}]</td>\n",
              "      <td>NaN</td>\n",
              "      <td>11862</td>\n",
              "      <td>tt0113041</td>\n",
              "      <td>en</td>\n",
              "      <td>Father of the Bride Part II</td>\n",
              "      <td>Just when George Banks has recovered from his ...</td>\n",
              "      <td>...</td>\n",
              "      <td>1995-02-10</td>\n",
              "      <td>76578911.0</td>\n",
              "      <td>106.0</td>\n",
              "      <td>[{'iso_639_1': 'en', 'name': 'English'}]</td>\n",
              "      <td>Released</td>\n",
              "      <td>Just When His World Is Back To Normal... He's ...</td>\n",
              "      <td>Father of the Bride Part II</td>\n",
              "      <td>False</td>\n",
              "      <td>5.7</td>\n",
              "      <td>173.0</td>\n",
              "    </tr>\n",
              "  </tbody>\n",
              "</table>\n",
              "<p>5 rows × 24 columns</p>\n",
              "</div>\n",
              "      <button class=\"colab-df-convert\" onclick=\"convertToInteractive('df-be69604b-f623-41c1-928b-ee9e4a6f482c')\"\n",
              "              title=\"Convert this dataframe to an interactive table.\"\n",
              "              style=\"display:none;\">\n",
              "        \n",
              "  <svg xmlns=\"http://www.w3.org/2000/svg\" height=\"24px\"viewBox=\"0 0 24 24\"\n",
              "       width=\"24px\">\n",
              "    <path d=\"M0 0h24v24H0V0z\" fill=\"none\"/>\n",
              "    <path d=\"M18.56 5.44l.94 2.06.94-2.06 2.06-.94-2.06-.94-.94-2.06-.94 2.06-2.06.94zm-11 1L8.5 8.5l.94-2.06 2.06-.94-2.06-.94L8.5 2.5l-.94 2.06-2.06.94zm10 10l.94 2.06.94-2.06 2.06-.94-2.06-.94-.94-2.06-.94 2.06-2.06.94z\"/><path d=\"M17.41 7.96l-1.37-1.37c-.4-.4-.92-.59-1.43-.59-.52 0-1.04.2-1.43.59L10.3 9.45l-7.72 7.72c-.78.78-.78 2.05 0 2.83L4 21.41c.39.39.9.59 1.41.59.51 0 1.02-.2 1.41-.59l7.78-7.78 2.81-2.81c.8-.78.8-2.07 0-2.86zM5.41 20L4 18.59l7.72-7.72 1.47 1.35L5.41 20z\"/>\n",
              "  </svg>\n",
              "      </button>\n",
              "      \n",
              "  <style>\n",
              "    .colab-df-container {\n",
              "      display:flex;\n",
              "      flex-wrap:wrap;\n",
              "      gap: 12px;\n",
              "    }\n",
              "\n",
              "    .colab-df-convert {\n",
              "      background-color: #E8F0FE;\n",
              "      border: none;\n",
              "      border-radius: 50%;\n",
              "      cursor: pointer;\n",
              "      display: none;\n",
              "      fill: #1967D2;\n",
              "      height: 32px;\n",
              "      padding: 0 0 0 0;\n",
              "      width: 32px;\n",
              "    }\n",
              "\n",
              "    .colab-df-convert:hover {\n",
              "      background-color: #E2EBFA;\n",
              "      box-shadow: 0px 1px 2px rgba(60, 64, 67, 0.3), 0px 1px 3px 1px rgba(60, 64, 67, 0.15);\n",
              "      fill: #174EA6;\n",
              "    }\n",
              "\n",
              "    [theme=dark] .colab-df-convert {\n",
              "      background-color: #3B4455;\n",
              "      fill: #D2E3FC;\n",
              "    }\n",
              "\n",
              "    [theme=dark] .colab-df-convert:hover {\n",
              "      background-color: #434B5C;\n",
              "      box-shadow: 0px 1px 3px 1px rgba(0, 0, 0, 0.15);\n",
              "      filter: drop-shadow(0px 1px 2px rgba(0, 0, 0, 0.3));\n",
              "      fill: #FFFFFF;\n",
              "    }\n",
              "  </style>\n",
              "\n",
              "      <script>\n",
              "        const buttonEl =\n",
              "          document.querySelector('#df-be69604b-f623-41c1-928b-ee9e4a6f482c button.colab-df-convert');\n",
              "        buttonEl.style.display =\n",
              "          google.colab.kernel.accessAllowed ? 'block' : 'none';\n",
              "\n",
              "        async function convertToInteractive(key) {\n",
              "          const element = document.querySelector('#df-be69604b-f623-41c1-928b-ee9e4a6f482c');\n",
              "          const dataTable =\n",
              "            await google.colab.kernel.invokeFunction('convertToInteractive',\n",
              "                                                     [key], {});\n",
              "          if (!dataTable) return;\n",
              "\n",
              "          const docLinkHtml = 'Like what you see? Visit the ' +\n",
              "            '<a target=\"_blank\" href=https://colab.research.google.com/notebooks/data_table.ipynb>data table notebook</a>'\n",
              "            + ' to learn more about interactive tables.';\n",
              "          element.innerHTML = '';\n",
              "          dataTable['output_type'] = 'display_data';\n",
              "          await google.colab.output.renderOutput(dataTable, element);\n",
              "          const docLink = document.createElement('div');\n",
              "          docLink.innerHTML = docLinkHtml;\n",
              "          element.appendChild(docLink);\n",
              "        }\n",
              "      </script>\n",
              "    </div>\n",
              "  </div>\n",
              "  "
            ]
          },
          "metadata": {},
          "execution_count": 8
        }
      ]
    },
    {
      "cell_type": "markdown",
      "source": [
        "훈련 데이터는 총 24개의 열을 갖고있으나 책의 지면의 한계로 일부 생략합니다. 여기서 코사인 유사도에 사용할 데이터는 영화 제목에 해당하는 title 열과 줄거리에 해당하는 overview 열입니다. 좋아하는 영화를 입력하면, 해당 영화의 줄거리와 유사한 줄거리의 영화를 찾아서 추천하는 시스템을 만들 것입니다.\n",
        "\n"
      ],
      "metadata": {
        "id": "iZCd4pb1hZLK"
      }
    },
    {
      "cell_type": "code",
      "source": [
        "# 상위 2만개의 샘플을 data에 저장\n",
        "data = data.head(20000)"
      ],
      "metadata": {
        "id": "3t8Gy8Paha_U"
      },
      "execution_count": 9,
      "outputs": []
    },
    {
      "cell_type": "markdown",
      "source": [
        "만약 훈련 데이터의 양을 줄이고 학습을 진행하고자 한다면 위와 같이 데이터를 줄여서 재저장할 수 있습니다. 여기서는 상위 20,000개의 샘플만 사용하겠습니다. TF-IDF를 연산할 때 데이터에 Null 값이 들어있으면 에러가 발생합니다. TF-IDF의 대상이 되는 data의 overview 열에 결측값에 해당하는 Null 값이 있는지 확인합니다.\n",
        "\n"
      ],
      "metadata": {
        "id": "NG0ktYxChown"
      }
    },
    {
      "cell_type": "code",
      "source": [
        "# overview 열에 존재하는 모든 결측값을 전부 카운트하여 출력\n",
        "print('oveview 열의 결측값의 수:', data['overview'].isnull().sum())"
      ],
      "metadata": {
        "colab": {
          "base_uri": "https://localhost:8080/"
        },
        "id": "xcALOsxWhqJO",
        "outputId": "ea9700d7-0914-4a98-ca69-1a17c4807094"
      },
      "execution_count": 10,
      "outputs": [
        {
          "output_type": "stream",
          "name": "stdout",
          "text": [
            "oveview 열의 결측값의 수: 135\n"
          ]
        }
      ]
    },
    {
      "cell_type": "markdown",
      "source": [
        "135개의 Null 값이 있다고 합니다. 이 경우 결측값을 가진 행을 제거하는 pandas의 dropna()나 결측값이 있던 행에 특정값으로 채워넣는 pandas의 fillna()를 사용할 수 있습니다. 괄호 안에 Null 대신 넣고자하는 값을 넣으면 되는데, 여기서는 빈 값(empty value)으로 대체하였습니다.\n",
        "\n"
      ],
      "metadata": {
        "id": "5kehsQ9JhyIk"
      }
    },
    {
      "cell_type": "code",
      "source": [
        "# 결측값을 빈 값으로 대체\n",
        "data['overview'] = data['overview'].fillna('')"
      ],
      "metadata": {
        "id": "jCBKSFIUhza-"
      },
      "execution_count": 11,
      "outputs": []
    },
    {
      "cell_type": "markdown",
      "source": [
        "Null 값을 빈 값으로 대체하였습니다. overview열에 대해서 TF-IDF 행렬을 구한 후 행렬의 크기를 출력해봅시다.\n",
        "\n"
      ],
      "metadata": {
        "id": "M-_YBWrfh5V7"
      }
    },
    {
      "cell_type": "code",
      "source": [
        "tfidf = TfidfVectorizer(stop_words='english')\n",
        "tfidf_matrix = tfidf.fit_transform(data['overview'])\n",
        "print('TF-IDF 행렬의 크기(shape) :', tfidf_matrix.shape)"
      ],
      "metadata": {
        "colab": {
          "base_uri": "https://localhost:8080/"
        },
        "id": "k5_7enj6h507",
        "outputId": "c4ec0ab3-3b43-44f1-d9ca-74e70b612f61"
      },
      "execution_count": 12,
      "outputs": [
        {
          "output_type": "stream",
          "name": "stdout",
          "text": [
            "TF-IDF 행렬의 크기(shape) : (20000, 47487)\n"
          ]
        }
      ]
    },
    {
      "cell_type": "markdown",
      "source": [
        "TF-IDF 행렬의 크기는 20,000의 행을 가지고 47,847의 열을 가지는 행렬입니다. 다시 말해 20,000개의 영화를 표현하기 위해서 총 47,487개의 단어가 사용되었음을 의미합니다. 또는 47,847차원의 문서 벡터가 20,000개가 존재한다고도 표현할 수 있을 겁니다. 이제 20,000개의 문서 벡터에 대해서 상호 간의 코사인 유사도를 구합니다.\n",
        "\n"
      ],
      "metadata": {
        "id": "6GPeDd_linko"
      }
    },
    {
      "cell_type": "code",
      "source": [
        "cosine_sim = cosine_similarity(tfidf_matrix, tfidf_matrix)\n",
        "print('코사인 유사도 연산 결과 :', cosine_sim.shape)"
      ],
      "metadata": {
        "colab": {
          "base_uri": "https://localhost:8080/"
        },
        "id": "yN-jwiyoiuGl",
        "outputId": "314025e8-6315-4027-9554-e79c1867bd98"
      },
      "execution_count": 13,
      "outputs": [
        {
          "output_type": "stream",
          "name": "stdout",
          "text": [
            "코사인 유사도 연산 결과 : (20000, 20000)\n"
          ]
        }
      ]
    },
    {
      "cell_type": "markdown",
      "source": [
        "코사인 유사도 연산 결과로는 20,000행 20,000열의 행렬을 얻습니다. 이는 20,000개의 각 문서 벡터(영화 줄거리 벡터)와 자기 자신을 포함한 20,000개의 문서 벡터 간의 유사도가 기록된 행렬입니다. 모든 20,000개 영화의 상호 유사도가 기록되어져 있습니다. 이제 기존 데이터프레임으로부터 영화의 타이틀을 key, 영화의 인덱스를 value로 하는 딕셔너리 title_to_index를 만들어둡니다.\n",
        "\n"
      ],
      "metadata": {
        "id": "nXpEdHs-i7Ow"
      }
    },
    {
      "cell_type": "code",
      "source": [
        "title_to_index = dict(zip(data['title'], data.index))\n",
        "\n",
        "# 영화 제목 Father of the Bride Part II의 인덱스를 리턴\n",
        "idx = title_to_index['Father of the Bride Part II']\n",
        "print(idx)"
      ],
      "metadata": {
        "colab": {
          "base_uri": "https://localhost:8080/"
        },
        "id": "h-qEkq5qjVL6",
        "outputId": "7dc182be-3b13-4ccf-93f2-cc2989809d35"
      },
      "execution_count": 18,
      "outputs": [
        {
          "output_type": "stream",
          "name": "stdout",
          "text": [
            "4\n"
          ]
        }
      ]
    },
    {
      "cell_type": "markdown",
      "source": [
        "선택한 영화의 제목을 입력하면 코사인 유사도를 통해 가장 overview가 유사한 10개의 영화를 찾아내는 함수를 만듭니다.\n",
        "\n"
      ],
      "metadata": {
        "id": "DuvxNYoWj6Gc"
      }
    },
    {
      "cell_type": "code",
      "source": [
        "def get_recommendations(title, cosine_sim=cosine_sim):\n",
        "  # 선택한 영화의 타이틀로부터 영화의 인덱스를 받아온다.\n",
        "  idx = title_to_index[title]\n",
        "\n",
        "  # 해당 영화와 모든 영화와의 유사도를 가져온다.\n",
        "  sim_scores = list(enumerate(cosine_sim[idx]))\n",
        "  \n",
        "  # 유사도에 따라 영화들을 정렬한다.\n",
        "  sim_scores = sorted(sim_scores, key = lambda x: x[1], reverse= True)\n",
        "\n",
        "  # 가장 유사한 10개의 영화를 받아온다.\n",
        "  sim_scores = sim_scores[1:11]\n",
        "\n",
        "  # 가장 유사한 10개의 영화 인덱스를 얻는다.\n",
        "  movie_indices = [idx[0] for idx in sim_scores]\n",
        "\n",
        "  # 가장 유사한 10개의 영화 제목을 리턴한다.\n",
        "  return data['title'].iloc[movie_indices]"
      ],
      "metadata": {
        "id": "Jis-lPqfj6io"
      },
      "execution_count": 22,
      "outputs": []
    },
    {
      "cell_type": "markdown",
      "source": [
        "영화 다크 나이트 라이즈와 overview가 유사한 영화들을 찾아보겠습니다.\n",
        "\n"
      ],
      "metadata": {
        "id": "J7vM0eyYmZra"
      }
    },
    {
      "cell_type": "code",
      "source": [
        "get_recommendations('The Dark Knight Rises')\n"
      ],
      "metadata": {
        "colab": {
          "base_uri": "https://localhost:8080/"
        },
        "id": "um-PMNVYmak2",
        "outputId": "acb954ae-d29a-436d-c83c-1b7c50002685"
      },
      "execution_count": 23,
      "outputs": [
        {
          "output_type": "execute_result",
          "data": {
            "text/plain": [
              "12481                            The Dark Knight\n",
              "150                               Batman Forever\n",
              "1328                              Batman Returns\n",
              "15511                 Batman: Under the Red Hood\n",
              "585                                       Batman\n",
              "9230          Batman Beyond: Return of the Joker\n",
              "18035                           Batman: Year One\n",
              "19792    Batman: The Dark Knight Returns, Part 1\n",
              "3095                Batman: Mask of the Phantasm\n",
              "10122                              Batman Begins\n",
              "Name: title, dtype: object"
            ]
          },
          "metadata": {},
          "execution_count": 23
        }
      ]
    },
    {
      "cell_type": "markdown",
      "source": [
        "가장 유사한 영화가 출력되는데, 영화 다크 나이트가 첫번째고, 그 외에도 전부 배트맨 영화를 찾아낸 것을 확인할 수 있습니다.\n",
        "\n"
      ],
      "metadata": {
        "id": "PdtdP90emcmv"
      }
    },
    {
      "cell_type": "markdown",
      "source": [
        "# 2. 여러가지 유사도 기법\n",
        "\n",
        "문서의 유사도를 구하기 위한 방법으로는 코사인 유사도 외에도 여러가지 방법들이 있습니다. 여기서는 문서의 유사도를 구할 수 있는 다른 방법들을 학습합니다.\n",
        "\n"
      ],
      "metadata": {
        "id": "aw-f9f-tmebq"
      }
    },
    {
      "cell_type": "markdown",
      "source": [
        "## 1) 유클리드 거리(Euclidean distance)\n",
        "\n",
        "유클리드 거리(euclidean distance)는 문서의 유사도를 구할 때 자카드 유사도나 코사인 유사도만큼, 유용한 방법은 아닙니다. 하지만 여러 가지 방법을 이해하고, 시도해보는 것 자체만으로 다른 개념들을 이해할 때 도움이 되므로 의미가 있습니다.\n",
        "\n",
        "다차원 공간에서 두개의 점 p와 q가 각각 p = (p1, p2, p3, ... , pn)과 q=(q1, q2, q3, ... , qn)의 좌표를 가질 때 두 점 사이의 거리를 계산하는 유킬리드 거리 공식은 다음과 같다.\n",
        "\n",
        "![image.png](data:image/png;base64,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)"
      ],
      "metadata": {
        "id": "UnA6Di9Vmkiy"
      }
    },
    {
      "cell_type": "markdown",
      "source": [
        "다차원 공간이라고 가정하면, 처음 보는 입장에서는 식이 너무 복잡해보입니다. 좀 더 쉽게 이해하기위해서 2차원 공간이라고 가정하고 두 점 사이의 거리를 좌표 평면 상에서 시각화해보겠습니다.\n",
        "\n",
        "![image.png](data:image/png;base64,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)"
      ],
      "metadata": {
        "id": "XEeoTNn3m9pO"
      }
    },
    {
      "cell_type": "markdown",
      "source": [
        "2차원 좌표 평면 상에서 두 p점 q와 사이의 직선 거리를 구하는 문제입니다. 위의 경우에는 직각 삼각형으로 표현이 가능하므로, 중학교 수학 과정인 피타고라스의 정리를 통해 p와q  사이의 거리를 계산할 수 있습니다. 즉, 2차원 좌표 평면에서 두 점 사이의 유클리드 거리 공식은 피타고라스의 정리를 통해 두 점 사이의 거리를 구하는 것과 동일합니다."
      ],
      "metadata": {
        "id": "XuLaO96un8S1"
      }
    },
    {
      "cell_type": "markdown",
      "source": [
        "다시 원점으로 돌아가서 여러 문서에 대해서 유사도를 구하고자 유클리드 거리 공식을 사용한다는 것은, 앞서 본 2차원을 단어의 총 개수만큼의 차원으로 확장하는 것과 같습니다. 예를 들어 아래와 같은 DTM이 있다고 합시다.\n",
        "\n",
        "![image.png](data:image/png;base64,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)"
      ],
      "metadata": {
        "id": "nKRtdtiGoCC4"
      }
    },
    {
      "cell_type": "markdown",
      "source": [
        "단어의 개수가 4개이므로, 이는 4차원 공간에 문서1, 문서2, 문서3을 배치하는 것과 같습니다. 이때 다음과 같은 문서Q에 대해서 문서1, 문서2, 문서3 중 가장 유사한 문서를 찾아내고자 합니다.\n",
        "\n",
        "![image.png](data:image/png;base64,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)"
      ],
      "metadata": {
        "id": "DurIN6JnoGYC"
      }
    },
    {
      "cell_type": "markdown",
      "source": [
        "이때 유클리드 거리를 통해 유사도를 구하려고 한다면, 문서Q 또한 다른 문서들처럼 4차원 공간에 배치시켰다는 관점에서 4차원 공간에서의 각각의 문서들과의 유클리드 거리를 구하면 됩니다. 이를 파이썬 코드로 구현해보겠습니다.\n",
        "\n"
      ],
      "metadata": {
        "id": "JM83o3kjoL6d"
      }
    },
    {
      "cell_type": "code",
      "source": [
        "import numpy as np\n",
        "\n",
        "def dist(x, y):\n",
        "  return np.sqrt(np.sum(((x-y)**2)))\n",
        "\n",
        "doc1 = np.array((2,3,0,1))\n",
        "doc2 = np.array((1,2,3,1))\n",
        "doc3 = np.array((2,1,2,2))\n",
        "docQ = np.array((1,1,0,1))\n",
        "\n",
        "print('문서1과 문서Q의 거리 :',dist(doc1,docQ))\n",
        "print('문서2과 문서Q의 거리 :',dist(doc2,docQ))\n",
        "print('문서3과 문서Q의 거리 :',dist(doc3,docQ))\n"
      ],
      "metadata": {
        "colab": {
          "base_uri": "https://localhost:8080/"
        },
        "id": "Pxz2pW1Goaq5",
        "outputId": "33af08ca-26e8-49e0-8d68-067fced32e8f"
      },
      "execution_count": 24,
      "outputs": [
        {
          "output_type": "stream",
          "name": "stdout",
          "text": [
            "문서1과 문서Q의 거리 : 2.23606797749979\n",
            "문서2과 문서Q의 거리 : 3.1622776601683795\n",
            "문서3과 문서Q의 거리 : 2.449489742783178\n"
          ]
        }
      ]
    },
    {
      "cell_type": "markdown",
      "source": [
        "유클리드 거리의 값이 가장 작다는 것은 문서 간 거리가 가장 가깝다는 것을 의미합니다. 즉, 문서1이 문서Q와 가장 유사하다고 볼 수 있습니다.\n",
        "\n"
      ],
      "metadata": {
        "id": "sVdPckZAop0Y"
      }
    },
    {
      "cell_type": "markdown",
      "source": [
        "## 2) 자카드 유사도(Jaccard similarity)\n",
        "\n",
        "A와 B 두개의 집합이 있다고 합시다. 이때 교집합은 두 개의 집합에서 공통으로 가지고 있는 원소들의 집합을 말합니다. 즉, **합집합에서 교집합의 비율을 구한다면 두 집합 A와 B의 유사도를 구할 수 있다는 것이 자카드 유사도(jaccard similarity)의 아이디어**입니다. 자카드 유사도는 0과 1사이의 값을 가지며, 만약 두 집합이 동일하다면 1의 값을 가지고, 두 집합의 공통 원소가 없다면 0의 값을 갖습니다. 자카드 유사도를 구하는 함수를 J라고 하였을 때, 자카드 유사도 함수 J는 아래와 같습니다.\n",
        "\n",
        "![image.png](data:image/png;base64,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)"
      ],
      "metadata": {
        "id": "b2-fHUgoorry"
      }
    },
    {
      "cell_type": "markdown",
      "source": [
        "두 개의 비교할 문서를 각각 doc1, doc2 라고 했을 때 doc1과 doc2 의 문서의 유사도를구하기 위한 자카드 유사도는 이와 같습니다.\n",
        "\n",
        "![image.png](data:image/png;base64,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)\n",
        "\n",
        "두 문서 doc1, doc2 사이의 자카드 유사도 \n",
        "J(doc1, doc2) 는 두 집합의 교집합 크기를 두 집합의 합집합 크기로 나눈 값으로 정의됩니다. 간단한 예를 통해서 이해해보겠습니다.\n",
        "\n"
      ],
      "metadata": {
        "id": "QqyrTtqXo8WW"
      }
    },
    {
      "cell_type": "code",
      "source": [
        "doc1 = \"apple banana everyone like likey watch card holder\"\n",
        "doc2 = \"apple banana coupon passport love you\"\n",
        "\n",
        "# 토큰화\n",
        "tokenized_doc1 = doc1.split()\n",
        "tokenized_doc2 = doc2.split()\n",
        "\n",
        "print('문서 1 :', tokenized_doc1)\n",
        "print('문서 2 :', tokenized_doc2)"
      ],
      "metadata": {
        "colab": {
          "base_uri": "https://localhost:8080/"
        },
        "id": "Fr0KXzSRpVW-",
        "outputId": "af5204f8-50a3-4530-8bf9-b7355967a6e9"
      },
      "execution_count": 25,
      "outputs": [
        {
          "output_type": "stream",
          "name": "stdout",
          "text": [
            "문서 1 : ['apple', 'banana', 'everyone', 'like', 'likey', 'watch', 'card', 'holder']\n",
            "문서 2 : ['apple', 'banana', 'coupon', 'passport', 'love', 'you']\n"
          ]
        }
      ]
    },
    {
      "cell_type": "markdown",
      "source": [
        "문서1과 문서2의 합집합을 구해보겠습니다.\n",
        "\n"
      ],
      "metadata": {
        "id": "tU086_7tpqpo"
      }
    },
    {
      "cell_type": "code",
      "source": [
        "union = set(tokenized_doc1).union(set(tokenized_doc2))\n",
        "print('문서1과 문서2의 합집합 :', union)"
      ],
      "metadata": {
        "colab": {
          "base_uri": "https://localhost:8080/"
        },
        "id": "QLfUK6uEprDL",
        "outputId": "322447dc-9ea9-46b4-8f4c-35e8d9e19530"
      },
      "execution_count": 26,
      "outputs": [
        {
          "output_type": "stream",
          "name": "stdout",
          "text": [
            "문서1과 문서2의 합집합 : {'like', 'banana', 'likey', 'love', 'passport', 'card', 'everyone', 'watch', 'you', 'coupon', 'holder', 'apple'}\n"
          ]
        }
      ]
    },
    {
      "cell_type": "markdown",
      "source": [
        "문서1과 문서2의 합집합의 단어의 총 개수는 12개입니다. 이제 문서1과 문서2의 교집합을 구해보겠습니다. 문서1과 문서2에서 둘 다 등장한 단어를 찾으면 됩니다.\n",
        "\n"
      ],
      "metadata": {
        "id": "miMtD07Rp01K"
      }
    },
    {
      "cell_type": "code",
      "source": [
        ""
      ],
      "metadata": {
        "id": "4HGmFbRsqIxm"
      },
      "execution_count": null,
      "outputs": []
    },
    {
      "cell_type": "code",
      "source": [
        "intersection = set(tokenized_doc1).intersection(set(tokenized_doc2))\n",
        "print('문서1과 문서2의 교집합 :', intersection)"
      ],
      "metadata": {
        "colab": {
          "base_uri": "https://localhost:8080/"
        },
        "id": "6depTI2Fp1Sa",
        "outputId": "ee744f14-8330-4633-d02e-8f5264add96c"
      },
      "execution_count": 27,
      "outputs": [
        {
          "output_type": "stream",
          "name": "stdout",
          "text": [
            "문서1과 문서2의 교집합 : {'banana', 'apple'}\n"
          ]
        }
      ]
    },
    {
      "cell_type": "markdown",
      "source": [
        "문서1과 문서2에서 둘 다 등장한 단어는 banana와 apple 총 2개입니다. 이제 교집합의 크기를 합집합의 크기로 나누면 자카드 유사도가 계산됩니다.\n"
      ],
      "metadata": {
        "id": "aRDALkY4p_Ks"
      }
    },
    {
      "cell_type": "code",
      "source": [
        "print('자카드 유사도 :', len(intersection)/len(union))"
      ],
      "metadata": {
        "colab": {
          "base_uri": "https://localhost:8080/"
        },
        "id": "EI4lhoqzp_uI",
        "outputId": "0994dbd9-4e03-42ff-d547-fe87d1ca450b"
      },
      "execution_count": 28,
      "outputs": [
        {
          "output_type": "stream",
          "name": "stdout",
          "text": [
            "자카드 유사도 : 0.16666666666666666\n"
          ]
        }
      ]
    }
  ]
}